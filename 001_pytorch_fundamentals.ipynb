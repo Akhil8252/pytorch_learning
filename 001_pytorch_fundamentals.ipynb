{
  "nbformat": 4,
  "nbformat_minor": 0,
  "metadata": {
    "colab": {
      "provenance": [],
      "gpuType": "T4",
      "authorship_tag": "ABX9TyP7Nq2pbpVcPYNyPNmUN9gw",
      "include_colab_link": true
    },
    "kernelspec": {
      "name": "python3",
      "display_name": "Python 3"
    },
    "language_info": {
      "name": "python"
    }
  },
  "cells": [
    {
      "cell_type": "markdown",
      "metadata": {
        "id": "view-in-github",
        "colab_type": "text"
      },
      "source": [
        "<a href=\"https://colab.research.google.com/github/Akhil8252/pytorch_learning/blob/main/001_pytorch_fundamentals.ipynb\" target=\"_parent\"><img src=\"https://colab.research.google.com/assets/colab-badge.svg\" alt=\"Open In Colab\"/></a>"
      ]
    },
    {
      "cell_type": "code",
      "source": [
        "import torch\n",
        "import numpy as np\n",
        "import pandas as pd\n",
        "import matplotlib.pyplot as plt\n"
      ],
      "metadata": {
        "id": "GhhzKFDZKCbW"
      },
      "execution_count": 1,
      "outputs": []
    },
    {
      "cell_type": "code",
      "source": [
        "print(torch.__version__)"
      ],
      "metadata": {
        "colab": {
          "base_uri": "https://localhost:8080/"
        },
        "id": "EN9EkGJaLQIq",
        "outputId": "c7de190a-adb1-4d90-fd25-d71f28467968"
      },
      "execution_count": 2,
      "outputs": [
        {
          "output_type": "stream",
          "name": "stdout",
          "text": [
            "2.1.0+cu121\n"
          ]
        }
      ]
    },
    {
      "cell_type": "markdown",
      "source": [
        "<b> Pytorch tensor </b><br>\n",
        "pytorch tensor can be created using torch.tensor"
      ],
      "metadata": {
        "id": "2C38gkdUPKhp"
      }
    },
    {
      "cell_type": "markdown",
      "source": [
        "**pytorch scalar**"
      ],
      "metadata": {
        "id": "yCZuGsOpPhVa"
      }
    },
    {
      "cell_type": "code",
      "source": [
        "\n",
        "\n",
        "\n",
        "\n",
        "\n",
        "\n",
        "scalar = torch.tensor(7)\n",
        "scalar"
      ],
      "metadata": {
        "colab": {
          "base_uri": "https://localhost:8080/"
        },
        "id": "xY-AOn2WMnx2",
        "outputId": "791d8ef4-9d2a-4429-c86e-354f12d2003f"
      },
      "execution_count": 3,
      "outputs": [
        {
          "output_type": "execute_result",
          "data": {
            "text/plain": [
              "tensor(7)"
            ]
          },
          "metadata": {},
          "execution_count": 3
        }
      ]
    },
    {
      "cell_type": "markdown",
      "source": [
        "attributes of torch class"
      ],
      "metadata": {
        "id": "HHhXsnz3QBUY"
      }
    },
    {
      "cell_type": "code",
      "source": [
        "scalar.ndim # it gives the dimension of tensor\n",
        "#scalar has no dimension or is a 0 degree tensor"
      ],
      "metadata": {
        "colab": {
          "base_uri": "https://localhost:8080/"
        },
        "id": "uan9PA3cP7e7",
        "outputId": "59b7dbd0-32d3-4f71-8032-31b6359d339f"
      },
      "execution_count": 4,
      "outputs": [
        {
          "output_type": "execute_result",
          "data": {
            "text/plain": [
              "0"
            ]
          },
          "metadata": {},
          "execution_count": 4
        }
      ]
    },
    {
      "cell_type": "code",
      "source": [
        "#get tensor back as python int\n",
        "scalar.item()"
      ],
      "metadata": {
        "colab": {
          "base_uri": "https://localhost:8080/"
        },
        "id": "7GY8-abAQMJ0",
        "outputId": "5a0e9a24-9980-4c3c-8347-0bce6b7dd19d"
      },
      "execution_count": 5,
      "outputs": [
        {
          "output_type": "execute_result",
          "data": {
            "text/plain": [
              "7"
            ]
          },
          "metadata": {},
          "execution_count": 5
        }
      ]
    },
    {
      "cell_type": "code",
      "source": [
        "type(scalar)"
      ],
      "metadata": {
        "colab": {
          "base_uri": "https://localhost:8080/"
        },
        "id": "u5Nsyu10Q0ZU",
        "outputId": "7433c36d-9053-4182-f19a-cf02b8da4cdf"
      },
      "execution_count": 6,
      "outputs": [
        {
          "output_type": "execute_result",
          "data": {
            "text/plain": [
              "torch.Tensor"
            ]
          },
          "metadata": {},
          "execution_count": 6
        }
      ]
    },
    {
      "cell_type": "markdown",
      "source": [
        "vector"
      ],
      "metadata": {
        "id": "okrUgsIWQ9Qi"
      }
    },
    {
      "cell_type": "code",
      "source": [
        "vector = torch.tensor([1,2,3])\n",
        "vector"
      ],
      "metadata": {
        "colab": {
          "base_uri": "https://localhost:8080/"
        },
        "id": "9jddoHM0Q235",
        "outputId": "98296606-d603-4363-8e49-8fa8bb058f72"
      },
      "execution_count": 7,
      "outputs": [
        {
          "output_type": "execute_result",
          "data": {
            "text/plain": [
              "tensor([1, 2, 3])"
            ]
          },
          "metadata": {},
          "execution_count": 7
        }
      ]
    },
    {
      "cell_type": "code",
      "source": [
        "vector.ndim # for 1 degree tensor we need 1 pair of closing bracket"
      ],
      "metadata": {
        "colab": {
          "base_uri": "https://localhost:8080/"
        },
        "id": "jX4yDJVxRGdI",
        "outputId": "11eb9973-fef2-4d73-9ccb-ba5986b34208"
      },
      "execution_count": 8,
      "outputs": [
        {
          "output_type": "execute_result",
          "data": {
            "text/plain": [
              "1"
            ]
          },
          "metadata": {},
          "execution_count": 8
        }
      ]
    },
    {
      "cell_type": "code",
      "source": [
        "vector.item()#will give error as we are not dealing with a single scalar"
      ],
      "metadata": {
        "colab": {
          "base_uri": "https://localhost:8080/",
          "height": 179
        },
        "id": "QiBhuKGJRVEY",
        "outputId": "62f6fb65-479e-4b13-eb66-3d0667622e60"
      },
      "execution_count": 10,
      "outputs": [
        {
          "output_type": "error",
          "ename": "RuntimeError",
          "evalue": "a Tensor with 3 elements cannot be converted to Scalar",
          "traceback": [
            "\u001b[0;31m---------------------------------------------------------------------------\u001b[0m",
            "\u001b[0;31mRuntimeError\u001b[0m                              Traceback (most recent call last)",
            "\u001b[0;32m<ipython-input-10-c7c2603356d0>\u001b[0m in \u001b[0;36m<cell line: 1>\u001b[0;34m()\u001b[0m\n\u001b[0;32m----> 1\u001b[0;31m \u001b[0mvector\u001b[0m\u001b[0;34m.\u001b[0m\u001b[0mitem\u001b[0m\u001b[0;34m(\u001b[0m\u001b[0;34m)\u001b[0m\u001b[0;31m#will give error as we are not dealing with a single scalar\u001b[0m\u001b[0;34m\u001b[0m\u001b[0;34m\u001b[0m\u001b[0m\n\u001b[0m",
            "\u001b[0;31mRuntimeError\u001b[0m: a Tensor with 3 elements cannot be converted to Scalar"
          ]
        }
      ]
    },
    {
      "cell_type": "code",
      "source": [
        "vector.shape #here 3 simply denotes the no of column"
      ],
      "metadata": {
        "id": "OWhFnuhsRiQa",
        "colab": {
          "base_uri": "https://localhost:8080/"
        },
        "outputId": "899ac01a-c126-4732-f9ae-f8977028ed37"
      },
      "execution_count": 11,
      "outputs": [
        {
          "output_type": "execute_result",
          "data": {
            "text/plain": [
              "torch.Size([3])"
            ]
          },
          "metadata": {},
          "execution_count": 11
        }
      ]
    },
    {
      "cell_type": "code",
      "source": [
        "#MATRIX\n",
        "matrix = torch.tensor([[1,2,3],[4,5,6]])\n",
        "matrix"
      ],
      "metadata": {
        "id": "RXpypv-MRwNm",
        "colab": {
          "base_uri": "https://localhost:8080/"
        },
        "outputId": "5a6e75ad-4c6d-4d4d-e959-b828ff6380e2"
      },
      "execution_count": 12,
      "outputs": [
        {
          "output_type": "execute_result",
          "data": {
            "text/plain": [
              "tensor([[1, 2, 3],\n",
              "        [4, 5, 6]])"
            ]
          },
          "metadata": {},
          "execution_count": 12
        }
      ]
    },
    {
      "cell_type": "code",
      "source": [
        "#here we can see we have included 2 square brackets thus should have dimension as 2\n",
        "matrix.ndim\n"
      ],
      "metadata": {
        "id": "WGvMb88aSCpC",
        "colab": {
          "base_uri": "https://localhost:8080/"
        },
        "outputId": "1eb21641-74bf-4aed-87c0-5914d0696d84"
      },
      "execution_count": 13,
      "outputs": [
        {
          "output_type": "execute_result",
          "data": {
            "text/plain": [
              "2"
            ]
          },
          "metadata": {},
          "execution_count": 13
        }
      ]
    },
    {
      "cell_type": "code",
      "source": [
        "#to access each element of matrix\n",
        "matrix[0]"
      ],
      "metadata": {
        "id": "UdzeeUv5SdMG",
        "colab": {
          "base_uri": "https://localhost:8080/"
        },
        "outputId": "a3681b60-381d-49bc-9139-a7c548226943"
      },
      "execution_count": 14,
      "outputs": [
        {
          "output_type": "execute_result",
          "data": {
            "text/plain": [
              "tensor([1, 2, 3])"
            ]
          },
          "metadata": {},
          "execution_count": 14
        }
      ]
    },
    {
      "cell_type": "code",
      "source": [
        "matrix[0][1]"
      ],
      "metadata": {
        "id": "nSftD00lSiHO",
        "colab": {
          "base_uri": "https://localhost:8080/"
        },
        "outputId": "cb2c9971-d391-49de-c7b0-36b29b2721d3"
      },
      "execution_count": 15,
      "outputs": [
        {
          "output_type": "execute_result",
          "data": {
            "text/plain": [
              "tensor(2)"
            ]
          },
          "metadata": {},
          "execution_count": 15
        }
      ]
    },
    {
      "cell_type": "code",
      "source": [
        "matrix.shape#2 rows and 3 columns"
      ],
      "metadata": {
        "id": "2KRsNNAASmgJ",
        "colab": {
          "base_uri": "https://localhost:8080/"
        },
        "outputId": "ac675d73-cfcf-43fd-8fa9-deacc4d72ef9"
      },
      "execution_count": 16,
      "outputs": [
        {
          "output_type": "execute_result",
          "data": {
            "text/plain": [
              "torch.Size([2, 3])"
            ]
          },
          "metadata": {},
          "execution_count": 16
        }
      ]
    },
    {
      "cell_type": "code",
      "source": [
        "Tensor = torch.tensor([[[2,4,6],[5,8, 7],[5, 8, 9]]])\n",
        "Tensor"
      ],
      "metadata": {
        "id": "hKJ_lf5oS1dj",
        "colab": {
          "base_uri": "https://localhost:8080/"
        },
        "outputId": "fa4b86d5-6343-4645-8356-ae932c5c02d8"
      },
      "execution_count": 17,
      "outputs": [
        {
          "output_type": "execute_result",
          "data": {
            "text/plain": [
              "tensor([[[2, 4, 6],\n",
              "         [5, 8, 7],\n",
              "         [5, 8, 9]]])"
            ]
          },
          "metadata": {},
          "execution_count": 17
        }
      ]
    },
    {
      "cell_type": "code",
      "source": [
        "Tensor.ndim"
      ],
      "metadata": {
        "id": "e0kHLBw_UuAl",
        "colab": {
          "base_uri": "https://localhost:8080/"
        },
        "outputId": "6157ffb9-48ee-472e-8012-717948d69005"
      },
      "execution_count": 18,
      "outputs": [
        {
          "output_type": "execute_result",
          "data": {
            "text/plain": [
              "3"
            ]
          },
          "metadata": {},
          "execution_count": 18
        }
      ]
    },
    {
      "cell_type": "code",
      "source": [
        "Tensor.shape"
      ],
      "metadata": {
        "id": "Onv3fGEMUy7J",
        "colab": {
          "base_uri": "https://localhost:8080/"
        },
        "outputId": "98cc8d39-dbf9-4c77-e292-c2d0c791cc61"
      },
      "execution_count": 19,
      "outputs": [
        {
          "output_type": "execute_result",
          "data": {
            "text/plain": [
              "torch.Size([1, 3, 3])"
            ]
          },
          "metadata": {},
          "execution_count": 19
        }
      ]
    },
    {
      "cell_type": "markdown",
      "source": [
        "#here 1 represents the bigger tensor(overall) or we can say one layer, 3 no of vectors inside the tensor and 2nd 3 represents no of elements in onen vector"
      ],
      "metadata": {
        "id": "PnSJIE5pVXiM"
      }
    },
    {
      "cell_type": "code",
      "source": [
        "Tensor[0]"
      ],
      "metadata": {
        "id": "GMxpitbjU0-k",
        "colab": {
          "base_uri": "https://localhost:8080/"
        },
        "outputId": "cbcedfcf-802c-478b-c8c7-3f2debf673f9"
      },
      "execution_count": 20,
      "outputs": [
        {
          "output_type": "execute_result",
          "data": {
            "text/plain": [
              "tensor([[2, 4, 6],\n",
              "        [5, 8, 7],\n",
              "        [5, 8, 9]])"
            ]
          },
          "metadata": {},
          "execution_count": 20
        }
      ]
    },
    {
      "cell_type": "markdown",
      "source": [],
      "metadata": {
        "id": "nAXnPWpVXvhM"
      }
    },
    {
      "cell_type": "code",
      "source": [
        "Tensor[0][1]"
      ],
      "metadata": {
        "id": "utokilMQVWN9",
        "colab": {
          "base_uri": "https://localhost:8080/"
        },
        "outputId": "bbd22753-5197-46c9-897d-2803201e90e6"
      },
      "execution_count": 21,
      "outputs": [
        {
          "output_type": "execute_result",
          "data": {
            "text/plain": [
              "tensor([5, 8, 7])"
            ]
          },
          "metadata": {},
          "execution_count": 21
        }
      ]
    },
    {
      "cell_type": "markdown",
      "source": [
        "#Random tensor\n",
        "\n",
        "##Random tensors are important because the way NN starts learning they contains many random numbers in it like weights and biases\n",
        "\n",
        "'start with random numbers - >look at the data -> update random numbers -> look at data -> update random numbers"
      ],
      "metadata": {
        "id": "ulk4LwEtWyIu"
      }
    },
    {
      "cell_type": "code",
      "source": [
        "#create a random tensor of size (3,4)\n",
        "random_tensor = torch.rand(3,4)\n",
        "random_tensor"
      ],
      "metadata": {
        "id": "Kpd416K9XWIK",
        "colab": {
          "base_uri": "https://localhost:8080/"
        },
        "outputId": "e8f73549-8382-4233-8288-493d12459a2a"
      },
      "execution_count": 22,
      "outputs": [
        {
          "output_type": "execute_result",
          "data": {
            "text/plain": [
              "tensor([[0.0240, 0.2886, 0.2274, 0.2953],\n",
              "        [0.6604, 0.4562, 0.4870, 0.0201],\n",
              "        [0.7822, 0.8811, 0.1065, 0.6825]])"
            ]
          },
          "metadata": {},
          "execution_count": 22
        }
      ]
    },
    {
      "cell_type": "code",
      "source": [
        "random_tensor1 = torch.rand(2,3,3,4)\n",
        "random_tensor1"
      ],
      "metadata": {
        "id": "b1XAGUL9YE8Y",
        "colab": {
          "base_uri": "https://localhost:8080/"
        },
        "outputId": "41e68764-6a7f-4bf9-913d-c78b8323fbef"
      },
      "execution_count": 23,
      "outputs": [
        {
          "output_type": "execute_result",
          "data": {
            "text/plain": [
              "tensor([[[[4.6152e-01, 8.7341e-01, 4.2971e-01, 4.3289e-01],\n",
              "          [4.8189e-01, 9.7415e-01, 2.9414e-01, 9.5397e-01],\n",
              "          [5.9280e-02, 4.5021e-01, 1.0564e-01, 4.2870e-01]],\n",
              "\n",
              "         [[2.3881e-01, 1.9999e-01, 1.9271e-01, 9.8555e-01],\n",
              "          [1.1682e-01, 7.4514e-01, 6.2218e-01, 1.0383e-01],\n",
              "          [2.9684e-01, 3.6733e-01, 9.4170e-01, 9.8714e-01]],\n",
              "\n",
              "         [[5.8967e-02, 1.5975e-01, 4.1037e-01, 1.9570e-01],\n",
              "          [6.3189e-01, 9.4387e-01, 2.2788e-01, 9.3992e-01],\n",
              "          [5.4963e-01, 6.0115e-01, 2.3842e-06, 7.0950e-02]]],\n",
              "\n",
              "\n",
              "        [[[4.7933e-02, 7.1200e-01, 7.0466e-01, 1.4446e-01],\n",
              "          [3.7409e-01, 7.6803e-01, 1.7285e-01, 9.0521e-01],\n",
              "          [8.9003e-01, 4.0002e-01, 9.8984e-02, 7.9216e-01]],\n",
              "\n",
              "         [[2.0824e-01, 2.1624e-01, 1.3799e-01, 3.3587e-01],\n",
              "          [5.0447e-01, 5.6502e-01, 8.3382e-01, 8.8317e-01],\n",
              "          [4.9947e-01, 4.2396e-01, 2.4415e-01, 8.4557e-02]],\n",
              "\n",
              "         [[4.8010e-01, 3.6565e-01, 8.8489e-02, 5.6638e-01],\n",
              "          [7.5579e-01, 8.9399e-01, 8.7456e-01, 4.7597e-01],\n",
              "          [9.4229e-01, 4.5753e-01, 3.9000e-01, 7.2350e-01]]]])"
            ]
          },
          "metadata": {},
          "execution_count": 23
        }
      ]
    },
    {
      "cell_type": "code",
      "source": [
        "#create a random tensor with similar shape to an image tensor\n",
        "random_image_tensor = torch.rand(size  = (3,224,224))\n",
        "random_image_tensor#height width and color channel,,, color channel should always be first"
      ],
      "metadata": {
        "id": "QYQpKRxqYf-U",
        "colab": {
          "base_uri": "https://localhost:8080/"
        },
        "outputId": "78d876b9-0e31-4e24-c283-20bde6067b98"
      },
      "execution_count": 24,
      "outputs": [
        {
          "output_type": "execute_result",
          "data": {
            "text/plain": [
              "tensor([[[0.2690, 0.0049, 0.2883,  ..., 0.7058, 0.9154, 0.5889],\n",
              "         [0.6367, 0.4413, 0.5787,  ..., 0.7664, 0.1608, 0.5908],\n",
              "         [0.4640, 0.6797, 0.8987,  ..., 0.7143, 0.9534, 0.5130],\n",
              "         ...,\n",
              "         [0.0073, 0.6807, 0.0824,  ..., 0.5912, 0.5160, 0.4580],\n",
              "         [0.8351, 0.3101, 0.2362,  ..., 0.3464, 0.2020, 0.9757],\n",
              "         [0.3392, 0.2263, 0.9290,  ..., 0.7080, 0.8438, 0.6473]],\n",
              "\n",
              "        [[0.5109, 0.0481, 0.7751,  ..., 0.6332, 0.7710, 0.4758],\n",
              "         [0.4344, 0.2530, 0.9309,  ..., 0.2845, 0.4300, 0.9451],\n",
              "         [0.6129, 0.8529, 0.0838,  ..., 0.7664, 0.2360, 0.8523],\n",
              "         ...,\n",
              "         [0.1497, 0.7865, 0.6924,  ..., 0.5650, 0.5805, 0.3126],\n",
              "         [0.2220, 0.0649, 0.6262,  ..., 0.1831, 0.4976, 0.3865],\n",
              "         [0.3591, 0.5088, 0.7134,  ..., 0.1717, 0.4015, 0.0024]],\n",
              "\n",
              "        [[0.9377, 0.0165, 0.1293,  ..., 0.2545, 0.4931, 0.3530],\n",
              "         [0.2842, 0.3909, 0.4973,  ..., 0.7871, 0.1199, 0.7161],\n",
              "         [0.9457, 0.6771, 0.1927,  ..., 0.3059, 0.4858, 0.6336],\n",
              "         ...,\n",
              "         [0.2410, 0.4708, 0.1770,  ..., 0.5183, 0.2883, 0.3981],\n",
              "         [0.2119, 0.2070, 0.0896,  ..., 0.2228, 0.3303, 0.7229],\n",
              "         [0.0882, 0.9098, 0.1672,  ..., 0.9251, 0.8489, 0.5932]]])"
            ]
          },
          "metadata": {},
          "execution_count": 24
        }
      ]
    },
    {
      "cell_type": "code",
      "source": [
        "random_image_tensor.shape"
      ],
      "metadata": {
        "id": "-yeXFJ3naYfR",
        "colab": {
          "base_uri": "https://localhost:8080/"
        },
        "outputId": "d5883882-2e23-445c-ccec-40a22cacfba3"
      },
      "execution_count": 25,
      "outputs": [
        {
          "output_type": "execute_result",
          "data": {
            "text/plain": [
              "torch.Size([3, 224, 224])"
            ]
          },
          "metadata": {},
          "execution_count": 25
        }
      ]
    },
    {
      "cell_type": "code",
      "source": [
        "random_image_tensor1 = torch.rand(size  = (224,224,3))#deep learning library use this\n",
        "random_image_tensor1"
      ],
      "metadata": {
        "id": "JsWSjTz2a_UP",
        "colab": {
          "base_uri": "https://localhost:8080/"
        },
        "outputId": "7b3d8b60-6b26-4a75-cde8-a8783878030c"
      },
      "execution_count": 26,
      "outputs": [
        {
          "output_type": "execute_result",
          "data": {
            "text/plain": [
              "tensor([[[0.7091, 0.6325, 0.0536],\n",
              "         [0.2895, 0.0737, 0.5727],\n",
              "         [0.0967, 0.5506, 0.6734],\n",
              "         ...,\n",
              "         [0.7886, 0.9152, 0.1080],\n",
              "         [0.5883, 0.4486, 0.9434],\n",
              "         [0.7036, 0.9114, 0.2611]],\n",
              "\n",
              "        [[0.1930, 0.3630, 0.8686],\n",
              "         [0.7703, 0.7100, 0.3737],\n",
              "         [0.5458, 0.4158, 0.1311],\n",
              "         ...,\n",
              "         [0.2616, 0.9091, 0.5468],\n",
              "         [0.8411, 0.1674, 0.8300],\n",
              "         [0.3283, 0.6152, 0.6403]],\n",
              "\n",
              "        [[0.8279, 0.1185, 0.0269],\n",
              "         [0.3966, 0.5154, 0.5956],\n",
              "         [0.9362, 0.8415, 0.0470],\n",
              "         ...,\n",
              "         [0.8882, 0.9336, 0.2693],\n",
              "         [0.5836, 0.0372, 0.6788],\n",
              "         [0.5590, 0.1886, 0.6564]],\n",
              "\n",
              "        ...,\n",
              "\n",
              "        [[0.9385, 0.5714, 0.7638],\n",
              "         [0.8983, 0.0176, 0.3429],\n",
              "         [0.7648, 0.0029, 0.0636],\n",
              "         ...,\n",
              "         [0.7034, 0.5733, 0.5141],\n",
              "         [0.7752, 0.5203, 0.9134],\n",
              "         [0.8899, 0.0588, 0.8422]],\n",
              "\n",
              "        [[0.2910, 0.3277, 0.7640],\n",
              "         [0.8078, 0.3961, 0.8949],\n",
              "         [0.7572, 0.4483, 0.5876],\n",
              "         ...,\n",
              "         [0.2200, 0.2225, 0.7001],\n",
              "         [0.1814, 0.1815, 0.8294],\n",
              "         [0.8938, 0.3486, 0.2532]],\n",
              "\n",
              "        [[0.2707, 0.3297, 0.0781],\n",
              "         [0.9768, 0.0764, 0.5785],\n",
              "         [0.9891, 0.5402, 0.2748],\n",
              "         ...,\n",
              "         [0.3103, 0.4478, 0.8745],\n",
              "         [0.4072, 0.4333, 0.8424],\n",
              "         [0.5135, 0.6493, 0.5467]]])"
            ]
          },
          "metadata": {},
          "execution_count": 26
        }
      ]
    },
    {
      "cell_type": "markdown",
      "source": [
        "# we can or can't use size paremeter in torch.rand, its upto us\n",
        "#####random_image_tensor1 = torch.rand(size  = (224,224,3)) and\n",
        "#####random_image_tensor1 = torch.rand((224,224,3)) both are correct"
      ],
      "metadata": {
        "id": "aDe7-HaYccTt"
      }
    },
    {
      "cell_type": "markdown",
      "source": [
        "#creating zeros and ones"
      ],
      "metadata": {
        "id": "zPKjKWfFdand"
      }
    },
    {
      "cell_type": "code",
      "source": [
        "zeros = torch.zeros(3,4) # 3 rows and 4 columns of zeros\n",
        "zeros"
      ],
      "metadata": {
        "id": "Cs96cAtkcpbW",
        "colab": {
          "base_uri": "https://localhost:8080/"
        },
        "outputId": "6e190b39-d4b8-4d02-e16f-79b4f04c5fac"
      },
      "execution_count": 27,
      "outputs": [
        {
          "output_type": "execute_result",
          "data": {
            "text/plain": [
              "tensor([[0., 0., 0., 0.],\n",
              "        [0., 0., 0., 0.],\n",
              "        [0., 0., 0., 0.]])"
            ]
          },
          "metadata": {},
          "execution_count": 27
        }
      ]
    },
    {
      "cell_type": "code",
      "source": [
        "#to check datatypes\n",
        "zeros.dtype  #dtype stands for default datatype"
      ],
      "metadata": {
        "id": "bRUWFXlWeO5B",
        "colab": {
          "base_uri": "https://localhost:8080/"
        },
        "outputId": "e953d751-0060-4bc9-ae0b-5b5412fe2818"
      },
      "execution_count": 28,
      "outputs": [
        {
          "output_type": "execute_result",
          "data": {
            "text/plain": [
              "torch.float32"
            ]
          },
          "metadata": {},
          "execution_count": 28
        }
      ]
    },
    {
      "cell_type": "code",
      "source": [
        "ones = torch.ones(3,4) # 3 rows and 4 columns of zeros\n",
        "ones"
      ],
      "metadata": {
        "id": "naMiBtSbeUtd",
        "colab": {
          "base_uri": "https://localhost:8080/"
        },
        "outputId": "1250c154-4055-452b-8643-d4aa5ef31d53"
      },
      "execution_count": 29,
      "outputs": [
        {
          "output_type": "execute_result",
          "data": {
            "text/plain": [
              "tensor([[1., 1., 1., 1.],\n",
              "        [1., 1., 1., 1.],\n",
              "        [1., 1., 1., 1.]])"
            ]
          },
          "metadata": {},
          "execution_count": 29
        }
      ]
    },
    {
      "cell_type": "markdown",
      "source": [
        "#create a range of tensors or tensors like"
      ],
      "metadata": {
        "id": "v2Hn2n5Fe7dd"
      }
    },
    {
      "cell_type": "markdown",
      "source": [],
      "metadata": {
        "id": "X0vC8aHee7nn"
      }
    },
    {
      "cell_type": "code",
      "source": [
        "torch.range(1,10)"
      ],
      "metadata": {
        "id": "QGSYP2xae0PR",
        "colab": {
          "base_uri": "https://localhost:8080/"
        },
        "outputId": "71a6c33e-887c-4035-ee18-7ed4f2f3fb1b"
      },
      "execution_count": 30,
      "outputs": [
        {
          "output_type": "stream",
          "name": "stderr",
          "text": [
            "<ipython-input-30-a2647884754e>:1: UserWarning: torch.range is deprecated and will be removed in a future release because its behavior is inconsistent with Python's range builtin. Instead, use torch.arange, which produces values in [start, end).\n",
            "  torch.range(1,10)\n"
          ]
        },
        {
          "output_type": "execute_result",
          "data": {
            "text/plain": [
              "tensor([ 1.,  2.,  3.,  4.,  5.,  6.,  7.,  8.,  9., 10.])"
            ]
          },
          "metadata": {},
          "execution_count": 30
        }
      ]
    },
    {
      "cell_type": "code",
      "source": [
        "torch.arange(1,10)"
      ],
      "metadata": {
        "id": "YZMcbks7fJ4Y",
        "colab": {
          "base_uri": "https://localhost:8080/"
        },
        "outputId": "ce0ece61-79ff-4b68-9e60-b386dce8432d"
      },
      "execution_count": 31,
      "outputs": [
        {
          "output_type": "execute_result",
          "data": {
            "text/plain": [
              "tensor([1, 2, 3, 4, 5, 6, 7, 8, 9])"
            ]
          },
          "metadata": {},
          "execution_count": 31
        }
      ]
    },
    {
      "cell_type": "code",
      "source": [
        "a = torch.arange(start = 0,end=1000, step=77)\n",
        "a"
      ],
      "metadata": {
        "id": "U7Bg92W8fQ4B",
        "colab": {
          "base_uri": "https://localhost:8080/"
        },
        "outputId": "fba0c4c7-119d-444d-cd33-1719c8085228"
      },
      "execution_count": 32,
      "outputs": [
        {
          "output_type": "execute_result",
          "data": {
            "text/plain": [
              "tensor([  0,  77, 154, 231, 308, 385, 462, 539, 616, 693, 770, 847, 924])"
            ]
          },
          "metadata": {},
          "execution_count": 32
        }
      ]
    },
    {
      "cell_type": "code",
      "source": [
        "#this can also be written as\n",
        "a = torch.arange(0,1000,77)\n",
        "a"
      ],
      "metadata": {
        "id": "t_MxSeQSfv-2",
        "colab": {
          "base_uri": "https://localhost:8080/"
        },
        "outputId": "3ba71c2a-eed3-4189-999f-2f6d8178c695"
      },
      "execution_count": 33,
      "outputs": [
        {
          "output_type": "execute_result",
          "data": {
            "text/plain": [
              "tensor([  0,  77, 154, 231, 308, 385, 462, 539, 616, 693, 770, 847, 924])"
            ]
          },
          "metadata": {},
          "execution_count": 33
        }
      ]
    },
    {
      "cell_type": "code",
      "source": [
        "# if want to create a tensor of shape equal to another tensor or we can say like tensors, we can use zeros_like method\n",
        "ten_zeros = torch.zeros_like(input = a)\n",
        "ten_zeros"
      ],
      "metadata": {
        "colab": {
          "base_uri": "https://localhost:8080/"
        },
        "id": "RQxI1qsIf4b7",
        "outputId": "8ebc5c7d-1242-4528-89b5-9683e81eb15f"
      },
      "execution_count": 34,
      "outputs": [
        {
          "output_type": "execute_result",
          "data": {
            "text/plain": [
              "tensor([0, 0, 0, 0, 0, 0, 0, 0, 0, 0, 0, 0, 0])"
            ]
          },
          "metadata": {},
          "execution_count": 34
        }
      ]
    },
    {
      "cell_type": "markdown",
      "source": [
        "#tensor datatypes\n",
        "####default datatypes in pytorch is float32,even if we write dtype =none"
      ],
      "metadata": {
        "id": "Or_u-Y3RhnKt"
      }
    },
    {
      "cell_type": "code",
      "source": [
        "#float 32 tensor\n",
        "float_32_tensor = torch.tensor([3.0,2.8,56])\n",
        "float_32_tensor"
      ],
      "metadata": {
        "colab": {
          "base_uri": "https://localhost:8080/"
        },
        "id": "GIUqCaFbf_mG",
        "outputId": "d21281fa-6955-42c8-cc10-529f61e33bd2"
      },
      "execution_count": 35,
      "outputs": [
        {
          "output_type": "execute_result",
          "data": {
            "text/plain": [
              "tensor([ 3.0000,  2.8000, 56.0000])"
            ]
          },
          "metadata": {},
          "execution_count": 35
        }
      ]
    },
    {
      "cell_type": "code",
      "source": [
        "float_32_tensor.dtype"
      ],
      "metadata": {
        "colab": {
          "base_uri": "https://localhost:8080/"
        },
        "id": "9c5nP9K8iLUz",
        "outputId": "8f94bb93-52b0-43ff-d9fa-6d6358c0ebe1"
      },
      "execution_count": 36,
      "outputs": [
        {
          "output_type": "execute_result",
          "data": {
            "text/plain": [
              "torch.float32"
            ]
          },
          "metadata": {},
          "execution_count": 36
        }
      ]
    },
    {
      "cell_type": "code",
      "source": [
        "float_32_tensor = torch.tensor([3.0,2.8,56],dtype=None)\n",
        "float_32_tensor.dtype"
      ],
      "metadata": {
        "colab": {
          "base_uri": "https://localhost:8080/"
        },
        "id": "RM75wXVUiPpG",
        "outputId": "faba723e-4924-4189-ec5a-7bd22294fadc"
      },
      "execution_count": 37,
      "outputs": [
        {
          "output_type": "execute_result",
          "data": {
            "text/plain": [
              "torch.float32"
            ]
          },
          "metadata": {},
          "execution_count": 37
        }
      ]
    },
    {
      "cell_type": "code",
      "source": [
        "float_32_tensor = torch.tensor([3.0,2.8,56],dtype=torch.float16)\n",
        "float_32_tensor.dtype"
      ],
      "metadata": {
        "colab": {
          "base_uri": "https://localhost:8080/"
        },
        "id": "4mtiQUotiXFh",
        "outputId": "c434daa6-25ee-4ffb-ae58-a69915010012"
      },
      "execution_count": 38,
      "outputs": [
        {
          "output_type": "execute_result",
          "data": {
            "text/plain": [
              "torch.float16"
            ]
          },
          "metadata": {},
          "execution_count": 38
        }
      ]
    },
    {
      "cell_type": "code",
      "source": [
        "# Default datatype for tensors is float32\n",
        "float_32_tensor = torch.tensor([3.0, 6.0, 9.0],\n",
        "                               dtype=None, # defaults to None, which is torch.float32 or whatever datatype is passed\n",
        "                               device=None, # defaults to None, which uses the default tensor type\n",
        "                               requires_grad=False) # if True, operations performed on the tensor are recorded\n",
        "\n",
        "float_32_tensor.shape, float_32_tensor.dtype, float_32_tensor.device"
      ],
      "metadata": {
        "colab": {
          "base_uri": "https://localhost:8080/"
        },
        "id": "OBd1I6bLigH7",
        "outputId": "6f06dd9d-e96b-416a-e92a-5c2e1afa0eec"
      },
      "execution_count": 39,
      "outputs": [
        {
          "output_type": "execute_result",
          "data": {
            "text/plain": [
              "(torch.Size([3]), torch.float32, device(type='cpu'))"
            ]
          },
          "metadata": {},
          "execution_count": 39
        }
      ]
    },
    {
      "cell_type": "code",
      "source": [
        "#follow pytorch tensor datatype"
      ],
      "metadata": {
        "id": "c6-JpT6ri6lT"
      },
      "execution_count": 40,
      "outputs": []
    },
    {
      "cell_type": "code",
      "source": [
        "#converting float32 to float16 tensor\n",
        "float_16_tensor = float_32_tensor.type(torch.float16)\n",
        "float_16_tensor"
      ],
      "metadata": {
        "colab": {
          "base_uri": "https://localhost:8080/"
        },
        "id": "H83DAViW-4-C",
        "outputId": "6c3836e5-28bc-43c7-c995-e79111ccb4cc"
      },
      "execution_count": 41,
      "outputs": [
        {
          "output_type": "execute_result",
          "data": {
            "text/plain": [
              "tensor([3., 6., 9.], dtype=torch.float16)"
            ]
          },
          "metadata": {},
          "execution_count": 41
        }
      ]
    },
    {
      "cell_type": "code",
      "source": [
        "float_16_tensor*float_32_tensor"
      ],
      "metadata": {
        "colab": {
          "base_uri": "https://localhost:8080/"
        },
        "id": "tc5cjb8ZAh_p",
        "outputId": "a9c5b6a8-6131-49c9-c323-427a7377a3b2"
      },
      "execution_count": 42,
      "outputs": [
        {
          "output_type": "execute_result",
          "data": {
            "text/plain": [
              "tensor([ 9., 36., 81.])"
            ]
          },
          "metadata": {},
          "execution_count": 42
        }
      ]
    },
    {
      "cell_type": "markdown",
      "source": [
        "this should give error as we are multiplying two tensors with different precision i.e float32 and float 16.but this is giving right result.this is also an issue with pytorch. this will not give results always. for some operations this will result into error if datatypes are different."
      ],
      "metadata": {
        "id": "_1aybczTA91a"
      }
    },
    {
      "cell_type": "code",
      "source": [
        "#getting tensor information"
      ],
      "metadata": {
        "id": "DEiJBwYzA7Sj"
      },
      "execution_count": 43,
      "outputs": []
    },
    {
      "cell_type": "markdown",
      "source": [
        "# tensor data types : - tensor.dtype\n",
        "# tensor shape :- tensor.shape\n",
        "# on which device tensor is running:- tensor.device"
      ],
      "metadata": {
        "id": "1zdWrQFDYI13"
      }
    },
    {
      "cell_type": "code",
      "source": [
        "some_tensor = torch.rand(3,4)\n",
        "some_tensor"
      ],
      "metadata": {
        "colab": {
          "base_uri": "https://localhost:8080/"
        },
        "id": "WB7MhcWbYtAt",
        "outputId": "c378378b-4103-4702-d421-a6efb3d62725"
      },
      "execution_count": 44,
      "outputs": [
        {
          "output_type": "execute_result",
          "data": {
            "text/plain": [
              "tensor([[0.1938, 0.8444, 0.0537, 0.1047],\n",
              "        [0.6288, 0.2380, 0.2552, 0.5222],\n",
              "        [0.6941, 0.5565, 0.6710, 0.5614]])"
            ]
          },
          "metadata": {},
          "execution_count": 44
        }
      ]
    },
    {
      "cell_type": "code",
      "source": [
        "#finding details of some_tensor\n",
        "print(\"datatype of tensor is {}:\".format(some_tensor.dtype))\n",
        "print(f\"datatype of tensor is: {some_tensor.shape}\")\n",
        "print(f\"datatype of tensor is: {some_tensor.device}\")\n"
      ],
      "metadata": {
        "colab": {
          "base_uri": "https://localhost:8080/"
        },
        "id": "ZuTug5C5Y5N9",
        "outputId": "582f2757-34ea-4703-80bf-4350b63bc15c"
      },
      "execution_count": 45,
      "outputs": [
        {
          "output_type": "stream",
          "name": "stdout",
          "text": [
            "datatype of tensor is torch.float32:\n",
            "datatype of tensor is: torch.Size([3, 4])\n",
            "datatype of tensor is: cpu\n"
          ]
        }
      ]
    },
    {
      "cell_type": "code",
      "source": [
        "some_tensor.ndim"
      ],
      "metadata": {
        "colab": {
          "base_uri": "https://localhost:8080/"
        },
        "id": "YQcgbMZdbNKP",
        "outputId": "daeb436c-6ace-4480-c357-e0b18bbddb96"
      },
      "execution_count": 46,
      "outputs": [
        {
          "output_type": "execute_result",
          "data": {
            "text/plain": [
              "2"
            ]
          },
          "metadata": {},
          "execution_count": 46
        }
      ]
    },
    {
      "cell_type": "markdown",
      "source": [
        "#manipulating tensor\n",
        " different operation on tensors\n",
        " 1. addition\n",
        " 2.subtraction\n",
        " 3.multiplication\n",
        " 4.division\n",
        " 5.matrix multiplication"
      ],
      "metadata": {
        "id": "qU_rpBejcLQM"
      }
    },
    {
      "cell_type": "markdown",
      "source": [],
      "metadata": {
        "id": "R4gWaFM-cFDS"
      }
    },
    {
      "cell_type": "code",
      "source": [
        "tensor = torch.tensor([1,2,3])\n",
        "tensor"
      ],
      "metadata": {
        "colab": {
          "base_uri": "https://localhost:8080/"
        },
        "id": "Kn45z87ub5QT",
        "outputId": "b018f79a-c7d6-4d7b-d203-30f81dca8273"
      },
      "execution_count": 47,
      "outputs": [
        {
          "output_type": "execute_result",
          "data": {
            "text/plain": [
              "tensor([1, 2, 3])"
            ]
          },
          "metadata": {},
          "execution_count": 47
        }
      ]
    },
    {
      "cell_type": "code",
      "source": [
        "tensor*10"
      ],
      "metadata": {
        "colab": {
          "base_uri": "https://localhost:8080/"
        },
        "id": "o09TEc1sc-8m",
        "outputId": "1bbde36d-3eae-4420-9bba-b8b2baeb24e6"
      },
      "execution_count": 48,
      "outputs": [
        {
          "output_type": "execute_result",
          "data": {
            "text/plain": [
              "tensor([10, 20, 30])"
            ]
          },
          "metadata": {},
          "execution_count": 48
        }
      ]
    },
    {
      "cell_type": "code",
      "source": [
        "#for multiplication we can use inbuilt function of pytorch.\n",
        "torch.mul(tensor,10)"
      ],
      "metadata": {
        "colab": {
          "base_uri": "https://localhost:8080/"
        },
        "id": "6VATcIPVdAPq",
        "outputId": "28ebcc6b-d1b8-4ce5-f95c-9a691cdc02bd"
      },
      "execution_count": 49,
      "outputs": [
        {
          "output_type": "execute_result",
          "data": {
            "text/plain": [
              "tensor([10, 20, 30])"
            ]
          },
          "metadata": {},
          "execution_count": 49
        }
      ]
    },
    {
      "cell_type": "code",
      "source": [
        "torch.add(tensor,10)"
      ],
      "metadata": {
        "colab": {
          "base_uri": "https://localhost:8080/"
        },
        "id": "MWUDNMRPdNGJ",
        "outputId": "fce4479c-0be5-4028-868b-7bf8ce6c8fde"
      },
      "execution_count": 50,
      "outputs": [
        {
          "output_type": "execute_result",
          "data": {
            "text/plain": [
              "tensor([11, 12, 13])"
            ]
          },
          "metadata": {},
          "execution_count": 50
        }
      ]
    },
    {
      "cell_type": "markdown",
      "source": [
        "# matrix multiplication are of two types:\n",
        "# 1. element wise multiplication\n",
        "# 2. dot product"
      ],
      "metadata": {
        "id": "8ukCTrHCFFik"
      }
    },
    {
      "cell_type": "code",
      "source": [
        "tensor = torch.tensor([1,2,3])"
      ],
      "metadata": {
        "id": "KQWijuERdZCT"
      },
      "execution_count": 51,
      "outputs": []
    },
    {
      "cell_type": "code",
      "source": [
        "print(tensor,\"*\",tensor,\"is\")\n",
        "print(tensor*tensor)#this gives us element wise multiplication"
      ],
      "metadata": {
        "colab": {
          "base_uri": "https://localhost:8080/"
        },
        "id": "ITQUiGrDFczL",
        "outputId": "64e25d78-a5a5-4e82-bf79-20412739d40e"
      },
      "execution_count": 52,
      "outputs": [
        {
          "output_type": "stream",
          "name": "stdout",
          "text": [
            "tensor([1, 2, 3]) * tensor([1, 2, 3]) is\n",
            "tensor([1, 4, 9])\n"
          ]
        }
      ]
    },
    {
      "cell_type": "code",
      "source": [
        "#Matrix multiplication\n",
        "#   matmul is used for matrix multiplication"
      ],
      "metadata": {
        "id": "6gJQbEkFFoSL"
      },
      "execution_count": 53,
      "outputs": []
    },
    {
      "cell_type": "code",
      "source": [
        "torch.matmul(tensor,tensor)"
      ],
      "metadata": {
        "colab": {
          "base_uri": "https://localhost:8080/"
        },
        "id": "WCHzyb9-GPZt",
        "outputId": "899a87b8-0120-492a-99ac-b5ff91a3bf08"
      },
      "execution_count": 54,
      "outputs": [
        {
          "output_type": "execute_result",
          "data": {
            "text/plain": [
              "tensor(14)"
            ]
          },
          "metadata": {},
          "execution_count": 54
        }
      ]
    },
    {
      "cell_type": "code",
      "source": [
        "torch.dot(tensor,tensor)#.dot is also used for matrix multiplication"
      ],
      "metadata": {
        "colab": {
          "base_uri": "https://localhost:8080/"
        },
        "id": "uErPRiM2GmPU",
        "outputId": "e7a898cc-c4e3-4f38-9468-3e9732f5dbeb"
      },
      "execution_count": 55,
      "outputs": [
        {
          "output_type": "execute_result",
          "data": {
            "text/plain": [
              "tensor(14)"
            ]
          },
          "metadata": {},
          "execution_count": 55
        }
      ]
    },
    {
      "cell_type": "code",
      "source": [
        "%%time\n",
        "value = 0\n",
        "for i in range(len(tensor)):\n",
        "  value += tensor[i]*tensor[i]\n",
        "print(value)\n"
      ],
      "metadata": {
        "colab": {
          "base_uri": "https://localhost:8080/"
        },
        "id": "8jOAi6L-Gr9B",
        "outputId": "eb2f0c7d-08f9-4dd4-c0e6-a2d9d098d13b"
      },
      "execution_count": 56,
      "outputs": [
        {
          "output_type": "stream",
          "name": "stdout",
          "text": [
            "tensor(14)\n",
            "CPU times: user 1.83 ms, sys: 0 ns, total: 1.83 ms\n",
            "Wall time: 2.1 ms\n"
          ]
        }
      ]
    },
    {
      "cell_type": "code",
      "source": [
        "%%time\n",
        "torch.matmul(tensor,tensor)"
      ],
      "metadata": {
        "colab": {
          "base_uri": "https://localhost:8080/"
        },
        "id": "woHvPN01HFVE",
        "outputId": "863d3ad0-8ca9-4b72-ca36-b601231623a4"
      },
      "execution_count": 57,
      "outputs": [
        {
          "output_type": "stream",
          "name": "stdout",
          "text": [
            "CPU times: user 78 µs, sys: 0 ns, total: 78 µs\n",
            "Wall time: 83.2 µs\n"
          ]
        },
        {
          "output_type": "execute_result",
          "data": {
            "text/plain": [
              "tensor(14)"
            ]
          },
          "metadata": {},
          "execution_count": 57
        }
      ]
    },
    {
      "cell_type": "markdown",
      "source": [
        "## one of the most common error in deep learning is shape error\n",
        "\n",
        "### There are two rules while performing matrix multiplication\n",
        "\n",
        "1. inner dimension should match\n",
        "- `(3,2) @ (3,2)` won't work\n",
        "- `(3,2) @ (2,3)` will work\n",
        "- `(2,3) @ (3,2)` will work\n",
        "\n",
        "** @ is also  used in matrix multipliocation\n",
        "\n",
        "2. The resulting must have the outer dimension\n",
        "\n",
        "* `(3,2) @ (2,3)`-> (3,3)\n"
      ],
      "metadata": {
        "id": "rPY_KBVwH2nb"
      }
    },
    {
      "cell_type": "code",
      "source": [
        "torch.matmul(torch.rand(3,4),torch.rand(4,3))"
      ],
      "metadata": {
        "colab": {
          "base_uri": "https://localhost:8080/"
        },
        "id": "aRr_DrSdNp5Z",
        "outputId": "c4172428-ba50-4847-c8ea-39a1635e42d3"
      },
      "execution_count": 58,
      "outputs": [
        {
          "output_type": "execute_result",
          "data": {
            "text/plain": [
              "tensor([[1.1572, 1.4835, 0.4395],\n",
              "        [1.2163, 0.8800, 0.2364],\n",
              "        [1.3533, 1.5846, 0.4745]])"
            ]
          },
          "metadata": {},
          "execution_count": 58
        }
      ]
    },
    {
      "cell_type": "code",
      "source": [
        "torch.rand(3,4)@torch.rand(4,3)"
      ],
      "metadata": {
        "colab": {
          "base_uri": "https://localhost:8080/"
        },
        "id": "IGRqi0D_Q5Dc",
        "outputId": "4509e0e4-4475-4730-a525-f4b961abe96d"
      },
      "execution_count": 59,
      "outputs": [
        {
          "output_type": "execute_result",
          "data": {
            "text/plain": [
              "tensor([[0.7502, 0.7798, 1.1630],\n",
              "        [0.7681, 0.7116, 1.1892],\n",
              "        [0.9201, 1.0680, 1.2358]])"
            ]
          },
          "metadata": {},
          "execution_count": 59
        }
      ]
    },
    {
      "cell_type": "markdown",
      "source": [
        "## shape for matrix multiplication"
      ],
      "metadata": {
        "id": "XTruzR9XQ90v"
      }
    },
    {
      "cell_type": "code",
      "source": [
        "tensor_A = torch.tensor([[1,2],\n",
        "                         [3,4],\n",
        "                         [5,6]])\n",
        "tensor_B = torch.tensor([[7,8],\n",
        "                         [3,5],\n",
        "                         [5,6]])\n",
        "\n",
        "#torch.mm is also used for matrix multiplication , where mm is used as alias for matmul\n",
        "torch.matmul(tensor_A,tensor_B)"
      ],
      "metadata": {
        "colab": {
          "base_uri": "https://localhost:8080/",
          "height": 215
        },
        "id": "vSmNiuR1dQTg",
        "outputId": "4c3e67c5-7b3c-4a91-96c2-6f5155c1763f"
      },
      "execution_count": 61,
      "outputs": [
        {
          "output_type": "error",
          "ename": "RuntimeError",
          "evalue": "mat1 and mat2 shapes cannot be multiplied (3x2 and 3x2)",
          "traceback": [
            "\u001b[0;31m---------------------------------------------------------------------------\u001b[0m",
            "\u001b[0;31mRuntimeError\u001b[0m                              Traceback (most recent call last)",
            "\u001b[0;32m<ipython-input-61-ebb385672e7f>\u001b[0m in \u001b[0;36m<cell line: 9>\u001b[0;34m()\u001b[0m\n\u001b[1;32m      7\u001b[0m \u001b[0;34m\u001b[0m\u001b[0m\n\u001b[1;32m      8\u001b[0m \u001b[0;31m#torch.mm is also used for matrix multiplication , where mm is used as alias for matmul\u001b[0m\u001b[0;34m\u001b[0m\u001b[0;34m\u001b[0m\u001b[0m\n\u001b[0;32m----> 9\u001b[0;31m \u001b[0mtorch\u001b[0m\u001b[0;34m.\u001b[0m\u001b[0mmatmul\u001b[0m\u001b[0;34m(\u001b[0m\u001b[0mtensor_A\u001b[0m\u001b[0;34m,\u001b[0m\u001b[0mtensor_B\u001b[0m\u001b[0;34m)\u001b[0m\u001b[0;34m\u001b[0m\u001b[0;34m\u001b[0m\u001b[0m\n\u001b[0m",
            "\u001b[0;31mRuntimeError\u001b[0m: mat1 and mat2 shapes cannot be multiplied (3x2 and 3x2)"
          ]
        }
      ]
    },
    {
      "cell_type": "markdown",
      "source": [
        "### to fix the issues related with shapes we use transpose"
      ],
      "metadata": {
        "id": "e59-J4rzeXk0"
      }
    },
    {
      "cell_type": "code",
      "source": [
        "torch.matmul(tensor_A,tensor_B.T)"
      ],
      "metadata": {
        "colab": {
          "base_uri": "https://localhost:8080/"
        },
        "id": "eE_CkeN4fA2U",
        "outputId": "df49463f-5474-481a-fdc9-cca2a6159e1e"
      },
      "execution_count": 62,
      "outputs": [
        {
          "output_type": "execute_result",
          "data": {
            "text/plain": [
              "tensor([[23, 13, 17],\n",
              "        [53, 29, 39],\n",
              "        [83, 45, 61]])"
            ]
          },
          "metadata": {},
          "execution_count": 62
        }
      ]
    },
    {
      "cell_type": "code",
      "source": [
        "torch.matmul(tensor_A.T,tensor_B)"
      ],
      "metadata": {
        "colab": {
          "base_uri": "https://localhost:8080/"
        },
        "id": "Rqaz7DhIfWNU",
        "outputId": "1b8028d7-8fe3-4b93-8e93-e82eed1c5d7f"
      },
      "execution_count": 63,
      "outputs": [
        {
          "output_type": "execute_result",
          "data": {
            "text/plain": [
              "tensor([[41, 53],\n",
              "        [56, 72]])"
            ]
          },
          "metadata": {},
          "execution_count": 63
        }
      ]
    },
    {
      "cell_type": "markdown",
      "source": [
        "## finding min,max,mean etc (tensor aggregation)"
      ],
      "metadata": {
        "id": "gsqWFjfYfq8f"
      }
    },
    {
      "cell_type": "code",
      "source": [
        "import torch as th"
      ],
      "metadata": {
        "id": "HXtSGPMwuJdU"
      },
      "execution_count": 64,
      "outputs": []
    },
    {
      "cell_type": "code",
      "source": [
        "x = th.arange(0,100,10)\n",
        "x"
      ],
      "metadata": {
        "colab": {
          "base_uri": "https://localhost:8080/"
        },
        "id": "-rc9a2Cnt91R",
        "outputId": "79e653b4-e581-4af8-877e-507310fb418d"
      },
      "execution_count": 65,
      "outputs": [
        {
          "output_type": "execute_result",
          "data": {
            "text/plain": [
              "tensor([ 0, 10, 20, 30, 40, 50, 60, 70, 80, 90])"
            ]
          },
          "metadata": {},
          "execution_count": 65
        }
      ]
    },
    {
      "cell_type": "code",
      "source": [
        "#find the min(x)\n",
        "th.min(x) , x.min()#both will give the result"
      ],
      "metadata": {
        "colab": {
          "base_uri": "https://localhost:8080/"
        },
        "id": "YW2Br-k0uRJQ",
        "outputId": "a2c00e9a-9431-4859-e5a8-0dde651ad0fd"
      },
      "execution_count": 66,
      "outputs": [
        {
          "output_type": "execute_result",
          "data": {
            "text/plain": [
              "(tensor(0), tensor(0))"
            ]
          },
          "metadata": {},
          "execution_count": 66
        }
      ]
    },
    {
      "cell_type": "code",
      "source": [
        "th.max(x) , x.max()#both will give the result"
      ],
      "metadata": {
        "colab": {
          "base_uri": "https://localhost:8080/"
        },
        "id": "FuICcpxcudY9",
        "outputId": "40530f96-1424-4971-d87d-f6da5cd9bdb1"
      },
      "execution_count": 67,
      "outputs": [
        {
          "output_type": "execute_result",
          "data": {
            "text/plain": [
              "(tensor(90), tensor(90))"
            ]
          },
          "metadata": {},
          "execution_count": 67
        }
      ]
    },
    {
      "cell_type": "code",
      "source": [
        "#find the mean\n",
        "th.mean(x)"
      ],
      "metadata": {
        "colab": {
          "base_uri": "https://localhost:8080/",
          "height": 215
        },
        "id": "HfAyhIlUulkz",
        "outputId": "1f9f12d8-13c6-4391-d18b-d407a7aeae26"
      },
      "execution_count": 69,
      "outputs": [
        {
          "output_type": "error",
          "ename": "RuntimeError",
          "evalue": "mean(): could not infer output dtype. Input dtype must be either a floating point or complex dtype. Got: Long",
          "traceback": [
            "\u001b[0;31m---------------------------------------------------------------------------\u001b[0m",
            "\u001b[0;31mRuntimeError\u001b[0m                              Traceback (most recent call last)",
            "\u001b[0;32m<ipython-input-69-f333d33fcaef>\u001b[0m in \u001b[0;36m<cell line: 2>\u001b[0;34m()\u001b[0m\n\u001b[1;32m      1\u001b[0m \u001b[0;31m#find the mean\u001b[0m\u001b[0;34m\u001b[0m\u001b[0;34m\u001b[0m\u001b[0m\n\u001b[0;32m----> 2\u001b[0;31m \u001b[0mth\u001b[0m\u001b[0;34m.\u001b[0m\u001b[0mmean\u001b[0m\u001b[0;34m(\u001b[0m\u001b[0mx\u001b[0m\u001b[0;34m)\u001b[0m\u001b[0;34m\u001b[0m\u001b[0;34m\u001b[0m\u001b[0m\n\u001b[0m",
            "\u001b[0;31mRuntimeError\u001b[0m: mean(): could not infer output dtype. Input dtype must be either a floating point or complex dtype. Got: Long"
          ]
        }
      ]
    },
    {
      "cell_type": "code",
      "source": [
        "x.dtype"
      ],
      "metadata": {
        "colab": {
          "base_uri": "https://localhost:8080/"
        },
        "id": "Yg0Rla3tvJ7s",
        "outputId": "7729d9d3-66a8-457e-98b6-decb3dde216e"
      },
      "execution_count": 70,
      "outputs": [
        {
          "output_type": "execute_result",
          "data": {
            "text/plain": [
              "torch.int64"
            ]
          },
          "metadata": {},
          "execution_count": 70
        }
      ]
    },
    {
      "cell_type": "code",
      "source": [
        "#since x is an int64 datatype thus we need to convert it in a float32\n",
        "#torch.mean() requires a tensor of float32 datatype\n",
        "th.mean(x.type(th.float32)),x.type(th.float32).mean()"
      ],
      "metadata": {
        "colab": {
          "base_uri": "https://localhost:8080/"
        },
        "id": "o1qNf9x4vNXV",
        "outputId": "c1693f01-d946-49d5-9650-95a4916d330d"
      },
      "execution_count": 71,
      "outputs": [
        {
          "output_type": "execute_result",
          "data": {
            "text/plain": [
              "(tensor(45.), tensor(45.))"
            ]
          },
          "metadata": {},
          "execution_count": 71
        }
      ]
    },
    {
      "cell_type": "code",
      "source": [
        "#find the sum\n",
        "x.sum(),th.sum(x)"
      ],
      "metadata": {
        "colab": {
          "base_uri": "https://localhost:8080/"
        },
        "id": "BBKZiXxOvVl_",
        "outputId": "cc89ae5d-5a2e-4c70-b797-15ceb06a3a5a"
      },
      "execution_count": 72,
      "outputs": [
        {
          "output_type": "execute_result",
          "data": {
            "text/plain": [
              "(tensor(450), tensor(450))"
            ]
          },
          "metadata": {},
          "execution_count": 72
        }
      ]
    },
    {
      "cell_type": "markdown",
      "source": [
        "## positional min and max\n",
        "### i.e the index at which min and max is there"
      ],
      "metadata": {
        "id": "HTdBfcpmwY63"
      }
    },
    {
      "cell_type": "code",
      "source": [
        "x"
      ],
      "metadata": {
        "colab": {
          "base_uri": "https://localhost:8080/"
        },
        "id": "Zujzvh8WxAWW",
        "outputId": "be9e5ea3-20f8-4242-b3cf-c782cf6645a1"
      },
      "execution_count": 73,
      "outputs": [
        {
          "output_type": "execute_result",
          "data": {
            "text/plain": [
              "tensor([ 0, 10, 20, 30, 40, 50, 60, 70, 80, 90])"
            ]
          },
          "metadata": {},
          "execution_count": 73
        }
      ]
    },
    {
      "cell_type": "code",
      "source": [
        "torch.argmax(x)"
      ],
      "metadata": {
        "colab": {
          "base_uri": "https://localhost:8080/"
        },
        "id": "DDLsXfPEwnQv",
        "outputId": "92b111b3-61c5-4a8b-ac8a-8ec633b4e23b"
      },
      "execution_count": 74,
      "outputs": [
        {
          "output_type": "execute_result",
          "data": {
            "text/plain": [
              "tensor(9)"
            ]
          },
          "metadata": {},
          "execution_count": 74
        }
      ]
    },
    {
      "cell_type": "code",
      "source": [
        "torch.argmin(x)"
      ],
      "metadata": {
        "colab": {
          "base_uri": "https://localhost:8080/"
        },
        "id": "oLj1x7TqxCH0",
        "outputId": "9fdebdfc-d726-4ca9-b481-2efc906bb003"
      },
      "execution_count": 75,
      "outputs": [
        {
          "output_type": "execute_result",
          "data": {
            "text/plain": [
              "tensor(0)"
            ]
          },
          "metadata": {},
          "execution_count": 75
        }
      ]
    },
    {
      "cell_type": "code",
      "source": [
        "x[0].item()"
      ],
      "metadata": {
        "colab": {
          "base_uri": "https://localhost:8080/"
        },
        "id": "TKR1xcuDxFT9",
        "outputId": "c5c54ddd-cec5-40ff-f63c-55c9eb243ddf"
      },
      "execution_count": 76,
      "outputs": [
        {
          "output_type": "execute_result",
          "data": {
            "text/plain": [
              "0"
            ]
          },
          "metadata": {},
          "execution_count": 76
        }
      ]
    },
    {
      "cell_type": "markdown",
      "source": [
        "## reshaping,stacking, squeezing and unsqueezing tensors\n",
        "- Reshaping : - reshapes a tensor to desired shape\n",
        "- view : - return a view of an input tensor of certain shape but keeps the same memory as originl tensor\n",
        "- stacking : - combine multiple tensors ob the top of each other (vstack) or side by side(hstack)\n",
        "- follow  \"https://pytorch.org/docs/stable/generated/torch.vstack.html\"\n",
        "- squeeze : - remove all `1` dimensions from the tensor\n",
        "- unsqueeze : - add a `1` dimension to a target tensor\n",
        "- permute : - return a view of the input with dimensions permuted (swapped) in  a certain way"
      ],
      "metadata": {
        "id": "GgjGUcRPxVTL"
      }
    },
    {
      "cell_type": "code",
      "source": [
        "x = torch.arange(1.,10.)\n",
        "x, x.shape"
      ],
      "metadata": {
        "colab": {
          "base_uri": "https://localhost:8080/"
        },
        "id": "qg72Lr3Z0yFe",
        "outputId": "a566e56e-3a0c-433f-f263-c0e904a41765"
      },
      "execution_count": 77,
      "outputs": [
        {
          "output_type": "execute_result",
          "data": {
            "text/plain": [
              "(tensor([1., 2., 3., 4., 5., 6., 7., 8., 9.]), torch.Size([9]))"
            ]
          },
          "metadata": {},
          "execution_count": 77
        }
      ]
    },
    {
      "cell_type": "code",
      "source": [
        "x.reshape(1,7)# we can't squeeze 9 elements into 7"
      ],
      "metadata": {
        "colab": {
          "base_uri": "https://localhost:8080/",
          "height": 179
        },
        "id": "Cd6TPtBH2ex4",
        "outputId": "1c89b929-4777-444e-8471-13075b67fbeb"
      },
      "execution_count": 79,
      "outputs": [
        {
          "output_type": "error",
          "ename": "RuntimeError",
          "evalue": "shape '[1, 7]' is invalid for input of size 9",
          "traceback": [
            "\u001b[0;31m---------------------------------------------------------------------------\u001b[0m",
            "\u001b[0;31mRuntimeError\u001b[0m                              Traceback (most recent call last)",
            "\u001b[0;32m<ipython-input-79-7124480e47b5>\u001b[0m in \u001b[0;36m<cell line: 1>\u001b[0;34m()\u001b[0m\n\u001b[0;32m----> 1\u001b[0;31m \u001b[0mx\u001b[0m\u001b[0;34m.\u001b[0m\u001b[0mreshape\u001b[0m\u001b[0;34m(\u001b[0m\u001b[0;36m1\u001b[0m\u001b[0;34m,\u001b[0m\u001b[0;36m7\u001b[0m\u001b[0;34m)\u001b[0m\u001b[0;31m# we can't squeeze 9 elements into 7\u001b[0m\u001b[0;34m\u001b[0m\u001b[0;34m\u001b[0m\u001b[0m\n\u001b[0m",
            "\u001b[0;31mRuntimeError\u001b[0m: shape '[1, 7]' is invalid for input of size 9"
          ]
        }
      ]
    },
    {
      "cell_type": "code",
      "source": [
        "print(x.reshape(1,9)) #converted into a tensor having 1 row and 9 columns\n",
        "print( x.shape[0])"
      ],
      "metadata": {
        "colab": {
          "base_uri": "https://localhost:8080/"
        },
        "id": "Hu1v8hcB3EYy",
        "outputId": "c1809ccd-d658-42c7-d3a2-9bb8fe7f9db4"
      },
      "execution_count": 80,
      "outputs": [
        {
          "output_type": "stream",
          "name": "stdout",
          "text": [
            "tensor([[1., 2., 3., 4., 5., 6., 7., 8., 9.]])\n",
            "9\n"
          ]
        }
      ]
    },
    {
      "cell_type": "code",
      "source": [
        "x.reshape(9,1),x.shape"
      ],
      "metadata": {
        "colab": {
          "base_uri": "https://localhost:8080/"
        },
        "id": "X7-5QmQO3NCx",
        "outputId": "0acacdbd-5bdd-4f15-a7cf-81ff829e6ed6"
      },
      "execution_count": 81,
      "outputs": [
        {
          "output_type": "execute_result",
          "data": {
            "text/plain": [
              "(tensor([[1.],\n",
              "         [2.],\n",
              "         [3.],\n",
              "         [4.],\n",
              "         [5.],\n",
              "         [6.],\n",
              "         [7.],\n",
              "         [8.],\n",
              "         [9.]]),\n",
              " torch.Size([9]))"
            ]
          },
          "metadata": {},
          "execution_count": 81
        }
      ]
    },
    {
      "cell_type": "code",
      "source": [
        "x.reshape(3,3)"
      ],
      "metadata": {
        "colab": {
          "base_uri": "https://localhost:8080/"
        },
        "id": "SOj_m7h83f4v",
        "outputId": "f2fbabdb-8477-4fbc-f3a5-7950bd72d966"
      },
      "execution_count": 82,
      "outputs": [
        {
          "output_type": "execute_result",
          "data": {
            "text/plain": [
              "tensor([[1., 2., 3.],\n",
              "        [4., 5., 6.],\n",
              "        [7., 8., 9.]])"
            ]
          },
          "metadata": {},
          "execution_count": 82
        }
      ]
    },
    {
      "cell_type": "code",
      "source": [
        "#change the view\n",
        "z = x.view(1,9)"
      ],
      "metadata": {
        "id": "JgpPX9SE3tVg"
      },
      "execution_count": 83,
      "outputs": []
    },
    {
      "cell_type": "code",
      "source": [
        "z, z.shape"
      ],
      "metadata": {
        "colab": {
          "base_uri": "https://localhost:8080/"
        },
        "id": "otJy36u24YxC",
        "outputId": "e0af9d97-f515-4f69-e699-b641d808f5c5"
      },
      "execution_count": 84,
      "outputs": [
        {
          "output_type": "execute_result",
          "data": {
            "text/plain": [
              "(tensor([[1., 2., 3., 4., 5., 6., 7., 8., 9.]]), torch.Size([1, 9]))"
            ]
          },
          "metadata": {},
          "execution_count": 84
        }
      ]
    },
    {
      "cell_type": "markdown",
      "source": [
        "#### changing z changes x, because  a view of a tensor shares the same memory as the original"
      ],
      "metadata": {
        "id": "n4-nTS-i4cXE"
      }
    },
    {
      "cell_type": "code",
      "source": [
        "z[:,0] = 15\n",
        "z , x# 1st element of both z and x have been changed"
      ],
      "metadata": {
        "colab": {
          "base_uri": "https://localhost:8080/"
        },
        "id": "JSiYZsXP4ymh",
        "outputId": "4166c145-6c3a-4591-bdde-f21cc03b6e7c"
      },
      "execution_count": 85,
      "outputs": [
        {
          "output_type": "execute_result",
          "data": {
            "text/plain": [
              "(tensor([[15.,  2.,  3.,  4.,  5.,  6.,  7.,  8.,  9.]]),\n",
              " tensor([15.,  2.,  3.,  4.,  5.,  6.,  7.,  8.,  9.]))"
            ]
          },
          "metadata": {},
          "execution_count": 85
        }
      ]
    },
    {
      "cell_type": "markdown",
      "source": [
        "### stacking the tensor"
      ],
      "metadata": {
        "id": "nyvffIKz45Y1"
      }
    },
    {
      "cell_type": "code",
      "source": [
        "#stack tensors on top of each other\n",
        "x_stacked = torch.vstack([x,x,x,x]) # vstack means on the top of each other\n",
        "x_stacked"
      ],
      "metadata": {
        "colab": {
          "base_uri": "https://localhost:8080/"
        },
        "id": "2oZxpBrp5lV4",
        "outputId": "46dbe459-fa92-43de-afb0-95ec34a8fd49"
      },
      "execution_count": 86,
      "outputs": [
        {
          "output_type": "execute_result",
          "data": {
            "text/plain": [
              "tensor([[15.,  2.,  3.,  4.,  5.,  6.,  7.,  8.,  9.],\n",
              "        [15.,  2.,  3.,  4.,  5.,  6.,  7.,  8.,  9.],\n",
              "        [15.,  2.,  3.,  4.,  5.,  6.,  7.,  8.,  9.],\n",
              "        [15.,  2.,  3.,  4.,  5.,  6.,  7.,  8.,  9.]])"
            ]
          },
          "metadata": {},
          "execution_count": 86
        }
      ]
    },
    {
      "cell_type": "code",
      "source": [
        "x_stacked = torch.stack([x,x,x,x])# stack can be used for any sort of stacking\n",
        "x_stacked"
      ],
      "metadata": {
        "colab": {
          "base_uri": "https://localhost:8080/"
        },
        "id": "gm7Fdd666UuN",
        "outputId": "932660aa-cb0e-40f2-e4de-91ca1a05bdc8"
      },
      "execution_count": 87,
      "outputs": [
        {
          "output_type": "execute_result",
          "data": {
            "text/plain": [
              "tensor([[15.,  2.,  3.,  4.,  5.,  6.,  7.,  8.,  9.],\n",
              "        [15.,  2.,  3.,  4.,  5.,  6.,  7.,  8.,  9.],\n",
              "        [15.,  2.,  3.,  4.,  5.,  6.,  7.,  8.,  9.],\n",
              "        [15.,  2.,  3.,  4.,  5.,  6.,  7.,  8.,  9.]])"
            ]
          },
          "metadata": {},
          "execution_count": 87
        }
      ]
    },
    {
      "cell_type": "code",
      "source": [
        "x_stacked = torch.stack([x,x,x,x],dim = 0)  # dimension 0 means vertical stack, this is the default\n",
        "x_stacked"
      ],
      "metadata": {
        "colab": {
          "base_uri": "https://localhost:8080/"
        },
        "id": "IRPEMUoG6giM",
        "outputId": "81231fdf-15c6-4610-8c51-87c02d8be28d"
      },
      "execution_count": 88,
      "outputs": [
        {
          "output_type": "execute_result",
          "data": {
            "text/plain": [
              "tensor([[15.,  2.,  3.,  4.,  5.,  6.,  7.,  8.,  9.],\n",
              "        [15.,  2.,  3.,  4.,  5.,  6.,  7.,  8.,  9.],\n",
              "        [15.,  2.,  3.,  4.,  5.,  6.,  7.,  8.,  9.],\n",
              "        [15.,  2.,  3.,  4.,  5.,  6.,  7.,  8.,  9.]])"
            ]
          },
          "metadata": {},
          "execution_count": 88
        }
      ]
    },
    {
      "cell_type": "code",
      "source": [
        "x_stacked = torch.stack([x,x,x,x],dim = 1) # dim 1  first reshapes the tensor and then stacking takes place\n",
        "x_stacked"
      ],
      "metadata": {
        "colab": {
          "base_uri": "https://localhost:8080/"
        },
        "id": "hAQYn6sQ65HF",
        "outputId": "58c920e0-9326-43ca-8e19-ee9f30edb01d"
      },
      "execution_count": 89,
      "outputs": [
        {
          "output_type": "execute_result",
          "data": {
            "text/plain": [
              "tensor([[15., 15., 15., 15.],\n",
              "        [ 2.,  2.,  2.,  2.],\n",
              "        [ 3.,  3.,  3.,  3.],\n",
              "        [ 4.,  4.,  4.,  4.],\n",
              "        [ 5.,  5.,  5.,  5.],\n",
              "        [ 6.,  6.,  6.,  6.],\n",
              "        [ 7.,  7.,  7.,  7.],\n",
              "        [ 8.,  8.,  8.,  8.],\n",
              "        [ 9.,  9.,  9.,  9.]])"
            ]
          },
          "metadata": {},
          "execution_count": 89
        }
      ]
    },
    {
      "cell_type": "code",
      "source": [
        "x_stacked = torch.hstack([x,x,x,x])\n",
        "x_stacked"
      ],
      "metadata": {
        "colab": {
          "base_uri": "https://localhost:8080/"
        },
        "id": "kD700Uh26_D-",
        "outputId": "33ec0e2c-47e9-4ac9-a13a-01d9d3183698"
      },
      "execution_count": 90,
      "outputs": [
        {
          "output_type": "execute_result",
          "data": {
            "text/plain": [
              "tensor([15.,  2.,  3.,  4.,  5.,  6.,  7.,  8.,  9., 15.,  2.,  3.,  4.,  5.,\n",
              "         6.,  7.,  8.,  9., 15.,  2.,  3.,  4.,  5.,  6.,  7.,  8.,  9., 15.,\n",
              "         2.,  3.,  4.,  5.,  6.,  7.,  8.,  9.])"
            ]
          },
          "metadata": {},
          "execution_count": 90
        }
      ]
    },
    {
      "cell_type": "markdown",
      "source": [
        "### seueeze and unsqueeze"
      ],
      "metadata": {
        "id": "_hTTsT4Z7cSf"
      }
    },
    {
      "cell_type": "code",
      "source": [
        "# squeeze removes one dimension from the tensor i.e if there are 2 square brackets in the tensor this will remove one thus only one will be left\n",
        "X = torch.arange(1,10)\n",
        "X.shape"
      ],
      "metadata": {
        "colab": {
          "base_uri": "https://localhost:8080/"
        },
        "id": "G_2mN3es9AFG",
        "outputId": "60f2d230-1b56-40d2-8f89-50de2871e275"
      },
      "execution_count": 91,
      "outputs": [
        {
          "output_type": "execute_result",
          "data": {
            "text/plain": [
              "torch.Size([9])"
            ]
          },
          "metadata": {},
          "execution_count": 91
        }
      ]
    },
    {
      "cell_type": "code",
      "source": [
        "print(f\"previous x tensor is : {X}\")\n",
        "print(f\"shape of  x tensor is : {X.shape }\")\n",
        "print(f\"reshaped tensor is x_reshaped : { X.reshape(1,9)}\")\n",
        "print(f\"shape of X_reshaped  is: {X.reshape(1,9).shape}\")\n",
        "\n",
        "print(\"after squeezing\")\n",
        "print(f\"X_reshaped after squeezing is : { X.reshape(1,9).squeeze()}\")\n",
        "print(f\"shape of X_reshaped after squeezing is : { X.reshape(1,9).squeeze().shape}\")\n"
      ],
      "metadata": {
        "colab": {
          "base_uri": "https://localhost:8080/"
        },
        "id": "mJMC-55Z_4w2",
        "outputId": "d01f8396-d381-4179-bc3b-68f29d8a380d"
      },
      "execution_count": 92,
      "outputs": [
        {
          "output_type": "stream",
          "name": "stdout",
          "text": [
            "previous x tensor is : tensor([1, 2, 3, 4, 5, 6, 7, 8, 9])\n",
            "shape of  x tensor is : torch.Size([9])\n",
            "reshaped tensor is x_reshaped : tensor([[1, 2, 3, 4, 5, 6, 7, 8, 9]])\n",
            "shape of X_reshaped  is: torch.Size([1, 9])\n",
            "after squeezing\n",
            "X_reshaped after squeezing is : tensor([1, 2, 3, 4, 5, 6, 7, 8, 9])\n",
            "shape of X_reshaped after squeezing is : torch.Size([9])\n"
          ]
        }
      ]
    },
    {
      "cell_type": "code",
      "source": [
        "X_squeezed = X.reshape(1,9).squeeze()\n",
        "print(f\"previous x_squeezed tensor is : {X_squeezed }\")\n",
        "print(f\"\\nshape of  x_squeezed tensor is : {X_squeezed.shape }\")\n",
        "\n",
        "print(\"\\nafter squeezing\")\n",
        "X_unsqueezed = X_squeezed.unsqueeze(dim=0)\n",
        "print(f\"\\nX_unsqueezed  after unsqueezing is : { X_unsqueezed}\")\n",
        "print(f\"shape of X_unsqueezed after unsqueezing is : { X_unsqueezed.shape}\")"
      ],
      "metadata": {
        "colab": {
          "base_uri": "https://localhost:8080/"
        },
        "id": "S0CQF9h6DUI0",
        "outputId": "719a0968-9a5c-4bb8-bfe8-0965703e70ff"
      },
      "execution_count": 93,
      "outputs": [
        {
          "output_type": "stream",
          "name": "stdout",
          "text": [
            "previous x_squeezed tensor is : tensor([1, 2, 3, 4, 5, 6, 7, 8, 9])\n",
            "\n",
            "shape of  x_squeezed tensor is : torch.Size([9])\n",
            "\n",
            "after squeezing\n",
            "\n",
            "X_unsqueezed  after unsqueezing is : tensor([[1, 2, 3, 4, 5, 6, 7, 8, 9]])\n",
            "shape of X_unsqueezed after unsqueezing is : torch.Size([1, 9])\n"
          ]
        }
      ]
    },
    {
      "cell_type": "code",
      "source": [
        "X_unsqueezed = X_squeezed.unsqueeze(dim=1)\n",
        "print(f\"\\nX_unsqueezed  after unsqueezing is : { X_unsqueezed}\")\n",
        "print(f\"shape of X_unsqueezed after unsqueezing is : { X_unsqueezed.shape}\")"
      ],
      "metadata": {
        "colab": {
          "base_uri": "https://localhost:8080/"
        },
        "id": "56Ybr-8VFo2B",
        "outputId": "b3135a44-bdeb-4fb8-82aa-daf54411d2c8"
      },
      "execution_count": 94,
      "outputs": [
        {
          "output_type": "stream",
          "name": "stdout",
          "text": [
            "\n",
            "X_unsqueezed  after unsqueezing is : tensor([[1],\n",
            "        [2],\n",
            "        [3],\n",
            "        [4],\n",
            "        [5],\n",
            "        [6],\n",
            "        [7],\n",
            "        [8],\n",
            "        [9]])\n",
            "shape of X_unsqueezed after unsqueezing is : torch.Size([9, 1])\n"
          ]
        }
      ]
    },
    {
      "cell_type": "code",
      "source": [
        "### permute : - rearranges the dimensions of a target tensor in a specified order\n",
        "x_original  = torch.rand(size = (224,224,3)) #[height,width,no of channels]\n",
        "x_original"
      ],
      "metadata": {
        "colab": {
          "base_uri": "https://localhost:8080/"
        },
        "id": "jkKBbwGuF5pC",
        "outputId": "8a03684a-5e23-4bbe-b290-85285000035a"
      },
      "execution_count": 95,
      "outputs": [
        {
          "output_type": "execute_result",
          "data": {
            "text/plain": [
              "tensor([[[0.1348, 0.5848, 0.9986],\n",
              "         [0.1549, 0.9625, 0.3557],\n",
              "         [0.8464, 0.4321, 0.9553],\n",
              "         ...,\n",
              "         [0.3942, 0.1306, 0.5376],\n",
              "         [0.8600, 0.9156, 0.2756],\n",
              "         [0.7403, 0.3806, 0.9659]],\n",
              "\n",
              "        [[0.6558, 0.2222, 0.8387],\n",
              "         [0.7067, 0.8495, 0.1323],\n",
              "         [0.0712, 0.1781, 0.7344],\n",
              "         ...,\n",
              "         [0.2114, 0.0270, 0.7075],\n",
              "         [0.6087, 0.8413, 0.6058],\n",
              "         [0.2985, 0.6810, 0.2485]],\n",
              "\n",
              "        [[0.8675, 0.6015, 0.5801],\n",
              "         [0.4153, 0.1205, 0.4522],\n",
              "         [0.3097, 0.2793, 0.8254],\n",
              "         ...,\n",
              "         [0.3713, 0.3208, 0.7229],\n",
              "         [0.1709, 0.8474, 0.9428],\n",
              "         [0.1265, 0.4467, 0.8833]],\n",
              "\n",
              "        ...,\n",
              "\n",
              "        [[0.3911, 0.9797, 0.6557],\n",
              "         [0.0932, 0.3352, 0.7268],\n",
              "         [0.5970, 0.4058, 0.8032],\n",
              "         ...,\n",
              "         [0.4995, 0.3647, 0.3507],\n",
              "         [0.1294, 0.2752, 0.9516],\n",
              "         [0.5365, 0.8612, 0.9261]],\n",
              "\n",
              "        [[0.8790, 0.1519, 0.5211],\n",
              "         [0.1420, 0.1530, 0.0062],\n",
              "         [0.9525, 0.1126, 0.4885],\n",
              "         ...,\n",
              "         [0.2915, 0.9708, 0.8457],\n",
              "         [0.9973, 0.2536, 0.6921],\n",
              "         [0.1264, 0.7555, 0.3032]],\n",
              "\n",
              "        [[0.8177, 0.9203, 0.6309],\n",
              "         [0.4150, 0.8715, 0.3208],\n",
              "         [0.1084, 0.1559, 0.0668],\n",
              "         ...,\n",
              "         [0.4023, 0.7204, 0.8380],\n",
              "         [0.1679, 0.7570, 0.9125],\n",
              "         [0.4720, 0.3997, 0.1960]]])"
            ]
          },
          "metadata": {},
          "execution_count": 95
        }
      ]
    },
    {
      "cell_type": "code",
      "source": [
        "#permute this so that the no of channels will be the first, height will be the 2nd one and the width will be third one\n",
        "x_permuted = x_original.permute(2,0,1)\n",
        "x_permuted"
      ],
      "metadata": {
        "colab": {
          "base_uri": "https://localhost:8080/"
        },
        "id": "RoHHDDQWGo54",
        "outputId": "9735301f-0dc9-4aab-e074-6b4df94081e5"
      },
      "execution_count": 96,
      "outputs": [
        {
          "output_type": "execute_result",
          "data": {
            "text/plain": [
              "tensor([[[0.1348, 0.1549, 0.8464,  ..., 0.3942, 0.8600, 0.7403],\n",
              "         [0.6558, 0.7067, 0.0712,  ..., 0.2114, 0.6087, 0.2985],\n",
              "         [0.8675, 0.4153, 0.3097,  ..., 0.3713, 0.1709, 0.1265],\n",
              "         ...,\n",
              "         [0.3911, 0.0932, 0.5970,  ..., 0.4995, 0.1294, 0.5365],\n",
              "         [0.8790, 0.1420, 0.9525,  ..., 0.2915, 0.9973, 0.1264],\n",
              "         [0.8177, 0.4150, 0.1084,  ..., 0.4023, 0.1679, 0.4720]],\n",
              "\n",
              "        [[0.5848, 0.9625, 0.4321,  ..., 0.1306, 0.9156, 0.3806],\n",
              "         [0.2222, 0.8495, 0.1781,  ..., 0.0270, 0.8413, 0.6810],\n",
              "         [0.6015, 0.1205, 0.2793,  ..., 0.3208, 0.8474, 0.4467],\n",
              "         ...,\n",
              "         [0.9797, 0.3352, 0.4058,  ..., 0.3647, 0.2752, 0.8612],\n",
              "         [0.1519, 0.1530, 0.1126,  ..., 0.9708, 0.2536, 0.7555],\n",
              "         [0.9203, 0.8715, 0.1559,  ..., 0.7204, 0.7570, 0.3997]],\n",
              "\n",
              "        [[0.9986, 0.3557, 0.9553,  ..., 0.5376, 0.2756, 0.9659],\n",
              "         [0.8387, 0.1323, 0.7344,  ..., 0.7075, 0.6058, 0.2485],\n",
              "         [0.5801, 0.4522, 0.8254,  ..., 0.7229, 0.9428, 0.8833],\n",
              "         ...,\n",
              "         [0.6557, 0.7268, 0.8032,  ..., 0.3507, 0.9516, 0.9261],\n",
              "         [0.5211, 0.0062, 0.4885,  ..., 0.8457, 0.6921, 0.3032],\n",
              "         [0.6309, 0.3208, 0.0668,  ..., 0.8380, 0.9125, 0.1960]]])"
            ]
          },
          "metadata": {},
          "execution_count": 96
        }
      ]
    },
    {
      "cell_type": "code",
      "source": [
        "print(f\"original shape:{x_original.shape}\")\n",
        "print(f\"permuted shape:{x_permuted.shape}\")"
      ],
      "metadata": {
        "colab": {
          "base_uri": "https://localhost:8080/"
        },
        "id": "yI0Icj30HKr3",
        "outputId": "009ab432-8489-4aa0-b938-57a8c8adc42c"
      },
      "execution_count": 97,
      "outputs": [
        {
          "output_type": "stream",
          "name": "stdout",
          "text": [
            "original shape:torch.Size([224, 224, 3])\n",
            "permuted shape:torch.Size([3, 224, 224])\n"
          ]
        }
      ]
    },
    {
      "cell_type": "code",
      "source": [
        "torch.randn(2,1,3)"
      ],
      "metadata": {
        "colab": {
          "base_uri": "https://localhost:8080/"
        },
        "id": "OXnLig5BH3km",
        "outputId": "25bb8dbf-5a10-4385-b605-ba09eaff8514"
      },
      "execution_count": 98,
      "outputs": [
        {
          "output_type": "execute_result",
          "data": {
            "text/plain": [
              "tensor([[[-1.0485, -0.3147,  1.6914]],\n",
              "\n",
              "        [[-2.2064,  1.2088, -0.3267]]])"
            ]
          },
          "metadata": {},
          "execution_count": 98
        }
      ]
    },
    {
      "cell_type": "code",
      "source": [
        "x = torch.arange(1,10).reshape(1,3,3)\n",
        "x"
      ],
      "metadata": {
        "colab": {
          "base_uri": "https://localhost:8080/"
        },
        "id": "6iY5KOyWIspH",
        "outputId": "5430509e-2c86-4896-811d-86088b4aec6c"
      },
      "execution_count": 99,
      "outputs": [
        {
          "output_type": "execute_result",
          "data": {
            "text/plain": [
              "tensor([[[1, 2, 3],\n",
              "         [4, 5, 6],\n",
              "         [7, 8, 9]]])"
            ]
          },
          "metadata": {},
          "execution_count": 99
        }
      ]
    },
    {
      "cell_type": "code",
      "source": [
        "x[0]"
      ],
      "metadata": {
        "colab": {
          "base_uri": "https://localhost:8080/"
        },
        "id": "THo3xJ36MfEm",
        "outputId": "9ca2d4a5-94fc-4565-c50a-23815798e73f"
      },
      "execution_count": 100,
      "outputs": [
        {
          "output_type": "execute_result",
          "data": {
            "text/plain": [
              "tensor([[1, 2, 3],\n",
              "        [4, 5, 6],\n",
              "        [7, 8, 9]])"
            ]
          },
          "metadata": {},
          "execution_count": 100
        }
      ]
    },
    {
      "cell_type": "code",
      "source": [
        "x[0][0] # this can also be written in the form [0 0]"
      ],
      "metadata": {
        "colab": {
          "base_uri": "https://localhost:8080/"
        },
        "id": "1Pab4eg-MkoR",
        "outputId": "6da9b96f-8117-4af6-a81d-8150302c050d"
      },
      "execution_count": 101,
      "outputs": [
        {
          "output_type": "execute_result",
          "data": {
            "text/plain": [
              "tensor([1, 2, 3])"
            ]
          },
          "metadata": {},
          "execution_count": 101
        }
      ]
    },
    {
      "cell_type": "code",
      "source": [
        "x[0][0][0]"
      ],
      "metadata": {
        "colab": {
          "base_uri": "https://localhost:8080/"
        },
        "id": "KiUDe-qpMmyO",
        "outputId": "a65dadfa-8a70-40dd-a1de-9eaa9cff3ea6"
      },
      "execution_count": 102,
      "outputs": [
        {
          "output_type": "execute_result",
          "data": {
            "text/plain": [
              "tensor(1)"
            ]
          },
          "metadata": {},
          "execution_count": 102
        }
      ]
    },
    {
      "cell_type": "code",
      "source": [
        "x[0][0][0].item()"
      ],
      "metadata": {
        "colab": {
          "base_uri": "https://localhost:8080/"
        },
        "id": "HrNwNjzYM0N6",
        "outputId": "044cb579-6f26-44f4-dd60-b411acefa401"
      },
      "execution_count": 103,
      "outputs": [
        {
          "output_type": "execute_result",
          "data": {
            "text/plain": [
              "1"
            ]
          },
          "metadata": {},
          "execution_count": 103
        }
      ]
    },
    {
      "cell_type": "code",
      "source": [],
      "metadata": {
        "id": "ypo7OILLNFZV"
      },
      "execution_count": 103,
      "outputs": []
    },
    {
      "cell_type": "code",
      "source": [
        "# we can use \" : \" to target all the dimensions\n",
        "x[:,1]"
      ],
      "metadata": {
        "colab": {
          "base_uri": "https://localhost:8080/"
        },
        "id": "xH1_yEbTNRJM",
        "outputId": "a572469a-a8a8-4717-c215-9e0ce0ae1c8a"
      },
      "execution_count": 104,
      "outputs": [
        {
          "output_type": "execute_result",
          "data": {
            "text/plain": [
              "tensor([[4, 5, 6]])"
            ]
          },
          "metadata": {},
          "execution_count": 104
        }
      ]
    },
    {
      "cell_type": "code",
      "source": [
        "x[:,:,1]"
      ],
      "metadata": {
        "colab": {
          "base_uri": "https://localhost:8080/"
        },
        "id": "sjp-6aRFNgei",
        "outputId": "4e9094b3-5770-4450-cc06-c2afa2bd9223"
      },
      "execution_count": 105,
      "outputs": [
        {
          "output_type": "execute_result",
          "data": {
            "text/plain": [
              "tensor([[2, 5, 8]])"
            ]
          },
          "metadata": {},
          "execution_count": 105
        }
      ]
    },
    {
      "cell_type": "code",
      "source": [
        "x[:,1,1]"
      ],
      "metadata": {
        "colab": {
          "base_uri": "https://localhost:8080/"
        },
        "id": "O0Qx8b9ENjz_",
        "outputId": "c90a16e2-bca9-4bd1-d310-3728d69d74f1"
      },
      "execution_count": 106,
      "outputs": [
        {
          "output_type": "execute_result",
          "data": {
            "text/plain": [
              "tensor([5])"
            ]
          },
          "metadata": {},
          "execution_count": 106
        }
      ]
    },
    {
      "cell_type": "markdown",
      "source": [
        "## pytorch tensor and numpy\n",
        "- data in numpy to pytorch tensor - > `torch.from_numpy(ndarray)`\n",
        "- pytorch tensor to numpy array - > `torch.Tensor.numpy()`\n",
        "#### while converting from numpy array to pytorch tensor, pytorch reflects numpy's default datatype of float64 unless specified otherwise"
      ],
      "metadata": {
        "id": "3T_2m_XZNy7r"
      }
    },
    {
      "cell_type": "code",
      "source": [
        "import numpy as np\n",
        "array = np.arange(1,8)\n",
        "Tensor = torch.from_numpy(array)\n",
        "array,array.dtype,Tensor, tensor.dtype"
      ],
      "metadata": {
        "colab": {
          "base_uri": "https://localhost:8080/"
        },
        "id": "XYcWG4f7cjr-",
        "outputId": "2e60f43d-dae5-4618-8e02-6126cf883e29"
      },
      "execution_count": 125,
      "outputs": [
        {
          "output_type": "execute_result",
          "data": {
            "text/plain": [
              "(array([1, 2, 3, 4, 5, 6, 7]),\n",
              " dtype('int64'),\n",
              " tensor([1, 2, 3, 4, 5, 6, 7]),\n",
              " torch.int64)"
            ]
          },
          "metadata": {},
          "execution_count": 125
        }
      ]
    },
    {
      "cell_type": "code",
      "source": [
        "#changing the value of array, what will this do to the Tensor\n",
        "array  = array+1\n",
        "array,Tensor"
      ],
      "metadata": {
        "colab": {
          "base_uri": "https://localhost:8080/"
        },
        "id": "wTKL2c2rcy87",
        "outputId": "80e340bb-1f3b-411c-9179-d4a0e77fa4db"
      },
      "execution_count": 108,
      "outputs": [
        {
          "output_type": "execute_result",
          "data": {
            "text/plain": [
              "(array([2, 3, 4, 5, 6, 7, 8]), tensor([1, 2, 3, 4, 5, 6, 7]))"
            ]
          },
          "metadata": {},
          "execution_count": 108
        }
      ]
    },
    {
      "cell_type": "code",
      "source": [
        "#tensor to numpy array\n",
        "tensor = torch.ones(7)\n",
        "numpy_tensor = tensor.numpy()\n",
        "tensor,numpy_tensor"
      ],
      "metadata": {
        "colab": {
          "base_uri": "https://localhost:8080/"
        },
        "id": "Ygz0awoOdbaK",
        "outputId": "1340be18-66ad-446e-dbf3-13928377c4a0"
      },
      "execution_count": 109,
      "outputs": [
        {
          "output_type": "execute_result",
          "data": {
            "text/plain": [
              "(tensor([1., 1., 1., 1., 1., 1., 1.]),\n",
              " array([1., 1., 1., 1., 1., 1., 1.], dtype=float32))"
            ]
          },
          "metadata": {},
          "execution_count": 109
        }
      ]
    },
    {
      "cell_type": "code",
      "source": [
        "tensor.dtype"
      ],
      "metadata": {
        "colab": {
          "base_uri": "https://localhost:8080/"
        },
        "id": "PkW1VvDgducS",
        "outputId": "2429d3d6-3548-4618-e9d8-17d4f550cd92"
      },
      "execution_count": 110,
      "outputs": [
        {
          "output_type": "execute_result",
          "data": {
            "text/plain": [
              "torch.float32"
            ]
          },
          "metadata": {},
          "execution_count": 110
        }
      ]
    },
    {
      "cell_type": "markdown",
      "source": [
        "### reproducibility : - Trying to take random out of random\n",
        "in short hoe does a  neural network work?\n",
        "`start with random numbers->tensor opeartions->update random number to try and make them better representation of the data ->again -> again -> again`"
      ],
      "metadata": {
        "id": "iAz6U2USdw8E"
      }
    },
    {
      "cell_type": "code",
      "source": [
        "torch.rand(3,3)"
      ],
      "metadata": {
        "colab": {
          "base_uri": "https://localhost:8080/"
        },
        "id": "b2S9BNBkJ-vA",
        "outputId": "f2a0519d-c4d0-4bc5-a525-9f52484c3461"
      },
      "execution_count": 111,
      "outputs": [
        {
          "output_type": "execute_result",
          "data": {
            "text/plain": [
              "tensor([[0.5711, 0.7879, 0.8847],\n",
              "        [0.1207, 0.9928, 0.2794],\n",
              "        [0.0035, 0.7805, 0.1350]])"
            ]
          },
          "metadata": {},
          "execution_count": 111
        }
      ]
    },
    {
      "cell_type": "markdown",
      "source": [
        "##### to reduce the randomness in neural network and pycharm, we use the concept of\n",
        "** random seed **.(so that same random no can be produced)\n",
        "Essentially what the random seed does is \"filavour \" the randomness"
      ],
      "metadata": {
        "id": "FSm7duMFKDox"
      }
    },
    {
      "cell_type": "code",
      "source": [
        "random_seed = 42\n",
        "\n",
        "torch.manual_seed(random_seed)\n",
        "random_tensor_c = torch.rand(3,4)\n",
        "\n",
        "torch.manual_seed(random_seed)\n",
        "random_tensor_D = torch.rand(3,4)\n",
        "\n",
        "random_tensor_c,random_tensor_D"
      ],
      "metadata": {
        "colab": {
          "base_uri": "https://localhost:8080/"
        },
        "id": "uE719qaMKpcS",
        "outputId": "cf01d503-04ea-463a-fc87-c2fd18efb14e"
      },
      "execution_count": 112,
      "outputs": [
        {
          "output_type": "execute_result",
          "data": {
            "text/plain": [
              "(tensor([[0.8823, 0.9150, 0.3829, 0.9593],\n",
              "         [0.3904, 0.6009, 0.2566, 0.7936],\n",
              "         [0.9408, 0.1332, 0.9346, 0.5936]]),\n",
              " tensor([[0.8823, 0.9150, 0.3829, 0.9593],\n",
              "         [0.3904, 0.6009, 0.2566, 0.7936],\n",
              "         [0.9408, 0.1332, 0.9346, 0.5936]]))"
            ]
          },
          "metadata": {},
          "execution_count": 112
        }
      ]
    },
    {
      "cell_type": "markdown",
      "source": [
        "### running tensors and pytorch on GPU\n",
        "GPUs:- faster computation on numbers, cuda+NVIDIA\n",
        "* Easiest :use google colab for free GPU (option to upgrade also\n",
        ")\n",
        "* use your own GPU:- takes some setup and requires the investment\n",
        "\n",
        "*use cloud computing : - AWS,AZURE, GCP , allow us to use GPU on rental basis\n",
        "\n",
        "*For above 2, pytorch+\n",
        "GPU drivers(CUDA) take a little bit of setting , to do this refer the pytorch setup documentation"
      ],
      "metadata": {
        "id": "_QqrYTTISrX9"
      }
    },
    {
      "cell_type": "code",
      "source": [
        "#check for GPU access with pytorch\n",
        "torch.cuda.is_available()"
      ],
      "metadata": {
        "colab": {
          "base_uri": "https://localhost:8080/"
        },
        "id": "58hIb32AXH-V",
        "outputId": "5d3c2755-c9f6-4130-c641-10e0971bfda0"
      },
      "execution_count": 113,
      "outputs": [
        {
          "output_type": "execute_result",
          "data": {
            "text/plain": [
              "False"
            ]
          },
          "metadata": {},
          "execution_count": 113
        }
      ]
    },
    {
      "cell_type": "code",
      "source": [
        "#setup device agnostic code\n",
        "device = \"cuda\" if torch.cuda.is_available() else \"CPU\"\n",
        "device"
      ],
      "metadata": {
        "id": "Jxsqjrz4XVLI",
        "colab": {
          "base_uri": "https://localhost:8080/",
          "height": 36
        },
        "outputId": "9bb77aad-410e-43a0-e865-2cab2510e64a"
      },
      "execution_count": 114,
      "outputs": [
        {
          "output_type": "execute_result",
          "data": {
            "text/plain": [
              "'CPU'"
            ],
            "application/vnd.google.colaboratory.intrinsic+json": {
              "type": "string"
            }
          },
          "metadata": {},
          "execution_count": 114
        }
      ]
    },
    {
      "cell_type": "code",
      "source": [
        "#count no of devices\n",
        "torch.cuda.device_count()"
      ],
      "metadata": {
        "colab": {
          "base_uri": "https://localhost:8080/"
        },
        "id": "SH01PdpKmkCV",
        "outputId": "3e64c560-1e22-4969-8411-526d3855a54a"
      },
      "execution_count": 115,
      "outputs": [
        {
          "output_type": "execute_result",
          "data": {
            "text/plain": [
              "0"
            ]
          },
          "metadata": {},
          "execution_count": 115
        }
      ]
    },
    {
      "cell_type": "markdown",
      "source": [
        "#### visit pytorch device agnostics\n",
        "* \"https://pytorch.org/docs/stable/notes/cuda.html\"\n",
        "* since pytorch is capable to compute on GPU or CPU either. thus if available, use GPU else stick to default cpu"
      ],
      "metadata": {
        "id": "liuUfvfGmwRY"
      }
    },
    {
      "cell_type": "markdown",
      "source": [
        "#### putting tensors and models on the GPU\n",
        "* the reason, we want our computation to take place on GPU is that , it makes computation faster"
      ],
      "metadata": {
        "id": "3aYCsEFVnI8D"
      }
    },
    {
      "cell_type": "code",
      "source": [
        "#create a tensor\n",
        "tensor = torch.tensor([1,2,3])\n",
        "print(tensor, tensor.device)"
      ],
      "metadata": {
        "colab": {
          "base_uri": "https://localhost:8080/"
        },
        "id": "VJNMnqREn8cz",
        "outputId": "55bbb3fe-892c-4f71-aab9-06251a9b1dad"
      },
      "execution_count": 116,
      "outputs": [
        {
          "output_type": "stream",
          "name": "stdout",
          "text": [
            "tensor([1, 2, 3]) cpu\n"
          ]
        }
      ]
    },
    {
      "cell_type": "code",
      "source": [
        "# move tensor to GPU(if available)\n",
        "#since No GPU is available ,thus this will give an error\n",
        "tensor_on_GPU = tensor.to(device)\n",
        "tensor_on_GPU"
      ],
      "metadata": {
        "colab": {
          "base_uri": "https://localhost:8080/",
          "height": 251
        },
        "id": "UKzupyHeoIZB",
        "outputId": "e0a81086-08a9-43dc-a7fd-44dac2ced463"
      },
      "execution_count": 118,
      "outputs": [
        {
          "output_type": "error",
          "ename": "RuntimeError",
          "evalue": "Expected one of cpu, cuda, ipu, xpu, mkldnn, opengl, opencl, ideep, hip, ve, fpga, ort, xla, lazy, vulkan, mps, meta, hpu, mtia, privateuseone device type at start of device string: CPU",
          "traceback": [
            "\u001b[0;31m---------------------------------------------------------------------------\u001b[0m",
            "\u001b[0;31mRuntimeError\u001b[0m                              Traceback (most recent call last)",
            "\u001b[0;32m<ipython-input-118-1182cc991cba>\u001b[0m in \u001b[0;36m<cell line: 3>\u001b[0;34m()\u001b[0m\n\u001b[1;32m      1\u001b[0m \u001b[0;31m# move tensor to GPU(if available)\u001b[0m\u001b[0;34m\u001b[0m\u001b[0;34m\u001b[0m\u001b[0m\n\u001b[1;32m      2\u001b[0m \u001b[0;31m#since No GPU is available ,thus this will give an error\u001b[0m\u001b[0;34m\u001b[0m\u001b[0;34m\u001b[0m\u001b[0m\n\u001b[0;32m----> 3\u001b[0;31m \u001b[0mtensor_on_GPU\u001b[0m \u001b[0;34m=\u001b[0m \u001b[0mtensor\u001b[0m\u001b[0;34m.\u001b[0m\u001b[0mto\u001b[0m\u001b[0;34m(\u001b[0m\u001b[0mdevice\u001b[0m\u001b[0;34m)\u001b[0m\u001b[0;34m\u001b[0m\u001b[0;34m\u001b[0m\u001b[0m\n\u001b[0m\u001b[1;32m      4\u001b[0m \u001b[0mtensor_on_GPU\u001b[0m\u001b[0;34m\u001b[0m\u001b[0;34m\u001b[0m\u001b[0m\n",
            "\u001b[0;31mRuntimeError\u001b[0m: Expected one of cpu, cuda, ipu, xpu, mkldnn, opengl, opencl, ideep, hip, ve, fpga, ort, xla, lazy, vulkan, mps, meta, hpu, mtia, privateuseone device type at start of device string: CPU"
          ]
        }
      ]
    },
    {
      "cell_type": "code",
      "source": [
        "##### moving tensors back to cpu\n",
        "#if tensor is on GPU ,can't transform it to numpy\n",
        "tensor_on_gpu.numpy()"
      ],
      "metadata": {
        "colab": {
          "base_uri": "https://localhost:8080/",
          "height": 215
        },
        "id": "oZGTshxComj8",
        "outputId": "4d998d31-d92b-4d7c-bfd4-1e20642dd836"
      },
      "execution_count": 122,
      "outputs": [
        {
          "output_type": "error",
          "ename": "NameError",
          "evalue": "name 'tensor_on_gpu' is not defined",
          "traceback": [
            "\u001b[0;31m---------------------------------------------------------------------------\u001b[0m",
            "\u001b[0;31mNameError\u001b[0m                                 Traceback (most recent call last)",
            "\u001b[0;32m<ipython-input-122-1bfc8de9555f>\u001b[0m in \u001b[0;36m<cell line: 3>\u001b[0;34m()\u001b[0m\n\u001b[1;32m      1\u001b[0m \u001b[0;31m##### moving tensors back to cpu\u001b[0m\u001b[0;34m\u001b[0m\u001b[0;34m\u001b[0m\u001b[0m\n\u001b[1;32m      2\u001b[0m \u001b[0;31m#if tensor is on GPU ,can't transform it to numpy\u001b[0m\u001b[0;34m\u001b[0m\u001b[0;34m\u001b[0m\u001b[0m\n\u001b[0;32m----> 3\u001b[0;31m \u001b[0mtensor_on_gpu\u001b[0m\u001b[0;34m.\u001b[0m\u001b[0mnumpy\u001b[0m\u001b[0;34m(\u001b[0m\u001b[0;34m)\u001b[0m\u001b[0;34m\u001b[0m\u001b[0;34m\u001b[0m\u001b[0m\n\u001b[0m",
            "\u001b[0;31mNameError\u001b[0m: name 'tensor_on_gpu' is not defined"
          ]
        }
      ]
    },
    {
      "cell_type": "code",
      "source": [
        "#to fix the gpu tensor with numpy issue , we can set first it to CPU\n",
        "tensor_back_on_cpu = tensor_on_gpu.cpu.numpy()\n",
        "tensor_back_on_cpu"
      ],
      "metadata": {
        "colab": {
          "base_uri": "https://localhost:8080/",
          "height": 215
        },
        "id": "B_kZcddWpN5X",
        "outputId": "c1ef51b6-9d03-447d-e99e-eb5a5e267632"
      },
      "execution_count": 123,
      "outputs": [
        {
          "output_type": "error",
          "ename": "NameError",
          "evalue": "name 'tensor_on_gpu' is not defined",
          "traceback": [
            "\u001b[0;31m---------------------------------------------------------------------------\u001b[0m",
            "\u001b[0;31mNameError\u001b[0m                                 Traceback (most recent call last)",
            "\u001b[0;32m<ipython-input-123-704351c0b76b>\u001b[0m in \u001b[0;36m<cell line: 2>\u001b[0;34m()\u001b[0m\n\u001b[1;32m      1\u001b[0m \u001b[0;31m#to fix the gpu tensor with numpy issue , we can set first it to CPU\u001b[0m\u001b[0;34m\u001b[0m\u001b[0;34m\u001b[0m\u001b[0m\n\u001b[0;32m----> 2\u001b[0;31m \u001b[0mtensor_back_on_cpu\u001b[0m \u001b[0;34m=\u001b[0m \u001b[0mtensor_on_gpu\u001b[0m\u001b[0;34m.\u001b[0m\u001b[0mcpu\u001b[0m\u001b[0;34m.\u001b[0m\u001b[0mnumpy\u001b[0m\u001b[0;34m(\u001b[0m\u001b[0;34m)\u001b[0m\u001b[0;34m\u001b[0m\u001b[0;34m\u001b[0m\u001b[0m\n\u001b[0m\u001b[1;32m      3\u001b[0m \u001b[0mtensor_back_on_cpu\u001b[0m\u001b[0;34m\u001b[0m\u001b[0;34m\u001b[0m\u001b[0m\n",
            "\u001b[0;31mNameError\u001b[0m: name 'tensor_on_gpu' is not defined"
          ]
        }
      ]
    },
    {
      "cell_type": "markdown",
      "source": [
        "#### solve the excercises\n",
        "* \"https://www.learnpytorch.io/00_pytorch_fundamentals/#exercises\""
      ],
      "metadata": {
        "id": "2QqPDeOuqW1O"
      }
    }
  ]
}