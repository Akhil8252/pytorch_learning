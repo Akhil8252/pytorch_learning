{
  "nbformat": 4,
  "nbformat_minor": 0,
  "metadata": {
    "colab": {
      "provenance": [],
      "gpuType": "T4",
      "authorship_tag": "ABX9TyMwUXqrQnvyGYM9RSNfOP+z",
      "include_colab_link": true
    },
    "kernelspec": {
      "name": "python3",
      "display_name": "Python 3"
    },
    "language_info": {
      "name": "python"
    }
  },
  "cells": [
    {
      "cell_type": "markdown",
      "metadata": {
        "id": "view-in-github",
        "colab_type": "text"
      },
      "source": [
        "<a href=\"https://colab.research.google.com/github/Akhil8252/pytorch_learning/blob/main/001_pytorch_fundamentals.ipynb\" target=\"_parent\"><img src=\"https://colab.research.google.com/assets/colab-badge.svg\" alt=\"Open In Colab\"/></a>"
      ]
    },
    {
      "cell_type": "code",
      "source": [
        "import torch\n",
        "import numpy as np\n",
        "import pandas as pd\n",
        "import matplotlib.pyplot as plt\n"
      ],
      "metadata": {
        "id": "GhhzKFDZKCbW"
      },
      "execution_count": 1,
      "outputs": []
    },
    {
      "cell_type": "code",
      "source": [
        "print(torch.__version__)"
      ],
      "metadata": {
        "colab": {
          "base_uri": "https://localhost:8080/"
        },
        "id": "EN9EkGJaLQIq",
        "outputId": "6abab1d8-c460-4570-fb26-e126b80e1b1a"
      },
      "execution_count": 2,
      "outputs": [
        {
          "output_type": "stream",
          "name": "stdout",
          "text": [
            "2.1.0+cu121\n"
          ]
        }
      ]
    },
    {
      "cell_type": "markdown",
      "source": [
        "<b> Pytorch tensor </b><br>\n",
        "pytorch tensor can be created using torch.tensor"
      ],
      "metadata": {
        "id": "2C38gkdUPKhp"
      }
    },
    {
      "cell_type": "markdown",
      "source": [
        "**pytorch scalar**"
      ],
      "metadata": {
        "id": "yCZuGsOpPhVa"
      }
    },
    {
      "cell_type": "code",
      "source": [
        "scalar = torch.tensor(7)\n",
        "scalar"
      ],
      "metadata": {
        "colab": {
          "base_uri": "https://localhost:8080/"
        },
        "id": "xY-AOn2WMnx2",
        "outputId": "c1311af9-203c-4e7f-ba11-e20992acd393"
      },
      "execution_count": 3,
      "outputs": [
        {
          "output_type": "execute_result",
          "data": {
            "text/plain": [
              "tensor(7)"
            ]
          },
          "metadata": {},
          "execution_count": 3
        }
      ]
    },
    {
      "cell_type": "markdown",
      "source": [
        "attributes of torch class"
      ],
      "metadata": {
        "id": "HHhXsnz3QBUY"
      }
    },
    {
      "cell_type": "code",
      "source": [
        "scalar.ndim # it gives the dimension of tensor\n",
        "#scalar has no dimension or is a 0 degree tensor"
      ],
      "metadata": {
        "colab": {
          "base_uri": "https://localhost:8080/"
        },
        "id": "uan9PA3cP7e7",
        "outputId": "980bcafa-7e3c-4ee4-ed9d-0c087df5f419"
      },
      "execution_count": 4,
      "outputs": [
        {
          "output_type": "execute_result",
          "data": {
            "text/plain": [
              "0"
            ]
          },
          "metadata": {},
          "execution_count": 4
        }
      ]
    },
    {
      "cell_type": "code",
      "source": [
        "#get tensor back as python int\n",
        "scalar.item()"
      ],
      "metadata": {
        "colab": {
          "base_uri": "https://localhost:8080/"
        },
        "id": "7GY8-abAQMJ0",
        "outputId": "c496f91b-de1c-417c-e322-896e53b2c8c6"
      },
      "execution_count": 5,
      "outputs": [
        {
          "output_type": "execute_result",
          "data": {
            "text/plain": [
              "7"
            ]
          },
          "metadata": {},
          "execution_count": 5
        }
      ]
    },
    {
      "cell_type": "code",
      "source": [
        "type(scalar)"
      ],
      "metadata": {
        "colab": {
          "base_uri": "https://localhost:8080/"
        },
        "id": "u5Nsyu10Q0ZU",
        "outputId": "fba0837a-fe54-4d6e-a898-2c6ca78c508e"
      },
      "execution_count": 6,
      "outputs": [
        {
          "output_type": "execute_result",
          "data": {
            "text/plain": [
              "torch.Tensor"
            ]
          },
          "metadata": {},
          "execution_count": 6
        }
      ]
    },
    {
      "cell_type": "markdown",
      "source": [
        "vector"
      ],
      "metadata": {
        "id": "okrUgsIWQ9Qi"
      }
    },
    {
      "cell_type": "code",
      "source": [
        "vector = torch.tensor([1,2,3])\n",
        "vector"
      ],
      "metadata": {
        "colab": {
          "base_uri": "https://localhost:8080/"
        },
        "id": "9jddoHM0Q235",
        "outputId": "37a4ef07-4e49-4f2d-bb0e-94eb905bf865"
      },
      "execution_count": 7,
      "outputs": [
        {
          "output_type": "execute_result",
          "data": {
            "text/plain": [
              "tensor([1, 2, 3])"
            ]
          },
          "metadata": {},
          "execution_count": 7
        }
      ]
    },
    {
      "cell_type": "code",
      "source": [
        "vector.ndim # for 1 degree tensor we need 1 pair of closing bracket"
      ],
      "metadata": {
        "colab": {
          "base_uri": "https://localhost:8080/"
        },
        "id": "jX4yDJVxRGdI",
        "outputId": "d9338f4c-1265-4d20-c658-da377caec23a"
      },
      "execution_count": 8,
      "outputs": [
        {
          "output_type": "execute_result",
          "data": {
            "text/plain": [
              "1"
            ]
          },
          "metadata": {},
          "execution_count": 8
        }
      ]
    },
    {
      "cell_type": "code",
      "source": [
        "vector.item()#will give error as we are not dealing with a single scalar"
      ],
      "metadata": {
        "colab": {
          "base_uri": "https://localhost:8080/",
          "height": 177
        },
        "id": "QiBhuKGJRVEY",
        "outputId": "1899a0e1-d10b-4ec5-fde0-81c333188542"
      },
      "execution_count": 9,
      "outputs": [
        {
          "output_type": "error",
          "ename": "RuntimeError",
          "evalue": "a Tensor with 3 elements cannot be converted to Scalar",
          "traceback": [
            "\u001b[0;31m---------------------------------------------------------------------------\u001b[0m",
            "\u001b[0;31mRuntimeError\u001b[0m                              Traceback (most recent call last)",
            "\u001b[0;32m<ipython-input-9-c7c2603356d0>\u001b[0m in \u001b[0;36m<cell line: 1>\u001b[0;34m()\u001b[0m\n\u001b[0;32m----> 1\u001b[0;31m \u001b[0mvector\u001b[0m\u001b[0;34m.\u001b[0m\u001b[0mitem\u001b[0m\u001b[0;34m(\u001b[0m\u001b[0;34m)\u001b[0m\u001b[0;31m#will give error as we are not dealing with a single scalar\u001b[0m\u001b[0;34m\u001b[0m\u001b[0;34m\u001b[0m\u001b[0m\n\u001b[0m",
            "\u001b[0;31mRuntimeError\u001b[0m: a Tensor with 3 elements cannot be converted to Scalar"
          ]
        }
      ]
    },
    {
      "cell_type": "code",
      "source": [
        "vector.shape #here 3 simply denotes the no of column"
      ],
      "metadata": {
        "colab": {
          "base_uri": "https://localhost:8080/"
        },
        "id": "OWhFnuhsRiQa",
        "outputId": "bbfc49c6-bb3a-4157-fc7f-033b9e4002d1"
      },
      "execution_count": 10,
      "outputs": [
        {
          "output_type": "execute_result",
          "data": {
            "text/plain": [
              "torch.Size([3])"
            ]
          },
          "metadata": {},
          "execution_count": 10
        }
      ]
    },
    {
      "cell_type": "code",
      "source": [
        "#MATRIX\n",
        "matrix = torch.tensor([[1,2,3],[4,5,6]])\n",
        "matrix"
      ],
      "metadata": {
        "colab": {
          "base_uri": "https://localhost:8080/"
        },
        "id": "RXpypv-MRwNm",
        "outputId": "ced0e0d7-b99f-45d2-c0a8-dcc591491826"
      },
      "execution_count": 11,
      "outputs": [
        {
          "output_type": "execute_result",
          "data": {
            "text/plain": [
              "tensor([[1, 2, 3],\n",
              "        [4, 5, 6]])"
            ]
          },
          "metadata": {},
          "execution_count": 11
        }
      ]
    },
    {
      "cell_type": "code",
      "source": [
        "#here we can see we have included 2 square brackets thus should have dimension as 2\n",
        "matrix.ndim\n"
      ],
      "metadata": {
        "colab": {
          "base_uri": "https://localhost:8080/"
        },
        "id": "WGvMb88aSCpC",
        "outputId": "f70aedec-4b86-4725-e368-c0112d93b2b7"
      },
      "execution_count": 12,
      "outputs": [
        {
          "output_type": "execute_result",
          "data": {
            "text/plain": [
              "2"
            ]
          },
          "metadata": {},
          "execution_count": 12
        }
      ]
    },
    {
      "cell_type": "code",
      "source": [
        "#to access each element of matrix\n",
        "matrix[0]"
      ],
      "metadata": {
        "colab": {
          "base_uri": "https://localhost:8080/"
        },
        "id": "UdzeeUv5SdMG",
        "outputId": "cb51a0cb-829f-4521-ec82-46f381b7b5f1"
      },
      "execution_count": 13,
      "outputs": [
        {
          "output_type": "execute_result",
          "data": {
            "text/plain": [
              "tensor([1, 2, 3])"
            ]
          },
          "metadata": {},
          "execution_count": 13
        }
      ]
    },
    {
      "cell_type": "code",
      "source": [
        "matrix[0][1]"
      ],
      "metadata": {
        "colab": {
          "base_uri": "https://localhost:8080/"
        },
        "id": "nSftD00lSiHO",
        "outputId": "0445f99a-8cae-4421-abe5-2cb3c4c915d8"
      },
      "execution_count": 14,
      "outputs": [
        {
          "output_type": "execute_result",
          "data": {
            "text/plain": [
              "tensor(2)"
            ]
          },
          "metadata": {},
          "execution_count": 14
        }
      ]
    },
    {
      "cell_type": "code",
      "source": [
        "matrix.shape#2 rows and 3 columns"
      ],
      "metadata": {
        "colab": {
          "base_uri": "https://localhost:8080/"
        },
        "id": "2KRsNNAASmgJ",
        "outputId": "49e47cc9-b0da-438b-e177-64b11dfb5754"
      },
      "execution_count": 15,
      "outputs": [
        {
          "output_type": "execute_result",
          "data": {
            "text/plain": [
              "torch.Size([2, 3])"
            ]
          },
          "metadata": {},
          "execution_count": 15
        }
      ]
    },
    {
      "cell_type": "code",
      "source": [
        "Tensor = torch.tensor([[[2,4,6],[5,8, 7],[5, 8, 9]]])\n",
        "Tensor"
      ],
      "metadata": {
        "colab": {
          "base_uri": "https://localhost:8080/"
        },
        "id": "hKJ_lf5oS1dj",
        "outputId": "1adf6d9b-ea4d-4d3a-8608-b85c6e164d94"
      },
      "execution_count": 16,
      "outputs": [
        {
          "output_type": "execute_result",
          "data": {
            "text/plain": [
              "tensor([[[2, 4, 6],\n",
              "         [5, 8, 7],\n",
              "         [5, 8, 9]]])"
            ]
          },
          "metadata": {},
          "execution_count": 16
        }
      ]
    },
    {
      "cell_type": "code",
      "source": [
        "Tensor.ndim"
      ],
      "metadata": {
        "colab": {
          "base_uri": "https://localhost:8080/"
        },
        "id": "e0kHLBw_UuAl",
        "outputId": "c4c10edf-a1b5-4e74-9f20-5e10eeb66626"
      },
      "execution_count": 17,
      "outputs": [
        {
          "output_type": "execute_result",
          "data": {
            "text/plain": [
              "3"
            ]
          },
          "metadata": {},
          "execution_count": 17
        }
      ]
    },
    {
      "cell_type": "code",
      "source": [
        "Tensor.shape"
      ],
      "metadata": {
        "colab": {
          "base_uri": "https://localhost:8080/"
        },
        "id": "Onv3fGEMUy7J",
        "outputId": "bfe68b3e-a0ca-4c21-8d33-6abaae57e8b5"
      },
      "execution_count": 18,
      "outputs": [
        {
          "output_type": "execute_result",
          "data": {
            "text/plain": [
              "torch.Size([1, 3, 3])"
            ]
          },
          "metadata": {},
          "execution_count": 18
        }
      ]
    },
    {
      "cell_type": "markdown",
      "source": [
        "#here 1 represents the bigger tensor(overall) or we can say one layer, 3 no of vectors inside the tensor and 2nd 3 represents no of elements in onen vector"
      ],
      "metadata": {
        "id": "PnSJIE5pVXiM"
      }
    },
    {
      "cell_type": "code",
      "source": [
        "Tensor[0]"
      ],
      "metadata": {
        "colab": {
          "base_uri": "https://localhost:8080/"
        },
        "id": "GMxpitbjU0-k",
        "outputId": "04b93e38-8afe-4235-d5f3-60c2edb64884"
      },
      "execution_count": 19,
      "outputs": [
        {
          "output_type": "execute_result",
          "data": {
            "text/plain": [
              "tensor([[2, 4, 6],\n",
              "        [5, 8, 7],\n",
              "        [5, 8, 9]])"
            ]
          },
          "metadata": {},
          "execution_count": 19
        }
      ]
    },
    {
      "cell_type": "markdown",
      "source": [],
      "metadata": {
        "id": "nAXnPWpVXvhM"
      }
    },
    {
      "cell_type": "code",
      "source": [
        "Tensor[0][1]"
      ],
      "metadata": {
        "colab": {
          "base_uri": "https://localhost:8080/"
        },
        "id": "utokilMQVWN9",
        "outputId": "8cbd2081-ed06-488f-bd8f-66503d7dc758"
      },
      "execution_count": 20,
      "outputs": [
        {
          "output_type": "execute_result",
          "data": {
            "text/plain": [
              "tensor([5, 8, 7])"
            ]
          },
          "metadata": {},
          "execution_count": 20
        }
      ]
    },
    {
      "cell_type": "markdown",
      "source": [
        "#Random tensor\n",
        "\n",
        "##Random tensors are important because the way NN starts learning they contains many random numbers in it like weights and biases\n",
        "\n",
        "'start with random numbers - >look at the data -> update random numbers -> look at data -> update random numbers"
      ],
      "metadata": {
        "id": "ulk4LwEtWyIu"
      }
    },
    {
      "cell_type": "code",
      "source": [
        "#create a random tensor of size (3,4)\n",
        "random_tensor = torch.rand(3,4)\n",
        "random_tensor"
      ],
      "metadata": {
        "colab": {
          "base_uri": "https://localhost:8080/"
        },
        "id": "Kpd416K9XWIK",
        "outputId": "c7ea1055-9450-4af5-e2a0-f93427673bce"
      },
      "execution_count": 21,
      "outputs": [
        {
          "output_type": "execute_result",
          "data": {
            "text/plain": [
              "tensor([[0.7258, 0.9398, 0.3629, 0.9921],\n",
              "        [0.4843, 0.1918, 0.1069, 0.4996],\n",
              "        [0.2221, 0.5263, 0.1203, 0.8558]])"
            ]
          },
          "metadata": {},
          "execution_count": 21
        }
      ]
    },
    {
      "cell_type": "code",
      "source": [
        "random_tensor1 = torch.rand(2,3,3,4)\n",
        "random_tensor1"
      ],
      "metadata": {
        "colab": {
          "base_uri": "https://localhost:8080/"
        },
        "id": "b1XAGUL9YE8Y",
        "outputId": "50e57a32-8129-449d-844b-6b2d2345782d"
      },
      "execution_count": 22,
      "outputs": [
        {
          "output_type": "execute_result",
          "data": {
            "text/plain": [
              "tensor([[[[0.6460, 0.2319, 0.8153, 0.1541],\n",
              "          [0.3354, 0.0458, 0.4451, 0.4396],\n",
              "          [0.7037, 0.0723, 0.5137, 0.1517]],\n",
              "\n",
              "         [[0.1215, 0.2341, 0.9241, 0.3481],\n",
              "          [0.7636, 0.7805, 0.3944, 0.0446],\n",
              "          [0.5731, 0.9498, 0.5250, 0.0514]],\n",
              "\n",
              "         [[0.9391, 0.7466, 0.2000, 0.4167],\n",
              "          [0.5034, 0.8834, 0.3189, 0.7149],\n",
              "          [0.6307, 0.7090, 0.5698, 0.4352]]],\n",
              "\n",
              "\n",
              "        [[[0.1096, 0.8531, 0.5005, 0.8326],\n",
              "          [0.9262, 0.1342, 0.6199, 0.1538],\n",
              "          [0.2523, 0.3655, 0.7592, 0.4008]],\n",
              "\n",
              "         [[0.2436, 0.3796, 0.7208, 0.8858],\n",
              "          [0.5408, 0.5059, 0.3134, 0.8420],\n",
              "          [0.4373, 0.1969, 0.4913, 0.3272]],\n",
              "\n",
              "         [[0.4664, 0.6256, 0.5317, 0.2841],\n",
              "          [0.6330, 0.7760, 0.9990, 0.5540],\n",
              "          [0.8866, 0.8723, 0.2576, 0.2168]]]])"
            ]
          },
          "metadata": {},
          "execution_count": 22
        }
      ]
    },
    {
      "cell_type": "code",
      "source": [
        "#create a random tensor with similar shape to an image tensor\n",
        "random_image_tensor = torch.rand(size  = (3,224,224))\n",
        "random_image_tensor#height width and color channel,,, color channel should always be first"
      ],
      "metadata": {
        "colab": {
          "base_uri": "https://localhost:8080/"
        },
        "id": "QYQpKRxqYf-U",
        "outputId": "e0ff4d2f-1964-4ba2-fb66-f01647d029c8"
      },
      "execution_count": 23,
      "outputs": [
        {
          "output_type": "execute_result",
          "data": {
            "text/plain": [
              "tensor([[[0.0548, 0.1306, 0.6661,  ..., 0.4475, 0.8292, 0.9581],\n",
              "         [0.3077, 0.0778, 0.4340,  ..., 0.8634, 0.8815, 0.5610],\n",
              "         [0.2223, 0.0158, 0.7423,  ..., 0.9509, 0.6594, 0.7933],\n",
              "         ...,\n",
              "         [0.8242, 0.0622, 0.2703,  ..., 0.8974, 0.0874, 0.8680],\n",
              "         [0.5389, 0.2259, 0.9043,  ..., 0.5504, 0.2509, 0.2847],\n",
              "         [0.0993, 0.2969, 0.5265,  ..., 0.8979, 0.9533, 0.9302]],\n",
              "\n",
              "        [[0.5941, 0.8434, 0.4836,  ..., 0.4402, 0.7487, 0.9269],\n",
              "         [0.6963, 0.1725, 0.6154,  ..., 0.1029, 0.4321, 0.7522],\n",
              "         [0.6286, 0.2773, 0.5456,  ..., 0.4297, 0.7460, 0.7249],\n",
              "         ...,\n",
              "         [0.9276, 0.8117, 0.9575,  ..., 0.9745, 0.6549, 0.5766],\n",
              "         [0.7475, 0.7081, 0.5074,  ..., 0.1390, 0.1315, 0.2369],\n",
              "         [0.6383, 0.0085, 0.7422,  ..., 0.9784, 0.7810, 0.8887]],\n",
              "\n",
              "        [[0.5908, 0.6941, 0.7939,  ..., 0.9409, 0.0901, 0.0392],\n",
              "         [0.3573, 0.0369, 0.7044,  ..., 0.5861, 0.2100, 0.1880],\n",
              "         [0.0488, 0.4373, 0.5259,  ..., 0.7459, 0.3883, 0.5925],\n",
              "         ...,\n",
              "         [0.1460, 0.7003, 0.7380,  ..., 0.0817, 0.2300, 0.6974],\n",
              "         [0.1867, 0.5106, 0.8058,  ..., 0.5487, 0.8922, 0.4555],\n",
              "         [0.4496, 0.3104, 0.1419,  ..., 0.8824, 0.3255, 0.7661]]])"
            ]
          },
          "metadata": {},
          "execution_count": 23
        }
      ]
    },
    {
      "cell_type": "code",
      "source": [
        "random_image_tensor.shape"
      ],
      "metadata": {
        "colab": {
          "base_uri": "https://localhost:8080/"
        },
        "id": "-yeXFJ3naYfR",
        "outputId": "7d968b49-d740-4bdd-cdea-35ac1cc9cf76"
      },
      "execution_count": 24,
      "outputs": [
        {
          "output_type": "execute_result",
          "data": {
            "text/plain": [
              "torch.Size([3, 224, 224])"
            ]
          },
          "metadata": {},
          "execution_count": 24
        }
      ]
    },
    {
      "cell_type": "code",
      "source": [
        "random_image_tensor1 = torch.rand(size  = (224,224,3))#deep learning library use this\n",
        "random_image_tensor1"
      ],
      "metadata": {
        "colab": {
          "base_uri": "https://localhost:8080/"
        },
        "id": "JsWSjTz2a_UP",
        "outputId": "374e9248-1a86-4dde-9a58-fc3bbb27b8a9"
      },
      "execution_count": 25,
      "outputs": [
        {
          "output_type": "execute_result",
          "data": {
            "text/plain": [
              "tensor([[[0.1324, 0.7815, 0.9239],\n",
              "         [0.5552, 0.9220, 0.6933],\n",
              "         [0.9460, 0.8221, 0.5970],\n",
              "         ...,\n",
              "         [0.2362, 0.0436, 0.1058],\n",
              "         [0.5465, 0.3007, 0.3273],\n",
              "         [0.2425, 0.4027, 0.2132]],\n",
              "\n",
              "        [[0.8265, 0.1634, 0.0011],\n",
              "         [0.2390, 0.4661, 0.8784],\n",
              "         [0.4655, 0.8204, 0.3975],\n",
              "         ...,\n",
              "         [0.9635, 0.9409, 0.8388],\n",
              "         [0.6853, 0.7499, 0.2146],\n",
              "         [0.8278, 0.4580, 0.1548]],\n",
              "\n",
              "        [[0.5706, 0.1762, 0.7579],\n",
              "         [0.9776, 0.4614, 0.9158],\n",
              "         [0.5800, 0.1838, 0.0898],\n",
              "         ...,\n",
              "         [0.6407, 0.0633, 0.4937],\n",
              "         [0.6160, 0.4164, 0.4773],\n",
              "         [0.9859, 0.0945, 0.0699]],\n",
              "\n",
              "        ...,\n",
              "\n",
              "        [[0.5265, 0.5692, 0.4818],\n",
              "         [0.8104, 0.2288, 0.7357],\n",
              "         [0.0637, 0.8476, 0.6884],\n",
              "         ...,\n",
              "         [0.4748, 0.4210, 0.3991],\n",
              "         [0.7889, 0.0323, 0.3852],\n",
              "         [0.6099, 0.7826, 0.3390]],\n",
              "\n",
              "        [[0.5511, 0.7069, 0.9956],\n",
              "         [0.6269, 0.4409, 0.5954],\n",
              "         [0.8761, 0.9576, 0.2010],\n",
              "         ...,\n",
              "         [0.1292, 0.0052, 0.6042],\n",
              "         [0.2381, 0.4862, 0.0740],\n",
              "         [0.0629, 0.8517, 0.3392]],\n",
              "\n",
              "        [[0.7641, 0.6070, 0.4988],\n",
              "         [0.2351, 0.1019, 0.6642],\n",
              "         [0.3694, 0.0329, 0.2857],\n",
              "         ...,\n",
              "         [0.9033, 0.9115, 0.3681],\n",
              "         [0.4257, 0.5859, 0.8907],\n",
              "         [0.0961, 0.5911, 0.3038]]])"
            ]
          },
          "metadata": {},
          "execution_count": 25
        }
      ]
    },
    {
      "cell_type": "markdown",
      "source": [
        "# we can or can't use size paremeter in torch.rand, its upto us\n",
        "#####random_image_tensor1 = torch.rand(size  = (224,224,3)) and\n",
        "#####random_image_tensor1 = torch.rand((224,224,3)) both are correct"
      ],
      "metadata": {
        "id": "aDe7-HaYccTt"
      }
    },
    {
      "cell_type": "markdown",
      "source": [
        "#creating zeros and ones"
      ],
      "metadata": {
        "id": "zPKjKWfFdand"
      }
    },
    {
      "cell_type": "code",
      "source": [
        "zeros = torch.zeros(3,4) # 3 rows and 4 columns of zeros\n",
        "zeros"
      ],
      "metadata": {
        "colab": {
          "base_uri": "https://localhost:8080/"
        },
        "id": "Cs96cAtkcpbW",
        "outputId": "ed078dc1-eab4-4ec6-ce58-0da9733f1a8f"
      },
      "execution_count": 26,
      "outputs": [
        {
          "output_type": "execute_result",
          "data": {
            "text/plain": [
              "tensor([[0., 0., 0., 0.],\n",
              "        [0., 0., 0., 0.],\n",
              "        [0., 0., 0., 0.]])"
            ]
          },
          "metadata": {},
          "execution_count": 26
        }
      ]
    },
    {
      "cell_type": "code",
      "source": [
        "#to check datatypes\n",
        "zeros.dtype  #dtype stands for default datatype"
      ],
      "metadata": {
        "colab": {
          "base_uri": "https://localhost:8080/"
        },
        "id": "bRUWFXlWeO5B",
        "outputId": "00cfc039-04df-48be-ca2d-9463c71cb522"
      },
      "execution_count": 27,
      "outputs": [
        {
          "output_type": "execute_result",
          "data": {
            "text/plain": [
              "torch.float32"
            ]
          },
          "metadata": {},
          "execution_count": 27
        }
      ]
    },
    {
      "cell_type": "code",
      "source": [
        "ones = torch.ones(3,4) # 3 rows and 4 columns of zeros\n",
        "ones"
      ],
      "metadata": {
        "colab": {
          "base_uri": "https://localhost:8080/"
        },
        "id": "naMiBtSbeUtd",
        "outputId": "9bdff1fe-a33c-4ef4-fdde-11866e21cd3c"
      },
      "execution_count": 28,
      "outputs": [
        {
          "output_type": "execute_result",
          "data": {
            "text/plain": [
              "tensor([[1., 1., 1., 1.],\n",
              "        [1., 1., 1., 1.],\n",
              "        [1., 1., 1., 1.]])"
            ]
          },
          "metadata": {},
          "execution_count": 28
        }
      ]
    },
    {
      "cell_type": "markdown",
      "source": [
        "#create a range of tensors or tensors like"
      ],
      "metadata": {
        "id": "v2Hn2n5Fe7dd"
      }
    },
    {
      "cell_type": "markdown",
      "source": [],
      "metadata": {
        "id": "X0vC8aHee7nn"
      }
    },
    {
      "cell_type": "code",
      "source": [
        "torch.range(1,10)"
      ],
      "metadata": {
        "colab": {
          "base_uri": "https://localhost:8080/"
        },
        "id": "QGSYP2xae0PR",
        "outputId": "0ccd2402-baaf-4153-a2fa-1e56f55512f0"
      },
      "execution_count": 29,
      "outputs": [
        {
          "output_type": "stream",
          "name": "stderr",
          "text": [
            "<ipython-input-29-a2647884754e>:1: UserWarning: torch.range is deprecated and will be removed in a future release because its behavior is inconsistent with Python's range builtin. Instead, use torch.arange, which produces values in [start, end).\n",
            "  torch.range(1,10)\n"
          ]
        },
        {
          "output_type": "execute_result",
          "data": {
            "text/plain": [
              "tensor([ 1.,  2.,  3.,  4.,  5.,  6.,  7.,  8.,  9., 10.])"
            ]
          },
          "metadata": {},
          "execution_count": 29
        }
      ]
    },
    {
      "cell_type": "code",
      "source": [
        "torch.arange(1,10)"
      ],
      "metadata": {
        "colab": {
          "base_uri": "https://localhost:8080/"
        },
        "id": "YZMcbks7fJ4Y",
        "outputId": "48c3a153-f9ff-4963-e1aa-0ee29803e035"
      },
      "execution_count": 30,
      "outputs": [
        {
          "output_type": "execute_result",
          "data": {
            "text/plain": [
              "tensor([1, 2, 3, 4, 5, 6, 7, 8, 9])"
            ]
          },
          "metadata": {},
          "execution_count": 30
        }
      ]
    },
    {
      "cell_type": "code",
      "source": [
        "a = torch.arange(start = 0,end=1000, step=77)\n",
        "a"
      ],
      "metadata": {
        "colab": {
          "base_uri": "https://localhost:8080/"
        },
        "id": "U7Bg92W8fQ4B",
        "outputId": "ebc12854-d10d-4deb-a4d3-416e4e5317c7"
      },
      "execution_count": 31,
      "outputs": [
        {
          "output_type": "execute_result",
          "data": {
            "text/plain": [
              "tensor([  0,  77, 154, 231, 308, 385, 462, 539, 616, 693, 770, 847, 924])"
            ]
          },
          "metadata": {},
          "execution_count": 31
        }
      ]
    },
    {
      "cell_type": "code",
      "source": [
        "#this can also be written as\n",
        "a = torch.arange(0,1000,77)\n",
        "a"
      ],
      "metadata": {
        "colab": {
          "base_uri": "https://localhost:8080/"
        },
        "id": "t_MxSeQSfv-2",
        "outputId": "7685741d-b862-48f6-b908-083a7cfada44"
      },
      "execution_count": 32,
      "outputs": [
        {
          "output_type": "execute_result",
          "data": {
            "text/plain": [
              "tensor([  0,  77, 154, 231, 308, 385, 462, 539, 616, 693, 770, 847, 924])"
            ]
          },
          "metadata": {},
          "execution_count": 32
        }
      ]
    },
    {
      "cell_type": "code",
      "source": [
        "# if want to create a tensor of shape equal to another tensor or we can say like tensors, we can use zeros_like method\n",
        "ten_zeros = torch.zeros_like(input = a)\n",
        "ten_zeros"
      ],
      "metadata": {
        "colab": {
          "base_uri": "https://localhost:8080/"
        },
        "id": "RQxI1qsIf4b7",
        "outputId": "c7f433d4-a3bb-4258-86cd-7398c267561c"
      },
      "execution_count": 33,
      "outputs": [
        {
          "output_type": "execute_result",
          "data": {
            "text/plain": [
              "tensor([0, 0, 0, 0, 0, 0, 0, 0, 0, 0, 0, 0, 0])"
            ]
          },
          "metadata": {},
          "execution_count": 33
        }
      ]
    },
    {
      "cell_type": "markdown",
      "source": [
        "#tensor datatypes\n",
        "####default datatypes in pytorch is float32,even if we write dtype =none"
      ],
      "metadata": {
        "id": "Or_u-Y3RhnKt"
      }
    },
    {
      "cell_type": "code",
      "source": [
        "#float 32 tensor\n",
        "float_32_tensor = torch.tensor([3.0,2.8,56])\n",
        "float_32_tensor"
      ],
      "metadata": {
        "colab": {
          "base_uri": "https://localhost:8080/"
        },
        "id": "GIUqCaFbf_mG",
        "outputId": "9dae578f-4b05-475b-fef3-f7c55380c3f7"
      },
      "execution_count": 34,
      "outputs": [
        {
          "output_type": "execute_result",
          "data": {
            "text/plain": [
              "tensor([ 3.0000,  2.8000, 56.0000])"
            ]
          },
          "metadata": {},
          "execution_count": 34
        }
      ]
    },
    {
      "cell_type": "code",
      "source": [
        "float_32_tensor.dtype"
      ],
      "metadata": {
        "colab": {
          "base_uri": "https://localhost:8080/"
        },
        "id": "9c5nP9K8iLUz",
        "outputId": "6070559a-745e-46a8-bcdc-8a4ae9b3b35f"
      },
      "execution_count": 35,
      "outputs": [
        {
          "output_type": "execute_result",
          "data": {
            "text/plain": [
              "torch.float32"
            ]
          },
          "metadata": {},
          "execution_count": 35
        }
      ]
    },
    {
      "cell_type": "code",
      "source": [
        "float_32_tensor = torch.tensor([3.0,2.8,56],dtype=None)\n",
        "float_32_tensor.dtype"
      ],
      "metadata": {
        "colab": {
          "base_uri": "https://localhost:8080/"
        },
        "id": "RM75wXVUiPpG",
        "outputId": "d3905717-a3ca-4b96-e19c-b65be31de6e3"
      },
      "execution_count": 36,
      "outputs": [
        {
          "output_type": "execute_result",
          "data": {
            "text/plain": [
              "torch.float32"
            ]
          },
          "metadata": {},
          "execution_count": 36
        }
      ]
    },
    {
      "cell_type": "code",
      "source": [
        "float_32_tensor = torch.tensor([3.0,2.8,56],dtype=torch.float16)\n",
        "float_32_tensor.dtype"
      ],
      "metadata": {
        "colab": {
          "base_uri": "https://localhost:8080/"
        },
        "id": "4mtiQUotiXFh",
        "outputId": "0359b023-aac2-4f2a-cd0d-0d8e160dd1ba"
      },
      "execution_count": 37,
      "outputs": [
        {
          "output_type": "execute_result",
          "data": {
            "text/plain": [
              "torch.float16"
            ]
          },
          "metadata": {},
          "execution_count": 37
        }
      ]
    },
    {
      "cell_type": "code",
      "source": [
        "# Default datatype for tensors is float32\n",
        "float_32_tensor = torch.tensor([3.0, 6.0, 9.0],\n",
        "                               dtype=None, # defaults to None, which is torch.float32 or whatever datatype is passed\n",
        "                               device=None, # defaults to None, which uses the default tensor type\n",
        "                               requires_grad=False) # if True, operations performed on the tensor are recorded\n",
        "\n",
        "float_32_tensor.shape, float_32_tensor.dtype, float_32_tensor.device"
      ],
      "metadata": {
        "colab": {
          "base_uri": "https://localhost:8080/"
        },
        "id": "OBd1I6bLigH7",
        "outputId": "a668ae3b-7ce6-49aa-dc5c-358b042bd0c8"
      },
      "execution_count": 38,
      "outputs": [
        {
          "output_type": "execute_result",
          "data": {
            "text/plain": [
              "(torch.Size([3]), torch.float32, device(type='cpu'))"
            ]
          },
          "metadata": {},
          "execution_count": 38
        }
      ]
    },
    {
      "cell_type": "code",
      "source": [
        "#follow pytorch tensor datatype"
      ],
      "metadata": {
        "id": "c6-JpT6ri6lT"
      },
      "execution_count": 39,
      "outputs": []
    },
    {
      "cell_type": "code",
      "source": [
        "#converting float32 to float16 tensor\n",
        "float_16_tensor = float_32_tensor.type(torch.float16)\n",
        "float_16_tensor"
      ],
      "metadata": {
        "colab": {
          "base_uri": "https://localhost:8080/"
        },
        "id": "H83DAViW-4-C",
        "outputId": "ca240a63-f9d3-494b-f9f5-0e5a5aec01ce"
      },
      "execution_count": 40,
      "outputs": [
        {
          "output_type": "execute_result",
          "data": {
            "text/plain": [
              "tensor([3., 6., 9.], dtype=torch.float16)"
            ]
          },
          "metadata": {},
          "execution_count": 40
        }
      ]
    },
    {
      "cell_type": "code",
      "source": [
        "float_16_tensor*float_32_tensor"
      ],
      "metadata": {
        "colab": {
          "base_uri": "https://localhost:8080/"
        },
        "id": "tc5cjb8ZAh_p",
        "outputId": "7e5e45a0-6908-402d-ec61-313fbbfef39f"
      },
      "execution_count": 41,
      "outputs": [
        {
          "output_type": "execute_result",
          "data": {
            "text/plain": [
              "tensor([ 9., 36., 81.])"
            ]
          },
          "metadata": {},
          "execution_count": 41
        }
      ]
    },
    {
      "cell_type": "markdown",
      "source": [
        "this should give error as we are multiplying two tensors with different precision i.e float32 and float 16.but this is giving right result.this is also an issue with pytorch. this will not give results always. for some operations this will result into error if datatypes are different."
      ],
      "metadata": {
        "id": "_1aybczTA91a"
      }
    },
    {
      "cell_type": "code",
      "source": [
        "#getting tensor information"
      ],
      "metadata": {
        "id": "DEiJBwYzA7Sj"
      },
      "execution_count": 42,
      "outputs": []
    },
    {
      "cell_type": "markdown",
      "source": [
        "# tensor data types : - tensor.dtype\n",
        "# tensor shape :- tensor.shape\n",
        "# on which device tensor is running:- tensor.device"
      ],
      "metadata": {
        "id": "1zdWrQFDYI13"
      }
    },
    {
      "cell_type": "code",
      "source": [
        "some_tensor = torch.rand(3,4)\n",
        "some_tensor"
      ],
      "metadata": {
        "colab": {
          "base_uri": "https://localhost:8080/"
        },
        "id": "WB7MhcWbYtAt",
        "outputId": "31cec683-f641-42af-b6ac-3ba69d057d28"
      },
      "execution_count": 43,
      "outputs": [
        {
          "output_type": "execute_result",
          "data": {
            "text/plain": [
              "tensor([[4.4138e-01, 2.9933e-01, 3.6311e-04, 7.6098e-01],\n",
              "        [1.9830e-02, 7.8565e-01, 1.3480e-01, 5.3025e-01],\n",
              "        [4.7728e-01, 8.4442e-01, 2.9199e-01, 8.4022e-01]])"
            ]
          },
          "metadata": {},
          "execution_count": 43
        }
      ]
    },
    {
      "cell_type": "code",
      "source": [
        "#finding details of some_tensor\n",
        "print(\"datatype of tensor is {}:\".format(some_tensor.dtype))\n",
        "print(f\"datatype of tensor is: {some_tensor.shape}\")\n",
        "print(f\"datatype of tensor is: {some_tensor.device}\")\n"
      ],
      "metadata": {
        "colab": {
          "base_uri": "https://localhost:8080/"
        },
        "id": "ZuTug5C5Y5N9",
        "outputId": "9be41106-004d-490c-c626-1cf64e2c0d0d"
      },
      "execution_count": 44,
      "outputs": [
        {
          "output_type": "stream",
          "name": "stdout",
          "text": [
            "datatype of tensor is torch.float32:\n",
            "datatype of tensor is: torch.Size([3, 4])\n",
            "datatype of tensor is: cpu\n"
          ]
        }
      ]
    },
    {
      "cell_type": "code",
      "source": [
        "some_tensor.ndim"
      ],
      "metadata": {
        "colab": {
          "base_uri": "https://localhost:8080/"
        },
        "id": "YQcgbMZdbNKP",
        "outputId": "043d5f10-0784-4a23-ede8-618e6c60e225"
      },
      "execution_count": 45,
      "outputs": [
        {
          "output_type": "execute_result",
          "data": {
            "text/plain": [
              "2"
            ]
          },
          "metadata": {},
          "execution_count": 45
        }
      ]
    },
    {
      "cell_type": "markdown",
      "source": [
        "#manipulating tensor\n",
        " different operation on tensors\n",
        " 1. addition\n",
        " 2.subtraction\n",
        " 3.multiplication\n",
        " 4.division\n",
        " 5.matrix multiplication"
      ],
      "metadata": {
        "id": "qU_rpBejcLQM"
      }
    },
    {
      "cell_type": "markdown",
      "source": [],
      "metadata": {
        "id": "R4gWaFM-cFDS"
      }
    },
    {
      "cell_type": "code",
      "source": [
        "tensor = torch.tensor([1,2,3])\n",
        "tensor"
      ],
      "metadata": {
        "colab": {
          "base_uri": "https://localhost:8080/"
        },
        "id": "Kn45z87ub5QT",
        "outputId": "3f796ae7-5003-468a-9dde-25d387d048d9"
      },
      "execution_count": 46,
      "outputs": [
        {
          "output_type": "execute_result",
          "data": {
            "text/plain": [
              "tensor([1, 2, 3])"
            ]
          },
          "metadata": {},
          "execution_count": 46
        }
      ]
    },
    {
      "cell_type": "code",
      "source": [
        "tensor*10"
      ],
      "metadata": {
        "colab": {
          "base_uri": "https://localhost:8080/"
        },
        "id": "o09TEc1sc-8m",
        "outputId": "c2643d34-64d3-4ad8-e2b1-7b802af8a43a"
      },
      "execution_count": 47,
      "outputs": [
        {
          "output_type": "execute_result",
          "data": {
            "text/plain": [
              "tensor([10, 20, 30])"
            ]
          },
          "metadata": {},
          "execution_count": 47
        }
      ]
    },
    {
      "cell_type": "code",
      "source": [
        "#for multiplication we can use inbuilt function of pytorch.\n",
        "torch.mul(tensor,10)"
      ],
      "metadata": {
        "colab": {
          "base_uri": "https://localhost:8080/"
        },
        "id": "6VATcIPVdAPq",
        "outputId": "6b795b72-181a-43e0-bf81-889e0dc09873"
      },
      "execution_count": 48,
      "outputs": [
        {
          "output_type": "execute_result",
          "data": {
            "text/plain": [
              "tensor([10, 20, 30])"
            ]
          },
          "metadata": {},
          "execution_count": 48
        }
      ]
    },
    {
      "cell_type": "code",
      "source": [
        "torch.add(tensor,10)"
      ],
      "metadata": {
        "colab": {
          "base_uri": "https://localhost:8080/"
        },
        "id": "MWUDNMRPdNGJ",
        "outputId": "2dd7f5ce-d70b-453a-9237-8ecbeb9e603a"
      },
      "execution_count": 49,
      "outputs": [
        {
          "output_type": "execute_result",
          "data": {
            "text/plain": [
              "tensor([11, 12, 13])"
            ]
          },
          "metadata": {},
          "execution_count": 49
        }
      ]
    },
    {
      "cell_type": "markdown",
      "source": [
        "# matrix multiplication are of two types:\n",
        "# 1. element wise multiplication\n",
        "# 2. dot product"
      ],
      "metadata": {
        "id": "8ukCTrHCFFik"
      }
    },
    {
      "cell_type": "code",
      "source": [
        "tensor = torch.tensor([1,2,3])"
      ],
      "metadata": {
        "id": "KQWijuERdZCT"
      },
      "execution_count": 50,
      "outputs": []
    },
    {
      "cell_type": "code",
      "source": [
        "print(tensor,\"*\",tensor,\"is\")\n",
        "print(tensor*tensor)#this gives us element wise multiplication"
      ],
      "metadata": {
        "colab": {
          "base_uri": "https://localhost:8080/"
        },
        "id": "ITQUiGrDFczL",
        "outputId": "377b3075-71b5-42fa-ab28-f1b578f745f2"
      },
      "execution_count": 51,
      "outputs": [
        {
          "output_type": "stream",
          "name": "stdout",
          "text": [
            "tensor([1, 2, 3]) * tensor([1, 2, 3]) is\n",
            "tensor([1, 4, 9])\n"
          ]
        }
      ]
    },
    {
      "cell_type": "code",
      "source": [
        "#Matrix multiplication\n",
        "#   matmul is used for matrix multiplication"
      ],
      "metadata": {
        "id": "6gJQbEkFFoSL"
      },
      "execution_count": 52,
      "outputs": []
    },
    {
      "cell_type": "code",
      "source": [
        "torch.matmul(tensor,tensor)"
      ],
      "metadata": {
        "colab": {
          "base_uri": "https://localhost:8080/"
        },
        "id": "WCHzyb9-GPZt",
        "outputId": "9df52d96-2a4b-4d0b-c3ff-4dc077324f3b"
      },
      "execution_count": 53,
      "outputs": [
        {
          "output_type": "execute_result",
          "data": {
            "text/plain": [
              "tensor(14)"
            ]
          },
          "metadata": {},
          "execution_count": 53
        }
      ]
    },
    {
      "cell_type": "code",
      "source": [
        "torch.dot(tensor,tensor)#.dot is also used for matrix multiplication"
      ],
      "metadata": {
        "colab": {
          "base_uri": "https://localhost:8080/"
        },
        "id": "uErPRiM2GmPU",
        "outputId": "0d8be051-ba7b-42b1-b5d2-219e7f98ddd5"
      },
      "execution_count": 54,
      "outputs": [
        {
          "output_type": "execute_result",
          "data": {
            "text/plain": [
              "tensor(14)"
            ]
          },
          "metadata": {},
          "execution_count": 54
        }
      ]
    },
    {
      "cell_type": "code",
      "source": [
        "%%time\n",
        "value = 0\n",
        "for i in range(len(tensor)):\n",
        "  value += tensor[i]*tensor[i]\n",
        "print(value)\n"
      ],
      "metadata": {
        "colab": {
          "base_uri": "https://localhost:8080/"
        },
        "id": "8jOAi6L-Gr9B",
        "outputId": "858a4ad3-a429-4480-f5f0-30e0714e2896"
      },
      "execution_count": 55,
      "outputs": [
        {
          "output_type": "stream",
          "name": "stdout",
          "text": [
            "tensor(14)\n",
            "CPU times: user 2.3 ms, sys: 0 ns, total: 2.3 ms\n",
            "Wall time: 5.12 ms\n"
          ]
        }
      ]
    },
    {
      "cell_type": "code",
      "source": [
        "%%time\n",
        "torch.matmul(tensor,tensor)"
      ],
      "metadata": {
        "colab": {
          "base_uri": "https://localhost:8080/"
        },
        "id": "woHvPN01HFVE",
        "outputId": "d096779b-02b9-4665-cb3f-7281d41ea0fa"
      },
      "execution_count": 56,
      "outputs": [
        {
          "output_type": "stream",
          "name": "stdout",
          "text": [
            "CPU times: user 99 µs, sys: 0 ns, total: 99 µs\n",
            "Wall time: 105 µs\n"
          ]
        },
        {
          "output_type": "execute_result",
          "data": {
            "text/plain": [
              "tensor(14)"
            ]
          },
          "metadata": {},
          "execution_count": 56
        }
      ]
    },
    {
      "cell_type": "markdown",
      "source": [
        "## one of the most common error in deep learning is shape error\n",
        "\n",
        "### There are two rules while performing matrix multiplication\n",
        "\n",
        "1. inner dimension should match\n",
        "- `(3,2) @ (3,2)` won't work\n",
        "- `(3,2) @ (2,3)` will work\n",
        "- `(2,3) @ (3,2)` will work\n",
        "\n",
        "** @ is also  used in matrix multipliocation\n",
        "\n",
        "2. The resulting must have the outer dimension\n",
        "\n",
        "* `(3,2) @ (2,3)`-> (3,3)\n"
      ],
      "metadata": {
        "id": "rPY_KBVwH2nb"
      }
    },
    {
      "cell_type": "code",
      "source": [
        "torch.matmul(torch.rand(3,4),torch.rand(4,3))"
      ],
      "metadata": {
        "colab": {
          "base_uri": "https://localhost:8080/"
        },
        "id": "aRr_DrSdNp5Z",
        "outputId": "1989e70f-d49d-4028-8ea6-0218690a3383"
      },
      "execution_count": 57,
      "outputs": [
        {
          "output_type": "execute_result",
          "data": {
            "text/plain": [
              "tensor([[0.5224, 0.4270, 0.6160],\n",
              "        [1.4571, 1.2424, 1.2128],\n",
              "        [1.8961, 1.3631, 1.5465]])"
            ]
          },
          "metadata": {},
          "execution_count": 57
        }
      ]
    },
    {
      "cell_type": "code",
      "source": [
        "torch.rand(3,4)@torch.rand(4,3)"
      ],
      "metadata": {
        "colab": {
          "base_uri": "https://localhost:8080/"
        },
        "id": "IGRqi0D_Q5Dc",
        "outputId": "507d4ba7-bb5b-4722-e802-6059966bacc7"
      },
      "execution_count": 58,
      "outputs": [
        {
          "output_type": "execute_result",
          "data": {
            "text/plain": [
              "tensor([[0.6325, 0.2596, 0.3567],\n",
              "        [1.7714, 0.8839, 1.1158],\n",
              "        [1.4714, 1.1827, 1.1386]])"
            ]
          },
          "metadata": {},
          "execution_count": 58
        }
      ]
    },
    {
      "cell_type": "markdown",
      "source": [
        "## shape for matrix multiplication"
      ],
      "metadata": {
        "id": "XTruzR9XQ90v"
      }
    },
    {
      "cell_type": "code",
      "source": [
        "tensor_A = torch.tensor([[1,2],\n",
        "                         [3,4],\n",
        "                         [5,6]])\n",
        "tensor_B = torch.tensor([[7,8],\n",
        "                         [3,5],\n",
        "                         [5,6]])\n",
        "\n",
        "#torch.mm is also used for matrix multiplication , where mm is used as alias for matmul\n",
        "torch.matmul(tensor_A,tensor_B)"
      ],
      "metadata": {
        "colab": {
          "base_uri": "https://localhost:8080/",
          "height": 211
        },
        "id": "vSmNiuR1dQTg",
        "outputId": "864d4095-107b-4b66-f018-50f62ca42db8"
      },
      "execution_count": 59,
      "outputs": [
        {
          "output_type": "error",
          "ename": "RuntimeError",
          "evalue": "mat1 and mat2 shapes cannot be multiplied (3x2 and 3x2)",
          "traceback": [
            "\u001b[0;31m---------------------------------------------------------------------------\u001b[0m",
            "\u001b[0;31mRuntimeError\u001b[0m                              Traceback (most recent call last)",
            "\u001b[0;32m<ipython-input-59-ebb385672e7f>\u001b[0m in \u001b[0;36m<cell line: 9>\u001b[0;34m()\u001b[0m\n\u001b[1;32m      7\u001b[0m \u001b[0;34m\u001b[0m\u001b[0m\n\u001b[1;32m      8\u001b[0m \u001b[0;31m#torch.mm is also used for matrix multiplication , where mm is used as alias for matmul\u001b[0m\u001b[0;34m\u001b[0m\u001b[0;34m\u001b[0m\u001b[0m\n\u001b[0;32m----> 9\u001b[0;31m \u001b[0mtorch\u001b[0m\u001b[0;34m.\u001b[0m\u001b[0mmatmul\u001b[0m\u001b[0;34m(\u001b[0m\u001b[0mtensor_A\u001b[0m\u001b[0;34m,\u001b[0m\u001b[0mtensor_B\u001b[0m\u001b[0;34m)\u001b[0m\u001b[0;34m\u001b[0m\u001b[0;34m\u001b[0m\u001b[0m\n\u001b[0m",
            "\u001b[0;31mRuntimeError\u001b[0m: mat1 and mat2 shapes cannot be multiplied (3x2 and 3x2)"
          ]
        }
      ]
    },
    {
      "cell_type": "markdown",
      "source": [
        "### to fix the issues related with shapes we use transpose"
      ],
      "metadata": {
        "id": "e59-J4rzeXk0"
      }
    },
    {
      "cell_type": "code",
      "source": [
        "torch.matmul(tensor_A,tensor_B.T)"
      ],
      "metadata": {
        "colab": {
          "base_uri": "https://localhost:8080/"
        },
        "id": "eE_CkeN4fA2U",
        "outputId": "d705d07e-7fd3-4a63-df75-546795f17649"
      },
      "execution_count": 60,
      "outputs": [
        {
          "output_type": "execute_result",
          "data": {
            "text/plain": [
              "tensor([[23, 13, 17],\n",
              "        [53, 29, 39],\n",
              "        [83, 45, 61]])"
            ]
          },
          "metadata": {},
          "execution_count": 60
        }
      ]
    },
    {
      "cell_type": "code",
      "source": [
        "torch.matmul(tensor_A.T,tensor_B)"
      ],
      "metadata": {
        "colab": {
          "base_uri": "https://localhost:8080/"
        },
        "id": "Rqaz7DhIfWNU",
        "outputId": "4cf8b1e7-0a59-4a7c-ba37-2ef2e9df9f00"
      },
      "execution_count": 61,
      "outputs": [
        {
          "output_type": "execute_result",
          "data": {
            "text/plain": [
              "tensor([[41, 53],\n",
              "        [56, 72]])"
            ]
          },
          "metadata": {},
          "execution_count": 61
        }
      ]
    },
    {
      "cell_type": "markdown",
      "source": [
        "## finding min,max,mean etc (tensor aggregation)"
      ],
      "metadata": {
        "id": "gsqWFjfYfq8f"
      }
    },
    {
      "cell_type": "code",
      "source": [
        "import torch as th"
      ],
      "metadata": {
        "id": "HXtSGPMwuJdU"
      },
      "execution_count": 62,
      "outputs": []
    },
    {
      "cell_type": "code",
      "source": [
        "x = th.arange(0,100,10)\n",
        "x"
      ],
      "metadata": {
        "colab": {
          "base_uri": "https://localhost:8080/"
        },
        "id": "-rc9a2Cnt91R",
        "outputId": "f24524fd-d65c-4b08-cb3f-3f1145cf9348"
      },
      "execution_count": 64,
      "outputs": [
        {
          "output_type": "execute_result",
          "data": {
            "text/plain": [
              "tensor([ 0, 10, 20, 30, 40, 50, 60, 70, 80, 90])"
            ]
          },
          "metadata": {},
          "execution_count": 64
        }
      ]
    },
    {
      "cell_type": "code",
      "source": [
        "#find the min(x)\n",
        "th.min(x) , x.min()#both will give the result"
      ],
      "metadata": {
        "colab": {
          "base_uri": "https://localhost:8080/"
        },
        "id": "YW2Br-k0uRJQ",
        "outputId": "a58387c5-f837-437d-d875-7152930cb755"
      },
      "execution_count": 66,
      "outputs": [
        {
          "output_type": "execute_result",
          "data": {
            "text/plain": [
              "(tensor(0), tensor(0))"
            ]
          },
          "metadata": {},
          "execution_count": 66
        }
      ]
    },
    {
      "cell_type": "code",
      "source": [
        "th.max(x) , x.max()#both will give the result"
      ],
      "metadata": {
        "colab": {
          "base_uri": "https://localhost:8080/"
        },
        "id": "FuICcpxcudY9",
        "outputId": "580fc0c4-bfa3-444b-a21c-524336249549"
      },
      "execution_count": 67,
      "outputs": [
        {
          "output_type": "execute_result",
          "data": {
            "text/plain": [
              "(tensor(90), tensor(90))"
            ]
          },
          "metadata": {},
          "execution_count": 67
        }
      ]
    },
    {
      "cell_type": "code",
      "source": [
        "#find the mean\n",
        "th.mean(x)"
      ],
      "metadata": {
        "colab": {
          "base_uri": "https://localhost:8080/",
          "height": 194
        },
        "id": "HfAyhIlUulkz",
        "outputId": "449ce8c7-9c8f-462a-c003-f920abbea35e"
      },
      "execution_count": 68,
      "outputs": [
        {
          "output_type": "error",
          "ename": "RuntimeError",
          "evalue": "mean(): could not infer output dtype. Input dtype must be either a floating point or complex dtype. Got: Long",
          "traceback": [
            "\u001b[0;31m---------------------------------------------------------------------------\u001b[0m",
            "\u001b[0;31mRuntimeError\u001b[0m                              Traceback (most recent call last)",
            "\u001b[0;32m<ipython-input-68-f333d33fcaef>\u001b[0m in \u001b[0;36m<cell line: 2>\u001b[0;34m()\u001b[0m\n\u001b[1;32m      1\u001b[0m \u001b[0;31m#find the mean\u001b[0m\u001b[0;34m\u001b[0m\u001b[0;34m\u001b[0m\u001b[0m\n\u001b[0;32m----> 2\u001b[0;31m \u001b[0mth\u001b[0m\u001b[0;34m.\u001b[0m\u001b[0mmean\u001b[0m\u001b[0;34m(\u001b[0m\u001b[0mx\u001b[0m\u001b[0;34m)\u001b[0m\u001b[0;34m\u001b[0m\u001b[0;34m\u001b[0m\u001b[0m\n\u001b[0m",
            "\u001b[0;31mRuntimeError\u001b[0m: mean(): could not infer output dtype. Input dtype must be either a floating point or complex dtype. Got: Long"
          ]
        }
      ]
    },
    {
      "cell_type": "code",
      "source": [
        "x.dtype"
      ],
      "metadata": {
        "colab": {
          "base_uri": "https://localhost:8080/"
        },
        "id": "Yg0Rla3tvJ7s",
        "outputId": "63f8349f-f155-4262-9f69-286272ddab82"
      },
      "execution_count": 69,
      "outputs": [
        {
          "output_type": "execute_result",
          "data": {
            "text/plain": [
              "torch.int64"
            ]
          },
          "metadata": {},
          "execution_count": 69
        }
      ]
    },
    {
      "cell_type": "code",
      "source": [
        "#since x is an int64 datatype thus we need to convert it in a float32\n",
        "#torch.mean() requires a tensor of float32 datatype\n",
        "th.mean(x.type(th.float32)),x.type(th.float32).mean()"
      ],
      "metadata": {
        "colab": {
          "base_uri": "https://localhost:8080/"
        },
        "id": "o1qNf9x4vNXV",
        "outputId": "acca2b3d-634d-4715-87e8-70d7b7ba3de7"
      },
      "execution_count": 74,
      "outputs": [
        {
          "output_type": "execute_result",
          "data": {
            "text/plain": [
              "(tensor(45.), tensor(45.))"
            ]
          },
          "metadata": {},
          "execution_count": 74
        }
      ]
    },
    {
      "cell_type": "code",
      "source": [
        "#find the sum\n",
        "x.sum(),th.sum(x)"
      ],
      "metadata": {
        "colab": {
          "base_uri": "https://localhost:8080/"
        },
        "id": "BBKZiXxOvVl_",
        "outputId": "b30eab97-e9c4-4d70-d65f-ecc65c215bda"
      },
      "execution_count": 76,
      "outputs": [
        {
          "output_type": "execute_result",
          "data": {
            "text/plain": [
              "(tensor(450), tensor(450))"
            ]
          },
          "metadata": {},
          "execution_count": 76
        }
      ]
    },
    {
      "cell_type": "markdown",
      "source": [
        "## positional min and max\n",
        "### i.e the index at which min and max is there"
      ],
      "metadata": {
        "id": "HTdBfcpmwY63"
      }
    },
    {
      "cell_type": "code",
      "source": [
        "x"
      ],
      "metadata": {
        "colab": {
          "base_uri": "https://localhost:8080/"
        },
        "id": "Zujzvh8WxAWW",
        "outputId": "650db9ec-7745-4c87-b2c8-13b7b1541cc6"
      },
      "execution_count": 77,
      "outputs": [
        {
          "output_type": "execute_result",
          "data": {
            "text/plain": [
              "tensor([ 0, 10, 20, 30, 40, 50, 60, 70, 80, 90])"
            ]
          },
          "metadata": {},
          "execution_count": 77
        }
      ]
    },
    {
      "cell_type": "code",
      "source": [
        "torch.argmax(x)"
      ],
      "metadata": {
        "colab": {
          "base_uri": "https://localhost:8080/"
        },
        "id": "DDLsXfPEwnQv",
        "outputId": "45275a1c-f164-4752-ba92-daffe30793cb"
      },
      "execution_count": 78,
      "outputs": [
        {
          "output_type": "execute_result",
          "data": {
            "text/plain": [
              "tensor(9)"
            ]
          },
          "metadata": {},
          "execution_count": 78
        }
      ]
    },
    {
      "cell_type": "code",
      "source": [
        "torch.argmin(x)"
      ],
      "metadata": {
        "colab": {
          "base_uri": "https://localhost:8080/"
        },
        "id": "oLj1x7TqxCH0",
        "outputId": "3b36db4c-da12-489e-aba4-c4163b32f321"
      },
      "execution_count": 79,
      "outputs": [
        {
          "output_type": "execute_result",
          "data": {
            "text/plain": [
              "tensor(0)"
            ]
          },
          "metadata": {},
          "execution_count": 79
        }
      ]
    },
    {
      "cell_type": "code",
      "source": [
        "x[0].item()"
      ],
      "metadata": {
        "colab": {
          "base_uri": "https://localhost:8080/"
        },
        "id": "TKR1xcuDxFT9",
        "outputId": "582af669-6cf2-49ed-afd3-9dc4943c207f"
      },
      "execution_count": 83,
      "outputs": [
        {
          "output_type": "execute_result",
          "data": {
            "text/plain": [
              "0"
            ]
          },
          "metadata": {},
          "execution_count": 83
        }
      ]
    },
    {
      "cell_type": "code",
      "source": [
        "## reshaping,stacking"
      ],
      "metadata": {
        "id": "GgjGUcRPxVTL"
      },
      "execution_count": null,
      "outputs": []
    }
  ]
}