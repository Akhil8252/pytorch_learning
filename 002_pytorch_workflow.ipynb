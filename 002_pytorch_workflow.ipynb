{
  "nbformat": 4,
  "nbformat_minor": 0,
  "metadata": {
    "colab": {
      "provenance": [],
      "authorship_tag": "ABX9TyMcrJXnsI8W1e/KOWLkvp1O",
      "include_colab_link": true
    },
    "kernelspec": {
      "name": "python3",
      "display_name": "Python 3"
    },
    "language_info": {
      "name": "python"
    }
  },
  "cells": [
    {
      "cell_type": "markdown",
      "metadata": {
        "id": "view-in-github",
        "colab_type": "text"
      },
      "source": [
        "<a href=\"https://colab.research.google.com/github/Akhil8252/pytorch_learning/blob/main/002_pytorch_workflow.ipynb\" target=\"_parent\"><img src=\"https://colab.research.google.com/assets/colab-badge.svg\" alt=\"Open In Colab\"/></a>"
      ]
    },
    {
      "cell_type": "markdown",
      "source": [
        "###### *follow \"https://github.com/mrdbourke/pytorch-deep-learning/blob/main/01_pytorch_workflow.ipynb\""
      ],
      "metadata": {
        "id": "LyZN2iMDuKuc"
      }
    },
    {
      "cell_type": "code",
      "source": [
        "what_were_covering = {1: \"data(prepare and load)\",\n",
        "                                        2: \"build model\",\n",
        "                                        3: \"fitting the model to the data (training)\",\n",
        "                                        4: \"making predictions and evaluating a model(inference)\",\n",
        "                                        5:\"saving and loading a model\",\n",
        "                                        6: \" putting it all together\"}\n",
        "what_were_covering"
      ],
      "metadata": {
        "colab": {
          "base_uri": "https://localhost:8080/"
        },
        "id": "d3FTAO8VwHx9",
        "outputId": "be3416b4-3cb6-4df1-defa-4c8d694834c5"
      },
      "execution_count": null,
      "outputs": [
        {
          "output_type": "execute_result",
          "data": {
            "text/plain": [
              "{1: 'data(prepare and load)',\n",
              " 2: 'build model',\n",
              " 3: 'fitting the model to the data (training)',\n",
              " 4: 'making predictions and evaluating a model(inference)',\n",
              " 5: 'saving and loading a model',\n",
              " 6: ' putting it all together'}"
            ]
          },
          "metadata": {},
          "execution_count": 1
        }
      ]
    },
    {
      "cell_type": "code",
      "source": [
        "import torch\n",
        "from torch import nn #nn contains all of pytorch's building blocks for neural networks\n",
        "# follow pytorch documentation\n",
        "import matplotlib.pyplot as plt\n",
        "\n",
        "#check pytorch version\n",
        "torch.__version__"
      ],
      "metadata": {
        "colab": {
          "base_uri": "https://localhost:8080/",
          "height": 36
        },
        "id": "8thklLt1yS4T",
        "outputId": "46cea280-5aec-461f-821f-be3016a4a871"
      },
      "execution_count": null,
      "outputs": [
        {
          "output_type": "execute_result",
          "data": {
            "text/plain": [
              "'2.1.0+cu121'"
            ],
            "application/vnd.google.colaboratory.intrinsic+json": {
              "type": "string"
            }
          },
          "metadata": {},
          "execution_count": 2
        }
      ]
    },
    {
      "cell_type": "markdown",
      "source": [
        "####step : 1\n",
        "* data preparation and loading\n",
        "        data can be almost anything in machine learning\n",
        "                     excel spreadsheet\n",
        "                     Images of any kind\n",
        "                     videos (youtube has lots of data)\n",
        "                     Audio (speeches)\n",
        "                     DNA\n",
        "                     Text\n",
        "* Machine learning is a game of two parts\n",
        "-- get data into a numerical representation\n",
        "-- build a model to study the pattern in that numerical  representation\n",
        "\n",
        "* to showcase this, let's create some *known* data using the linear regression formula\n",
        "* we will use formula of linear regression formula to make a straight line with *known* **parameters**\n"
      ],
      "metadata": {
        "id": "VTLRGzUTyrD3"
      }
    },
    {
      "cell_type": "code",
      "source": [
        "#create known parameters\n",
        "weight = 0.7\n",
        "bias = 0.3\n",
        "\n",
        "start = 0\n",
        "end = 1\n",
        "step = 0.02\n",
        "X = torch.arange(start,end,step).unsqueeze(dim=1)# to make it a two dimensional tensor\n",
        "X[:5]"
      ],
      "metadata": {
        "id": "QTBg05Yu0daw",
        "colab": {
          "base_uri": "https://localhost:8080/"
        },
        "outputId": "5b09ff1e-b327-4b27-f4ac-1d097f1aed8e"
      },
      "execution_count": null,
      "outputs": [
        {
          "output_type": "execute_result",
          "data": {
            "text/plain": [
              "tensor([[0.0000],\n",
              "        [0.0200],\n",
              "        [0.0400],\n",
              "        [0.0600],\n",
              "        [0.0800]])"
            ]
          },
          "metadata": {},
          "execution_count": 10
        }
      ]
    },
    {
      "cell_type": "code",
      "source": [
        "y = weight*X+bias\n",
        "y[:5]"
      ],
      "metadata": {
        "colab": {
          "base_uri": "https://localhost:8080/"
        },
        "id": "CgYz-6iT0b2_",
        "outputId": "d7783117-4df7-467a-9c8f-eba05851ce33"
      },
      "execution_count": null,
      "outputs": [
        {
          "output_type": "execute_result",
          "data": {
            "text/plain": [
              "tensor([[0.3000],\n",
              "        [0.3140],\n",
              "        [0.3280],\n",
              "        [0.3420],\n",
              "        [0.3560]])"
            ]
          },
          "metadata": {},
          "execution_count": 11
        }
      ]
    },
    {
      "cell_type": "code",
      "source": [
        "len(X),len(y)"
      ],
      "metadata": {
        "colab": {
          "base_uri": "https://localhost:8080/"
        },
        "id": "wWBefS731eAv",
        "outputId": "0a45f30d-fd89-4e85-e042-e7bf11adb502"
      },
      "execution_count": null,
      "outputs": [
        {
          "output_type": "execute_result",
          "data": {
            "text/plain": [
              "(50, 50)"
            ]
          },
          "metadata": {},
          "execution_count": 14
        }
      ]
    },
    {
      "cell_type": "markdown",
      "source": [
        "##### splitting data into train and test sets\n",
        " `training set : - 60 to 80% ⏩ Always done`\n",
        "\n",
        "`validation set :- 10 to 20% ⏩ often but not always`\n",
        "\n",
        "`test set : - 10 to 20% ⏩always done `"
      ],
      "metadata": {
        "id": "wdZcv3Nw1-33"
      }
    },
    {
      "cell_type": "markdown",
      "source": [
        "let's create a training set and test set"
      ],
      "metadata": {
        "id": "KWF4XRLV3m5k"
      }
    },
    {
      "cell_type": "code",
      "source": [
        "train_split = int(len(X)*0.8)\n",
        "\n",
        "X_train = X[:train_split]\n",
        "y_train = y[:train_split]\n",
        "X_test = X[train_split:]\n",
        "y_test = y[train_split:]"
      ],
      "metadata": {
        "id": "qH2Ec7IP4kYb"
      },
      "execution_count": null,
      "outputs": []
    },
    {
      "cell_type": "code",
      "source": [
        "len(X_train) ,len (y_train),len(X_test) ,len (y_test)"
      ],
      "metadata": {
        "colab": {
          "base_uri": "https://localhost:8080/"
        },
        "id": "mEr2jz6r49Nu",
        "outputId": "d604045e-813b-43b1-a427-091df26a17a6"
      },
      "execution_count": null,
      "outputs": [
        {
          "output_type": "execute_result",
          "data": {
            "text/plain": [
              "(40, 40, 10, 10)"
            ]
          },
          "metadata": {},
          "execution_count": 17
        }
      ]
    },
    {
      "cell_type": "markdown",
      "source": [
        "how might we better visualize the data , this is where data exploration comes into picture"
      ],
      "metadata": {
        "id": "489oXIqO5GUA"
      }
    },
    {
      "cell_type": "code",
      "source": [
        "def plot_prediction(train_data,train_labels,test_data,test_labels,predictions = None) :\n",
        "  \"\"\"\n",
        "   plot training data and test data and compare predictions\n",
        "  \"\"\"\n",
        "  plt.figure(figsize =(10,7) )\n",
        "  #plot training data\n",
        "  plt.scatter(train_data,train_labels,c = 'r',marker = '*', label = \"training data\", s = 50)\n",
        "  plt.scatter(test_data,test_labels,c = 'g', marker = '.', label = \"test data\", s = 50)\n",
        "  plt.legend()\n",
        "  plt.show()\n"
      ],
      "metadata": {
        "id": "B71U89515qpS"
      },
      "execution_count": null,
      "outputs": []
    },
    {
      "cell_type": "code",
      "source": [
        "plot_prediction(X_train,y_train,X_test,y_test)"
      ],
      "metadata": {
        "colab": {
          "base_uri": "https://localhost:8080/",
          "height": 599
        },
        "id": "cOnyZj4g7btp",
        "outputId": "c9bc0671-f2f0-4454-fece-3f223486fe75"
      },
      "execution_count": null,
      "outputs": [
        {
          "output_type": "display_data",
          "data": {
            "text/plain": [
              "<Figure size 1000x700 with 1 Axes>"
            ],
            "image/png": "[encoded data removed]"
          },
          "metadata": {}
        }
      ]
    },
    {
      "cell_type": "markdown",
      "source": [
        "building 1st pytorch linear regression model"
      ],
      "metadata": {
        "id": "Ic5_4KJD7iaU"
      }
    },
    {
      "cell_type": "code",
      "source": [
        "from torch import nn\n",
        "class linearRegression(nn.Module): # -> almost every class in pytorch inherits from nn class\n",
        "  def __init__(self):\n",
        "   super().__init__()\n",
        "   self.weight = nn.parameter(torch.randn(1,  requires_grad = True, dtype = torch.float ))\n",
        "\n",
        "   self.bias = nn.parameter(torch.randn(1,  requires_grad = True, dtype = torch.float ))\n",
        "\n",
        "   def forward(self, x:torch.Tensor)  ->torch.Tensor :  #\"x\" is the input data\n",
        "    return self.weight*x+self.bias #this is the linear regression formula\n",
        "\n"
      ],
      "metadata": {
        "id": "YwM75MNx-ofe"
      },
      "execution_count": null,
      "outputs": []
    },
    {
      "cell_type": "code",
      "source": [],
      "metadata": {
        "id": "anenRQSNCP8x"
      },
      "execution_count": null,
      "outputs": []
    }
  ]
}