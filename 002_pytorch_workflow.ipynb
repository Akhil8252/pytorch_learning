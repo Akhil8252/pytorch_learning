{
  "nbformat": 4,
  "nbformat_minor": 0,
  "metadata": {
    "colab": {
      "provenance": [],
      "authorship_tag": "ABX9TyN1PrzIareRFPgXUgqO7wg8",
      "include_colab_link": true
    },
    "kernelspec": {
      "name": "python3",
      "display_name": "Python 3"
    },
    "language_info": {
      "name": "python"
    }
  },
  "cells": [
    {
      "cell_type": "markdown",
      "metadata": {
        "id": "view-in-github",
        "colab_type": "text"
      },
      "source": [
        "<a href=\"https://colab.research.google.com/github/Akhil8252/pytorch_learning/blob/main/002_pytorch_workflow.ipynb\" target=\"_parent\"><img src=\"https://colab.research.google.com/assets/colab-badge.svg\" alt=\"Open In Colab\"/></a>"
      ]
    },
    {
      "cell_type": "markdown",
      "source": [
        "###### *follow \"https://github.com/mrdbourke/pytorch-deep-learning/blob/main/01_pytorch_workflow.ipynb\""
      ],
      "metadata": {
        "id": "LyZN2iMDuKuc"
      }
    },
    {
      "cell_type": "code",
      "source": [
        "what_were_covering = {1: \"data(prepare and load)\",\n",
        "                                        2: \"build model\",\n",
        "                                        3: \"fitting the model to the data (training)\",\n",
        "                                        4: \"making predictions and evaluating a model(inference)\",\n",
        "                                        5:\"saving and loading a model\",\n",
        "                                        6: \" putting it all together\"}\n",
        "what_were_covering"
      ],
      "metadata": {
        "colab": {
          "base_uri": "https://localhost:8080/"
        },
        "id": "d3FTAO8VwHx9",
        "outputId": "45a11227-305c-4d0d-9ea1-402535b87fee"
      },
      "execution_count": 25,
      "outputs": [
        {
          "output_type": "execute_result",
          "data": {
            "text/plain": [
              "{1: 'data(prepare and load)',\n",
              " 2: 'build model',\n",
              " 3: 'fitting the model to the data (training)',\n",
              " 4: 'making predictions and evaluating a model(inference)',\n",
              " 5: 'saving and loading a model',\n",
              " 6: ' putting it all together'}"
            ]
          },
          "metadata": {},
          "execution_count": 25
        }
      ]
    },
    {
      "cell_type": "code",
      "source": [
        "import torch\n",
        "from torch import nn #nn contains all of pytorch's building blocks for neural networks\n",
        "# follow pytorch documentation\n",
        "import matplotlib.pyplot as plt\n",
        "\n",
        "#check pytorch version\n",
        "torch.__version__"
      ],
      "metadata": {
        "colab": {
          "base_uri": "https://localhost:8080/",
          "height": 35
        },
        "id": "8thklLt1yS4T",
        "outputId": "4a9eec44-f2fa-40db-fc2b-48359506d88c"
      },
      "execution_count": 26,
      "outputs": [
        {
          "output_type": "execute_result",
          "data": {
            "text/plain": [
              "'2.1.0+cu121'"
            ],
            "application/vnd.google.colaboratory.intrinsic+json": {
              "type": "string"
            }
          },
          "metadata": {},
          "execution_count": 26
        }
      ]
    },
    {
      "cell_type": "markdown",
      "source": [
        "####step : 1\n",
        "* data preparation and loading\n",
        "        data can be almost anything in machine learning\n",
        "                     excel spreadsheet\n",
        "                     Images of any kind\n",
        "                     videos (youtube has lots of data)\n",
        "                     Audio (speeches)\n",
        "                     DNA\n",
        "                     Text\n",
        "* Machine learning is a game of two parts\n",
        "-- get data into a numerical representation\n",
        "-- build a model to study the pattern in that numerical  representation\n",
        "\n",
        "* to showcase this, let's create some *known* data using the linear regression formula\n",
        "* we will use formula of linear regression formula to make a straight line with *known* **parameters**\n"
      ],
      "metadata": {
        "id": "VTLRGzUTyrD3"
      }
    },
    {
      "cell_type": "code",
      "source": [
        "#create known parameters\n",
        "weight = 0.7\n",
        "bias = 0.3\n",
        "\n",
        "start = 0\n",
        "end = 1\n",
        "step = 0.02\n",
        "X = torch.arange(start,end,step).unsqueeze(dim=1)# to make it a two dimensional tensor\n",
        "print(X[:5])\n",
        "print(X.shape)"
      ],
      "metadata": {
        "id": "QTBg05Yu0daw",
        "colab": {
          "base_uri": "https://localhost:8080/"
        },
        "outputId": "78d9b250-0621-46a9-b009-442291dc0378"
      },
      "execution_count": 27,
      "outputs": [
        {
          "output_type": "stream",
          "name": "stdout",
          "text": [
            "tensor([[0.0000],\n",
            "        [0.0200],\n",
            "        [0.0400],\n",
            "        [0.0600],\n",
            "        [0.0800]])\n",
            "torch.Size([50, 1])\n"
          ]
        }
      ]
    },
    {
      "cell_type": "code",
      "source": [
        "y = weight*X+bias\n",
        "y[:5]"
      ],
      "metadata": {
        "colab": {
          "base_uri": "https://localhost:8080/"
        },
        "id": "CgYz-6iT0b2_",
        "outputId": "4056616a-8f61-4f95-b367-6de6958a1b96"
      },
      "execution_count": 28,
      "outputs": [
        {
          "output_type": "execute_result",
          "data": {
            "text/plain": [
              "tensor([[0.3000],\n",
              "        [0.3140],\n",
              "        [0.3280],\n",
              "        [0.3420],\n",
              "        [0.3560]])"
            ]
          },
          "metadata": {},
          "execution_count": 28
        }
      ]
    },
    {
      "cell_type": "code",
      "source": [
        "len(X),len(y)"
      ],
      "metadata": {
        "colab": {
          "base_uri": "https://localhost:8080/"
        },
        "id": "wWBefS731eAv",
        "outputId": "5d9cac97-3078-4fab-d2a7-7bdbc0dcabcb"
      },
      "execution_count": 29,
      "outputs": [
        {
          "output_type": "execute_result",
          "data": {
            "text/plain": [
              "(50, 50)"
            ]
          },
          "metadata": {},
          "execution_count": 29
        }
      ]
    },
    {
      "cell_type": "markdown",
      "source": [
        "##### splitting data into train and test sets\n",
        " `training set : - 60 to 80% ⏩ Always done`\n",
        "\n",
        "`validation set :- 10 to 20% ⏩ often but not always`\n",
        "\n",
        "`test set : - 10 to 20% ⏩always done `"
      ],
      "metadata": {
        "id": "wdZcv3Nw1-33"
      }
    },
    {
      "cell_type": "markdown",
      "source": [
        "let's create a training set and test set"
      ],
      "metadata": {
        "id": "KWF4XRLV3m5k"
      }
    },
    {
      "cell_type": "code",
      "source": [
        "train_split = int(len(X)*0.8)\n",
        "\n",
        "X_train = X[:train_split]\n",
        "y_train = y[:train_split]\n",
        "X_test = X[train_split:]\n",
        "y_test = y[train_split:]"
      ],
      "metadata": {
        "id": "qH2Ec7IP4kYb"
      },
      "execution_count": 30,
      "outputs": []
    },
    {
      "cell_type": "code",
      "source": [
        "len(X_train) ,len (y_train),len(X_test) ,len (y_test)"
      ],
      "metadata": {
        "colab": {
          "base_uri": "https://localhost:8080/"
        },
        "id": "mEr2jz6r49Nu",
        "outputId": "bd53b5ef-b73e-433c-d825-0acdbcf9d5c9"
      },
      "execution_count": 31,
      "outputs": [
        {
          "output_type": "execute_result",
          "data": {
            "text/plain": [
              "(40, 40, 10, 10)"
            ]
          },
          "metadata": {},
          "execution_count": 31
        }
      ]
    },
    {
      "cell_type": "markdown",
      "source": [
        "how might we better visualize the data , this is where data exploration comes into picture"
      ],
      "metadata": {
        "id": "489oXIqO5GUA"
      }
    },
    {
      "cell_type": "code",
      "source": [
        "def plot_prediction(train_data=X_train,train_labels=y_train,test_data=X_test,test_labels = y_test,predictions = None) :\n",
        "  \"\"\"\n",
        "   plot training data and test data and compare predictions\n",
        "  \"\"\"\n",
        "  plt.figure(figsize =(10,7) )\n",
        "  #plot training data\n",
        "  plt.scatter(train_data,train_labels,c = 'r',marker = '*', label = \"training data\", s = 50)\n",
        "  plt.scatter(test_data,test_labels,c = 'g', marker = '.', label = \"test data\", s = 50)\n",
        "  plt.legend()\n",
        "  plt.show()\n"
      ],
      "metadata": {
        "id": "B71U89515qpS"
      },
      "execution_count": 32,
      "outputs": []
    },
    {
      "cell_type": "code",
      "source": [
        "plot_prediction(X_train,y_train,X_test,y_test)"
      ],
      "metadata": {
        "colab": {
          "base_uri": "https://localhost:8080/",
          "height": 599
        },
        "id": "cOnyZj4g7btp",
        "outputId": "13158789-9617-4bc8-df60-f174cdc888ef"
      },
      "execution_count": 33,
      "outputs": [
        {
          "output_type": "display_data",
          "data": {
            "text/plain": [
              "<Figure size 1000x700 with 1 Axes>"
            ],
            "image/png": "[encoded data removed]"
          },
          "metadata": {}
        }
      ]
    },
    {
      "cell_type": "markdown",
      "source": [
        "building 1st pytorch linear regression model"
      ],
      "metadata": {
        "id": "Ic5_4KJD7iaU"
      }
    },
    {
      "cell_type": "code",
      "source": [
        "from torch import nn\n",
        "class linearRegression(nn.Module): # -> almost every class in pytorch inherits from nn class\n",
        "  def __init__(self):\n",
        "    super().__init__()\n",
        "    self.weight = nn.Parameter(torch.randn(1,  requires_grad = True, dtype = torch.float ))# randn has been used for random number generating from normal distribution having mean 0 and std dev 1.\n",
        "\n",
        "    self.bias = nn.Parameter(torch.randn(1,  requires_grad = True, dtype = torch.float ))\n",
        "\n",
        "  def forward(self, x:torch.Tensor)  ->torch.Tensor :  #\"x\" is the input data\n",
        "    return self.weight*x+self.bias #this is the linear regression formula\n",
        "\n"
      ],
      "metadata": {
        "id": "YwM75MNx-ofe"
      },
      "execution_count": 34,
      "outputs": []
    },
    {
      "cell_type": "code",
      "source": [
        "lr = linearRegression()\n",
        "lr.forward(X_train),y_train"
      ],
      "metadata": {
        "id": "anenRQSNCP8x",
        "colab": {
          "base_uri": "https://localhost:8080/"
        },
        "outputId": "90da8c85-92e2-419e-d048-1277db4acc0b"
      },
      "execution_count": 35,
      "outputs": [
        {
          "output_type": "execute_result",
          "data": {
            "text/plain": [
              "(tensor([[-0.1863],\n",
              "         [-0.2088],\n",
              "         [-0.2312],\n",
              "         [-0.2537],\n",
              "         [-0.2762],\n",
              "         [-0.2986],\n",
              "         [-0.3211],\n",
              "         [-0.3435],\n",
              "         [-0.3660],\n",
              "         [-0.3884],\n",
              "         [-0.4109],\n",
              "         [-0.4334],\n",
              "         [-0.4558],\n",
              "         [-0.4783],\n",
              "         [-0.5007],\n",
              "         [-0.5232],\n",
              "         [-0.5456],\n",
              "         [-0.5681],\n",
              "         [-0.5906],\n",
              "         [-0.6130],\n",
              "         [-0.6355],\n",
              "         [-0.6579],\n",
              "         [-0.6804],\n",
              "         [-0.7028],\n",
              "         [-0.7253],\n",
              "         [-0.7478],\n",
              "         [-0.7702],\n",
              "         [-0.7927],\n",
              "         [-0.8151],\n",
              "         [-0.8376],\n",
              "         [-0.8600],\n",
              "         [-0.8825],\n",
              "         [-0.9050],\n",
              "         [-0.9274],\n",
              "         [-0.9499],\n",
              "         [-0.9723],\n",
              "         [-0.9948],\n",
              "         [-1.0172],\n",
              "         [-1.0397],\n",
              "         [-1.0622]], grad_fn=<AddBackward0>),\n",
              " tensor([[0.3000],\n",
              "         [0.3140],\n",
              "         [0.3280],\n",
              "         [0.3420],\n",
              "         [0.3560],\n",
              "         [0.3700],\n",
              "         [0.3840],\n",
              "         [0.3980],\n",
              "         [0.4120],\n",
              "         [0.4260],\n",
              "         [0.4400],\n",
              "         [0.4540],\n",
              "         [0.4680],\n",
              "         [0.4820],\n",
              "         [0.4960],\n",
              "         [0.5100],\n",
              "         [0.5240],\n",
              "         [0.5380],\n",
              "         [0.5520],\n",
              "         [0.5660],\n",
              "         [0.5800],\n",
              "         [0.5940],\n",
              "         [0.6080],\n",
              "         [0.6220],\n",
              "         [0.6360],\n",
              "         [0.6500],\n",
              "         [0.6640],\n",
              "         [0.6780],\n",
              "         [0.6920],\n",
              "         [0.7060],\n",
              "         [0.7200],\n",
              "         [0.7340],\n",
              "         [0.7480],\n",
              "         [0.7620],\n",
              "         [0.7760],\n",
              "         [0.7900],\n",
              "         [0.8040],\n",
              "         [0.8180],\n",
              "         [0.8320],\n",
              "         [0.8460]]))"
            ]
          },
          "metadata": {},
          "execution_count": 35
        }
      ]
    },
    {
      "cell_type": "markdown",
      "source": [
        "### what our model does is :\n",
        " - start with random values(weight and bias)\n",
        " - look at the training data and adjust the random values to better represent (or get closer to ) the ideal values(weight and biases used to creat the data)\n",
        "\n",
        "### how does it do so?\n",
        " - through two main algo:\n",
        " 1. Gradient descent\n",
        " 2. Backpropafation"
      ],
      "metadata": {
        "id": "6NeiAJcyzX7z"
      }
    },
    {
      "cell_type": "markdown",
      "source": [
        "#### pytorch model building essentials\n",
        "\n",
        "* torch.nn: - contains all of the buildings for computational graphs(a neural network can be considered a computational graphs)\n",
        "* torch.nn.Parameter :- what parameter should the model try and learn, often a pytorch layer from torch.nn will set these for us\n",
        "* torch.nn.Module : -  base class for all neural network module(if we subclass it , we should overwrite forward method)\n",
        "* torch.optim :- this contains the optimizers which helps in gradient descent\n",
        "* torch.utils.data.dataset :- represents a map between key (label) and sample(fetaures)pairs of your data. such as images and their associated labels\n",
        "\n",
        "\n",
        "`follow pytorch cheat sheet`\n",
        "\"https://pytorch.org/tutorials/beginner/ptcheat.html\""
      ],
      "metadata": {
        "id": "HAMp3qw-5D4s"
      }
    },
    {
      "cell_type": "markdown",
      "source": [
        "#### checking the contents of our pytorch model\n",
        "- we can check our model parameter or what's inside our model using `.parameters()`"
      ],
      "metadata": {
        "id": "DmZqbgS7MUDQ"
      }
    },
    {
      "cell_type": "code",
      "source": [
        "#create a random seed\n",
        "torch.manual_seed(42)\n",
        "\n",
        "# create an instance of the model(tis is a subclass of the nn.Module)\n",
        "model = linearRegression()\n",
        "#check out the parameters\n",
        "list(model.parameters())"
      ],
      "metadata": {
        "colab": {
          "base_uri": "https://localhost:8080/"
        },
        "id": "YB2Oyl_tPnrj",
        "outputId": "05a018be-c382-4b26-dc0d-20d02e528227"
      },
      "execution_count": 36,
      "outputs": [
        {
          "output_type": "execute_result",
          "data": {
            "text/plain": [
              "[Parameter containing:\n",
              " tensor([0.3367], requires_grad=True),\n",
              " Parameter containing:\n",
              " tensor([0.1288], requires_grad=True)]"
            ]
          },
          "metadata": {},
          "execution_count": 36
        }
      ]
    },
    {
      "cell_type": "code",
      "source": [
        "model.state_dict()"
      ],
      "metadata": {
        "colab": {
          "base_uri": "https://localhost:8080/"
        },
        "id": "0TZ5uhIfQbeL",
        "outputId": "3ad5a8df-3f20-4d2b-a3c4-8cba0ae4f4da"
      },
      "execution_count": 37,
      "outputs": [
        {
          "output_type": "execute_result",
          "data": {
            "text/plain": [
              "OrderedDict([('weight', tensor([0.3367])), ('bias', tensor([0.1288]))])"
            ]
          },
          "metadata": {},
          "execution_count": 37
        }
      ]
    },
    {
      "cell_type": "code",
      "source": [
        "weight,bias"
      ],
      "metadata": {
        "colab": {
          "base_uri": "https://localhost:8080/"
        },
        "id": "HZZy__mhRP7Y",
        "outputId": "15dbbf5f-98d1-40d1-fc50-1f205befdd46"
      },
      "execution_count": 38,
      "outputs": [
        {
          "output_type": "execute_result",
          "data": {
            "text/plain": [
              "(0.7, 0.3)"
            ]
          },
          "metadata": {},
          "execution_count": 38
        }
      ]
    },
    {
      "cell_type": "markdown",
      "source": [
        "#### let's make predictions using `torch.inference_mode()`\n",
        "*To check our model's prediction accuracy , let's ee how well it predicts the y_test based on X_test\n",
        "* when we pass the data through the model in `forward` function, this will make some inferences."
      ],
      "metadata": {
        "id": "BG2wFnMVRlby"
      }
    },
    {
      "cell_type": "code",
      "source": [
        "X_test, y_test"
      ],
      "metadata": {
        "colab": {
          "base_uri": "https://localhost:8080/"
        },
        "id": "QdBawR6hOabt",
        "outputId": "b0d61c2c-24cb-4b0a-dc8c-7b3a8b5bdd37"
      },
      "execution_count": 39,
      "outputs": [
        {
          "output_type": "execute_result",
          "data": {
            "text/plain": [
              "(tensor([[0.8000],\n",
              "         [0.8200],\n",
              "         [0.8400],\n",
              "         [0.8600],\n",
              "         [0.8800],\n",
              "         [0.9000],\n",
              "         [0.9200],\n",
              "         [0.9400],\n",
              "         [0.9600],\n",
              "         [0.9800]]),\n",
              " tensor([[0.8600],\n",
              "         [0.8740],\n",
              "         [0.8880],\n",
              "         [0.9020],\n",
              "         [0.9160],\n",
              "         [0.9300],\n",
              "         [0.9440],\n",
              "         [0.9580],\n",
              "         [0.9720],\n",
              "         [0.9860]]))"
            ]
          },
          "metadata": {},
          "execution_count": 39
        }
      ]
    },
    {
      "cell_type": "code",
      "source": [
        "# Make predictions with models\n",
        "\n",
        "with torch.inference_mode():\n",
        "    y_preds = model(X_test)\n",
        "\n",
        "# we can also do same thing using torch.no_grad(), however inference_mode() is preferred\n",
        "\n",
        "with torch.no_grad():\n",
        "    y_pred = model(X_test)\n",
        "\n",
        "y_preds"
      ],
      "metadata": {
        "colab": {
          "base_uri": "https://localhost:8080/"
        },
        "id": "m_AiXh1uOr3k",
        "outputId": "e1c0dbd8-b9c8-4f41-b6d4-6bbfff342621"
      },
      "execution_count": 40,
      "outputs": [
        {
          "output_type": "execute_result",
          "data": {
            "text/plain": [
              "tensor([[0.3982],\n",
              "        [0.4049],\n",
              "        [0.4116],\n",
              "        [0.4184],\n",
              "        [0.4251],\n",
              "        [0.4318],\n",
              "        [0.4386],\n",
              "        [0.4453],\n",
              "        [0.4520],\n",
              "        [0.4588]])"
            ]
          },
          "metadata": {},
          "execution_count": 40
        }
      ]
    },
    {
      "cell_type": "markdown",
      "source": [
        "* InferenceMode is a new context manager analogous to no_grad to be used when you are certain your operations will have no interactions with autograd (e.g., model training). Code run under this mode gets better performance by disabling view tracking and version counter bumps. Note that unlike some other mechanisms that locally enable or disable grad, entering inference_mode also disables to forward-mode AD."
      ],
      "metadata": {
        "id": "tpgBjR02ZJVR"
      }
    },
    {
      "cell_type": "code",
      "source": [
        "plt.scatter(X_train,y_train,c = 'r',marker = '*',s = 100,label = \"train\")\n",
        "plt.scatter(X_test,y_test,c = 'g',marker = '.',s = 100,label = \"test\")\n",
        "plt.scatter(X_test,y_preds,c = 'b',marker = '+',s = 100,label=\"predictions\")\n",
        "plt.legend(loc = 2)\n",
        "plt.show()"
      ],
      "metadata": {
        "colab": {
          "base_uri": "https://localhost:8080/",
          "height": 430
        },
        "id": "ZXAg0xwzRJiD",
        "outputId": "7c3fa915-a91b-4001-a45d-98f1cb79d7b2"
      },
      "execution_count": 58,
      "outputs": [
        {
          "output_type": "display_data",
          "data": {
            "text/plain": [
              "<Figure size 640x480 with 1 Axes>"
            ],
            "image/png": "[encoded data removed]"
          },
          "metadata": {}
        }
      ]
    },
    {
      "cell_type": "markdown",
      "source": [
        "#### Training a model, simply means move the model from some unknown parameters(may be random no) to some known parameters\n",
        "* movement is based on how mush the trained model is deviating from the actual model. i.e finding the error\n",
        "\n",
        "* follow \"Torch.nn->cost function in official documentation\"\n",
        "\n",
        "* loss function is also called \"cost function or criterion\"\n",
        "\n",
        "* Loss function :- A function to measure the deviation of predicted result from actual result\n",
        "\n",
        "* optimizers:-Takes into the account, the loss of a model and adjust the model's parameters(e.g weight and bias in your case) to improve the loss function and\n",
        "\n",
        "specifically for pytorch we need:\n",
        "* a training loop\n",
        "* a test loop\n"
      ],
      "metadata": {
        "id": "YqEnArtUSpT0"
      }
    },
    {
      "cell_type": "code",
      "source": [
        "list(model.parameters())"
      ],
      "metadata": {
        "colab": {
          "base_uri": "https://localhost:8080/"
        },
        "id": "iGYc0j4canKg",
        "outputId": "5421f83f-911b-4930-8af9-1ce60720a8c6"
      },
      "execution_count": 60,
      "outputs": [
        {
          "output_type": "execute_result",
          "data": {
            "text/plain": [
              "[Parameter containing:\n",
              " tensor([0.3367], requires_grad=True),\n",
              " Parameter containing:\n",
              " tensor([0.1288], requires_grad=True)]"
            ]
          },
          "metadata": {},
          "execution_count": 60
        }
      ]
    },
    {
      "cell_type": "code",
      "source": [
        "model.state_dict()"
      ],
      "metadata": {
        "colab": {
          "base_uri": "https://localhost:8080/"
        },
        "id": "fa7vdVzliSJP",
        "outputId": "aca60a79-c8e2-4093-ee38-b23c707e9312"
      },
      "execution_count": 62,
      "outputs": [
        {
          "output_type": "execute_result",
          "data": {
            "text/plain": [
              "OrderedDict([('weight', tensor([0.3367])), ('bias', tensor([0.1288]))])"
            ]
          },
          "metadata": {},
          "execution_count": 62
        }
      ]
    },
    {
      "cell_type": "markdown",
      "source": [
        "#### follow this for loss function in pytorch \"https://pytorch.org/docs/stable/nn.html#loss-functions\"\n",
        "#### follow this for loss function in pytorch\"https://pytorch.org/docs/stable/optim.html\""
      ],
      "metadata": {
        "id": "dfgOLZppibUB"
      }
    },
    {
      "cell_type": "markdown",
      "source": [
        "#### MAE_loss = torch.mean(torch.abs(y_pred-y_test)) or\n",
        "#### MAE_loss = torch.nn.L1Loss()"
      ],
      "metadata": {
        "id": "F0-kkBjCj5r8"
      }
    },
    {
      "cell_type": "code",
      "source": [
        "#setup a loss function\n",
        "\n",
        "loss_fn = nn.L1Loss()\n",
        "\n",
        "# setup an optimizers(schochastic gradient descent)\n",
        "optimizer = torch.optim.SGD(params = model.parameters(),\n",
        "                            lr = 0.01)#lr = learning rate"
      ],
      "metadata": {
        "id": "t_7Z3-8qkJHj"
      },
      "execution_count": 77,
      "outputs": []
    },
    {
      "cell_type": "code",
      "source": [
        "\n"
      ],
      "metadata": {
        "colab": {
          "base_uri": "https://localhost:8080/",
          "height": 338
        },
        "id": "mhVxnBRKkotd",
        "outputId": "02cdeb24-26fd-45ae-a66b-f3c3bdfed9fe"
      },
      "execution_count": 72,
      "outputs": [
        {
          "output_type": "error",
          "ename": "RuntimeError",
          "evalue": "Boolean value of Tensor with more than one value is ambiguous",
          "traceback": [
            "\u001b[0;31m---------------------------------------------------------------------------\u001b[0m",
            "\u001b[0;31mRuntimeError\u001b[0m                              Traceback (most recent call last)",
            "\u001b[0;32m<ipython-input-72-eb7b439708bd>\u001b[0m in \u001b[0;36m<cell line: 1>\u001b[0;34m()\u001b[0m\n\u001b[0;32m----> 1\u001b[0;31m \u001b[0mmae_loss\u001b[0m \u001b[0;34m=\u001b[0m \u001b[0mnn\u001b[0m\u001b[0;34m.\u001b[0m\u001b[0mL1Loss\u001b[0m\u001b[0;34m(\u001b[0m\u001b[0my_preds\u001b[0m\u001b[0;34m-\u001b[0m\u001b[0my_test\u001b[0m\u001b[0;34m)\u001b[0m\u001b[0;34m\u001b[0m\u001b[0;34m\u001b[0m\u001b[0m\n\u001b[0m\u001b[1;32m      2\u001b[0m \u001b[0mmae_loss\u001b[0m\u001b[0;34m\u001b[0m\u001b[0;34m\u001b[0m\u001b[0m\n",
            "\u001b[0;32m/usr/local/lib/python3.10/dist-packages/torch/nn/modules/loss.py\u001b[0m in \u001b[0;36m__init__\u001b[0;34m(self, size_average, reduce, reduction)\u001b[0m\n\u001b[1;32m     96\u001b[0m \u001b[0;34m\u001b[0m\u001b[0m\n\u001b[1;32m     97\u001b[0m     \u001b[0;32mdef\u001b[0m \u001b[0m__init__\u001b[0m\u001b[0;34m(\u001b[0m\u001b[0mself\u001b[0m\u001b[0;34m,\u001b[0m \u001b[0msize_average\u001b[0m\u001b[0;34m=\u001b[0m\u001b[0;32mNone\u001b[0m\u001b[0;34m,\u001b[0m \u001b[0mreduce\u001b[0m\u001b[0;34m=\u001b[0m\u001b[0;32mNone\u001b[0m\u001b[0;34m,\u001b[0m \u001b[0mreduction\u001b[0m\u001b[0;34m:\u001b[0m \u001b[0mstr\u001b[0m \u001b[0;34m=\u001b[0m \u001b[0;34m'mean'\u001b[0m\u001b[0;34m)\u001b[0m \u001b[0;34m->\u001b[0m \u001b[0;32mNone\u001b[0m\u001b[0;34m:\u001b[0m\u001b[0;34m\u001b[0m\u001b[0;34m\u001b[0m\u001b[0m\n\u001b[0;32m---> 98\u001b[0;31m         \u001b[0msuper\u001b[0m\u001b[0;34m(\u001b[0m\u001b[0;34m)\u001b[0m\u001b[0;34m.\u001b[0m\u001b[0m__init__\u001b[0m\u001b[0;34m(\u001b[0m\u001b[0msize_average\u001b[0m\u001b[0;34m,\u001b[0m \u001b[0mreduce\u001b[0m\u001b[0;34m,\u001b[0m \u001b[0mreduction\u001b[0m\u001b[0;34m)\u001b[0m\u001b[0;34m\u001b[0m\u001b[0;34m\u001b[0m\u001b[0m\n\u001b[0m\u001b[1;32m     99\u001b[0m \u001b[0;34m\u001b[0m\u001b[0m\n\u001b[1;32m    100\u001b[0m     \u001b[0;32mdef\u001b[0m \u001b[0mforward\u001b[0m\u001b[0;34m(\u001b[0m\u001b[0mself\u001b[0m\u001b[0;34m,\u001b[0m \u001b[0minput\u001b[0m\u001b[0;34m:\u001b[0m \u001b[0mTensor\u001b[0m\u001b[0;34m,\u001b[0m \u001b[0mtarget\u001b[0m\u001b[0;34m:\u001b[0m \u001b[0mTensor\u001b[0m\u001b[0;34m)\u001b[0m \u001b[0;34m->\u001b[0m \u001b[0mTensor\u001b[0m\u001b[0;34m:\u001b[0m\u001b[0;34m\u001b[0m\u001b[0;34m\u001b[0m\u001b[0m\n",
            "\u001b[0;32m/usr/local/lib/python3.10/dist-packages/torch/nn/modules/loss.py\u001b[0m in \u001b[0;36m__init__\u001b[0;34m(self, size_average, reduce, reduction)\u001b[0m\n\u001b[1;32m     21\u001b[0m         \u001b[0msuper\u001b[0m\u001b[0;34m(\u001b[0m\u001b[0;34m)\u001b[0m\u001b[0;34m.\u001b[0m\u001b[0m__init__\u001b[0m\u001b[0;34m(\u001b[0m\u001b[0;34m)\u001b[0m\u001b[0;34m\u001b[0m\u001b[0;34m\u001b[0m\u001b[0m\n\u001b[1;32m     22\u001b[0m         \u001b[0;32mif\u001b[0m \u001b[0msize_average\u001b[0m \u001b[0;32mis\u001b[0m \u001b[0;32mnot\u001b[0m \u001b[0;32mNone\u001b[0m \u001b[0;32mor\u001b[0m \u001b[0mreduce\u001b[0m \u001b[0;32mis\u001b[0m \u001b[0;32mnot\u001b[0m \u001b[0;32mNone\u001b[0m\u001b[0;34m:\u001b[0m\u001b[0;34m\u001b[0m\u001b[0;34m\u001b[0m\u001b[0m\n\u001b[0;32m---> 23\u001b[0;31m             \u001b[0mself\u001b[0m\u001b[0;34m.\u001b[0m\u001b[0mreduction\u001b[0m\u001b[0;34m:\u001b[0m \u001b[0mstr\u001b[0m \u001b[0;34m=\u001b[0m \u001b[0m_Reduction\u001b[0m\u001b[0;34m.\u001b[0m\u001b[0mlegacy_get_string\u001b[0m\u001b[0;34m(\u001b[0m\u001b[0msize_average\u001b[0m\u001b[0;34m,\u001b[0m \u001b[0mreduce\u001b[0m\u001b[0;34m)\u001b[0m\u001b[0;34m\u001b[0m\u001b[0;34m\u001b[0m\u001b[0m\n\u001b[0m\u001b[1;32m     24\u001b[0m         \u001b[0;32melse\u001b[0m\u001b[0;34m:\u001b[0m\u001b[0;34m\u001b[0m\u001b[0;34m\u001b[0m\u001b[0m\n\u001b[1;32m     25\u001b[0m             \u001b[0mself\u001b[0m\u001b[0;34m.\u001b[0m\u001b[0mreduction\u001b[0m \u001b[0;34m=\u001b[0m \u001b[0mreduction\u001b[0m\u001b[0;34m\u001b[0m\u001b[0;34m\u001b[0m\u001b[0m\n",
            "\u001b[0;32m/usr/local/lib/python3.10/dist-packages/torch/nn/_reduction.py\u001b[0m in \u001b[0;36mlegacy_get_string\u001b[0;34m(size_average, reduce, emit_warning)\u001b[0m\n\u001b[1;32m     33\u001b[0m         \u001b[0mreduce\u001b[0m \u001b[0;34m=\u001b[0m \u001b[0;32mTrue\u001b[0m\u001b[0;34m\u001b[0m\u001b[0;34m\u001b[0m\u001b[0m\n\u001b[1;32m     34\u001b[0m \u001b[0;34m\u001b[0m\u001b[0m\n\u001b[0;32m---> 35\u001b[0;31m     \u001b[0;32mif\u001b[0m \u001b[0msize_average\u001b[0m \u001b[0;32mand\u001b[0m \u001b[0mreduce\u001b[0m\u001b[0;34m:\u001b[0m\u001b[0;34m\u001b[0m\u001b[0;34m\u001b[0m\u001b[0m\n\u001b[0m\u001b[1;32m     36\u001b[0m         \u001b[0mret\u001b[0m \u001b[0;34m=\u001b[0m \u001b[0;34m'mean'\u001b[0m\u001b[0;34m\u001b[0m\u001b[0;34m\u001b[0m\u001b[0m\n\u001b[1;32m     37\u001b[0m     \u001b[0;32melif\u001b[0m \u001b[0mreduce\u001b[0m\u001b[0;34m:\u001b[0m\u001b[0;34m\u001b[0m\u001b[0;34m\u001b[0m\u001b[0m\n",
            "\u001b[0;31mRuntimeError\u001b[0m: Boolean value of Tensor with more than one value is ambiguous"
          ]
        }
      ]
    },
    {
      "cell_type": "code",
      "source": [],
      "metadata": {
        "id": "YHPzi4lukzQt"
      },
      "execution_count": null,
      "outputs": []
    }
  ]
}